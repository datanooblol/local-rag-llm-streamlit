{
 "cells": [
  {
   "cell_type": "code",
   "execution_count": 1,
   "id": "f68eb564-40f4-4cfb-aeb9-9310b008f7d2",
   "metadata": {},
   "outputs": [],
   "source": [
    "%load_ext autoreload\n",
    "%autoreload 2"
   ]
  },
  {
   "cell_type": "markdown",
   "id": "6cd5b0e3-55d2-4f87-b558-4d59fea8edd9",
   "metadata": {},
   "source": [
    "# Import Libs"
   ]
  },
  {
   "cell_type": "code",
   "execution_count": 2,
   "id": "ff927060-c64a-4a60-a9fc-2a4f8b874eca",
   "metadata": {},
   "outputs": [],
   "source": [
    "from package import embeddings as ebd"
   ]
  },
  {
   "cell_type": "code",
   "execution_count": 64,
   "id": "36d39c66-ec39-4889-8d69-233a8dd6bc35",
   "metadata": {},
   "outputs": [],
   "source": [
    "import bs4\n",
    "from langchain.text_splitter import RecursiveCharacterTextSplitter\n",
    "from langchain_community.document_loaders import WebBaseLoader\n",
    "from langchain_community.vectorstores import Chroma\n",
    "from langchain_community.embeddings import OllamaEmbeddings\n",
    "import ollama\n",
    "from langchain_community.llms import Ollama\n",
    "import chromadb"
   ]
  },
  {
   "cell_type": "markdown",
   "id": "d42337c3-9ad4-47a1-b2e9-086f8460209d",
   "metadata": {},
   "source": [
    "# Import contants and udf"
   ]
  },
  {
   "cell_type": "code",
   "execution_count": 65,
   "id": "a3c1d7bd-e065-4fba-b807-e38522abd9a2",
   "metadata": {},
   "outputs": [],
   "source": [
    "llm = Ollama(base_url = 'http://localhost:11434', model=\"mistral\")"
   ]
  },
  {
   "cell_type": "code",
   "execution_count": 37,
   "id": "ba4243d5-1a4b-427d-8a8e-0c6bc63a4c30",
   "metadata": {},
   "outputs": [],
   "source": [
    "embeddings = OllamaEmbeddings(model=\"mistral\")"
   ]
  },
  {
   "cell_type": "code",
   "execution_count": 39,
   "id": "040cc53f-fa4d-4ec5-af56-44dbfd85e1fa",
   "metadata": {},
   "outputs": [],
   "source": [
    "persist_directory = \"./vectordb\""
   ]
  },
  {
   "cell_type": "code",
   "execution_count": 7,
   "id": "2c6013cb-c0e1-44ea-91de-f77ede50354c",
   "metadata": {},
   "outputs": [],
   "source": [
    "def get_docs_from_url(url):\n",
    "    loader = WebBaseLoader(\n",
    "        web_paths=(url,),\n",
    "        bs_kwargs=dict()\n",
    "    )\n",
    "    text = loader.load()\n",
    "    return text\n",
    "\n",
    "def create_documents(text):    \n",
    "    text_splitter = RecursiveCharacterTextSplitter(chunk_size=1000, chunk_overlap=200) # remember this we'll discuss about the overlapping later\n",
    "    documents = text_splitter.split_documents(text)\n",
    "    return documents\n",
    "\n",
    "def add_to_vectordb(documents, embeddings, persist_directory=None, collection_name=None):\n",
    "    db = Chroma.from_documents(\n",
    "        documents=documents, \n",
    "        embedding=embeddings, \n",
    "        persist_directory=persist_directory, \n",
    "        collection_name=collection_name\n",
    "    )\n",
    "    return db\n",
    "\n",
    "def load_vectordb(embeddings, persist_directory=None, collection_name=None):\n",
    "    vectordb = Chroma(\n",
    "        embedding_function=embeddings,\n",
    "        persist_directory=persist_directory, \n",
    "        collection_name=collection_name, \n",
    "    )\n",
    "    return vectordb\n",
    "\n",
    "def format_context(context):\n",
    "    # text = \"\\n\\n\"\n",
    "    text = \"\\n\"\n",
    "    context = text.join(cntx.page_content for cntx in context)\n",
    "    return context\n",
    "\n",
    "def create_prompt(query, vectordb):\n",
    "    context = vectordb.as_retriever().invoke(query)\n",
    "    context = format_context(context)\n",
    "    # prompt = f\"Question: {query}\\n\\nContext: {context}\"\n",
    "    prompt = f\"Query: {query}\\n\\nContext: {context}\"\n",
    "    return prompt\n",
    "\n",
    "def ask_llm(prompt):\n",
    "    response = ollama.chat(model='mistral', messages=[{'role': 'user', 'content': prompt}])\n",
    "    return response['message']['content']"
   ]
  },
  {
   "cell_type": "code",
   "execution_count": 8,
   "id": "9544d17d-b75b-4146-85b0-adedf0a83dcb",
   "metadata": {},
   "outputs": [],
   "source": [
    "def add_website_data_to_vectordb(url, embeddings, persist_directory=None, collection_name=None):\n",
    "    text = get_docs_from_url(url)\n",
    "    documents = create_documents(text)\n",
    "    add_to_vectordb(embeddings=embeddings, documents=documents, persist_directory=persist_directory, collection_name=collection_name)"
   ]
  },
  {
   "cell_type": "markdown",
   "id": "e8cd3882-e9c8-416d-8c67-53cb34f4211b",
   "metadata": {},
   "source": [
    "# Test Drive"
   ]
  },
  {
   "cell_type": "code",
   "execution_count": 5,
   "id": "63b84f92-c6b5-41eb-aa66-3065a5071103",
   "metadata": {},
   "outputs": [
    {
     "data": {
      "text/plain": [
       "{'model': 'mistral',\n",
       " 'created_at': '2024-04-09T16:46:25.9807355Z',\n",
       " 'message': {'role': 'assistant',\n",
       "  'content': \" Hello! How can I help you today? If you have any specific question or topic in mind, feel free to ask and I'll do my best to provide accurate and helpful information. Otherwise, I'm here if you just want to chat about something interesting. Let me know what's on your mind!\"},\n",
       " 'done': True,\n",
       " 'total_duration': 6673226200,\n",
       " 'load_duration': 2588766300,\n",
       " 'prompt_eval_count': 12,\n",
       " 'prompt_eval_duration': 477887000,\n",
       " 'eval_count': 65,\n",
       " 'eval_duration': 3602069000}"
      ]
     },
     "execution_count": 5,
     "metadata": {},
     "output_type": "execute_result"
    }
   ],
   "source": [
    "ollama.chat(model='mistral', messages=[{'role': 'user', 'content': \"Query: Hi\"}])"
   ]
  },
  {
   "cell_type": "markdown",
   "id": "c616511d-cae4-4461-b5ea-53701397449e",
   "metadata": {},
   "source": [
    "# Understand how to get the content from the website using langchain"
   ]
  },
  {
   "cell_type": "code",
   "execution_count": 9,
   "id": "5a98595e-9376-482a-80bb-e3853d0f91c0",
   "metadata": {},
   "outputs": [],
   "source": [
    "text = get_docs_from_url(\"https://ccp.net.au/the-problem-with-pop-psychology/\")\n",
    "documents = create_documents(text)"
   ]
  },
  {
   "cell_type": "code",
   "execution_count": 19,
   "id": "125681f0-dfe1-4f85-9b96-cfce8d6b8e13",
   "metadata": {},
   "outputs": [
    {
     "data": {
      "text/plain": [
       "(list, langchain_core.documents.base.Document)"
      ]
     },
     "execution_count": 19,
     "metadata": {},
     "output_type": "execute_result"
    }
   ],
   "source": [
    "type(text), type(text[0])"
   ]
  },
  {
   "cell_type": "code",
   "execution_count": 20,
   "id": "bb37e785-f1eb-4b7f-a72d-ab0cc6dca700",
   "metadata": {},
   "outputs": [
    {
     "data": {
      "text/plain": [
       "(list, langchain_core.documents.base.Document)"
      ]
     },
     "execution_count": 20,
     "metadata": {},
     "output_type": "execute_result"
    }
   ],
   "source": [
    "type(documents), type(documents[0])"
   ]
  },
  {
   "cell_type": "code",
   "execution_count": 26,
   "id": "be02c537-617c-4a02-9464-b3a998c7545c",
   "metadata": {},
   "outputs": [
    {
     "data": {
      "text/plain": [
       "(dict_keys(['page_content', 'metadata', 'type']),\n",
       " dict_keys(['page_content', 'metadata', 'type']))"
      ]
     },
     "execution_count": 26,
     "metadata": {},
     "output_type": "execute_result"
    }
   ],
   "source": [
    "text[0].dict().keys(), documents[0].dict().keys()"
   ]
  },
  {
   "cell_type": "code",
   "execution_count": 27,
   "id": "8a45b56c-7fde-4a87-ba8c-9f6230f27d9f",
   "metadata": {},
   "outputs": [
    {
     "data": {
      "text/plain": [
       "(1, 16)"
      ]
     },
     "execution_count": 27,
     "metadata": {},
     "output_type": "execute_result"
    }
   ],
   "source": [
    "len(text), len(documents)"
   ]
  },
  {
   "cell_type": "code",
   "execution_count": 29,
   "id": "a5ccaca0-a1d3-4dcf-af77-21ca7b6c5297",
   "metadata": {},
   "outputs": [
    {
     "data": {
      "text/plain": [
       "'\\n\\n\\n\\n\\n\\n\\nThe Problem with Pop Psychology\\n\\n\\n\\n\\n\\n\\n\\n\\n\\n\\n\\n\\n\\n\\n\\n\\n\\n\\n\\n\\n\\n\\n\\n\\n\\n\\n\\n\\n\\n\\n\\n\\n\\n\\n\\n\\n\\n\\n\\n\\n\\n\\n\\n\\n\\n\\n\\n\\n\\n\\n\\n\\n\\n\\n\\n\\n\\n\\n\\n\\n\\n\\n\\n\\nSkip to content \\n\\n\\nMenu \\n(03) 9077 0122\\nENTER TELEHEALTH APPOINTMENT\\n \\n\\n\\n\\n\\n\\n\\n\\n \\n\\nMenu \\n\\n\\n\\n\\nMenu \\nHOME\\nABOUT\\n\\nOur Team\\nFAQ\\nWork With Us\\n\\n\\nSERVICES\\n\\nTrauma\\nPregnancy & Birth\\nNew Parents\\nAnxiety\\nDepression\\nPTSD\\nADHD Assessment for Adults\\nAbout Cognitive Processing Therapy for PTSD\\nTelehealth\\n\\n\\nFEES\\nHOW TO REFER\\nCLINICIAN TRAINING\\nBLOG\\nCONTACT\\n \\n\\n\\n\\n\\n\\n\\n\\n\\n\\n\\n\\n\\n\\n\\n\\nThe Problem with Pop Psychology \\n\\n\\n\\n\\n\\n\\n\\n\\n\\n\\n\\n  \\n\\n\\n\\n \\n\\n\\n \\n\\n\\t\\t\\t\\t\\t\\t\\t\\t\\t\\tJon Finch\\t\\t\\t\\t\\t\\n\\n\\n\\n \\n\\nNovember 14, 2023 \\n\\n\\n\\n\\n\\n\\nIn today’s fast-paced world, the language we use often reflects the latest trends and ideas. One area where this is particularly noticeable is in the realm of psychology. Terms like “narcissist,” “gaslighting,” and “toxic positivity” have become commonplace in everyday conversations. These terms can be considered pop-psychology terminology. This blog will explore the pitfalls of pop-psychology terminology and why it’s important to approach these concepts with caution and nuance.\\nWhat is Pop Psychology?\\nPop psychology is a term used to describe the popularization of psychological theories and concepts. It is often found in self-help books, magazines, across social media and TV shows. While pop psychology can be a way to learn about psychology, and describe phenomenon, it is important to be aware of its limitations.\\nThe Problem(s) with Pop Psychology\\nOversimplification of Complex Issues\\nMental health is a complex area. One of the drawbacks of pop-psychology terminology is the oversimplification of complex psychological issues. Terms used by mental health professionals have specific meaning and happen in the context of diagnosis for treatment. \\xa0\\xa0The process of diagnosis and treatment happens with a comprehensive understanding of the individual’s background, history, and individual circumstances. Oversimplification can lead to misunderstandings and misjudgements. The use of pop psychology terminology in everyday language can label people or behaviours incorrectly. This can lead to people misunderstanding mental health conditions. For example, someone might say that they are “OCD” because they like to keep their house clean. However, OCD is a serious mental health condition that is characterized by obsessive thoughts and compulsive behaviours. It causes debilitating distress for some sufferers. \\xa0Pop psychology terminology can trivialize mental health conditions and may make it difficult for people to get the help they need.\\nBased on Generalizations\\nLike oversimplification pop psychology is often based on generalizations. This means that it may not be accurate or applicable to everyone. For example, a pop psychology blog might say that all people with anxiety are afraid of failure. However, this is not true for everyone with anxiety. Some people with anxiety are afraid of public speaking, while others are afraid of heights. Some people are afraid of needles, yet they still live a normal life and have vaccinations.\\nMisleading\\nOversimplification of complex psychological concepts and generalization of concepts that described specific psychological processes or phenomenon by pop-psychology takes the consumer down misleading paths. \\xa0Pop-psychology can lead people to believe there are 12 rules for life; or maybe 7 rules for life – depending on which author you are consuming!\\nAnother example might be articles that imply the key to happiness is to “think positive.” However, this is not always the case, and this oversimplification ignores context. It is very hard to think positively or assess your situation as positive if you live in poverty and are starving!\\nMisunderstanding Mental Health Conditions\\nFor example, assuming that people with a metal health condition are likely to be violent. The research shows that this is not the case. As researcher Heather Stuart (2003) states:\\n“Members of the public exaggerate both the strength of the association between mental illness and violence and their own personal risk. Finally, too little is known about the social contextual determinants of violence, but research supports the view the mentally ill are more often victims than perpetrators of violence.”\\nAssuming that mental health conditions are not treatable or are trivial is also part of misunderstanding that may be promoted by pop-psychology.\\nPathologising Everyday Behaviour\\nPop-psychology terminology may also have a tendency to pathologise everyday behaviour. When someone uses the term “toxic positivity” to describe a friend’s relentless optimism, it might undermine their positive outlook without understanding the context or underlying reasons for their behaviour. A clean house may be labelled as OCD. Nerves about a job interview becomes pathological anxiety. Nervous about a date becomes social anxiety. Distress about the loss of someone becomes PTSD.\\nLack of Precision\\nIn addition, pop-psychology terms often lack precision. Concepts like PTSD are used to describe a specific response to traumatic experiences. This includes a specific way of defining traumatic experiences and specific constellation of responses to traumatic experiences. Using a term like PTSD and trauma too broadly dilutes its significance and may lead to confusion about the actual behaviours involved.\\nThe Importance of Nuance\\nMental health is a complex area that is nuanced, using catchy pop-psychology terms can mean we miss a lot. We miss the opportunity for open and honest discussions about emotions, behaviours, and relationships. We fail to recognise that individuals are complex, and their actions may have various motivations and explanations. We potentially miss the opportunity for our own personal growth.\\nSome of the Negatives\\nPop-psychology may make it difficult for people to get the help they need. It has the potential to reinforce negative stereotypes about mental health. It might discourage people from seeking professional help. It may lead to people self-diagnosis and self-treating, which can be dangerous.\\nAn Anti-Dote?\\nPerhaps something you can do is to be cautious of your own language in everyday conversation; for many of us, this terminology has become imbedded in our typical transactions, so it may be useful to self-reflect, and decide whether you may be contributing to the simplification of quite serious and complex concepts.\\nConsidering where your information about psychology comes from is important. Is your information from reliable sources? Are the books, blogs, articles, and social media content written by psychologists, with references to the research that supports what they are saying? Are the organizations publishing content you consume on websites and blogs reputable? \\xa0Do these organizations have processes that are transparent and accountable; are they invested in psychological research? \\xa0\\nCritical thinking is a great way to avoid some of the negative effects of pop psychology. If the psychological advice that seems too good to be true it probably is. \\xa0Remember, pop psychology is not a substitute for professional psychological help. If you are concerned about your mental health, it is important to talk to a qualified professional.\\nConclusion\\nIf you or someone you know is struggling with mental health challenges, it’s essential to seek professional guidance. The Centre for Clinical Psychology in Melbourne is a trusted resource for individuals seeking support and therapy services. They use evidence-based therapy to assist people with mental health difficulties. You can book an appointment by contacting them at 03 9077 0122 or through their online booking platform: https://ccp.net.au/booking/\\nReferences\\nStuart H. (2003). Violence and mental illness: an overview.\\xa0World psychiatry: official journal of the World Psychiatric Association (WPA),\\xa02(2), 121–124.\\n\\n\\n\\n\\n\\n\\n\\n\\n Share! \\n\\n\\n\\n\\n\\n\\n\\n \\n\\n\\n\\n \\n\\n\\n\\t\\t\\t\\t\\t\\t\\t\\t\\t\\tFacebook\\t\\t\\t\\t\\t\\t\\t\\t\\t\\n\\n\\n\\n\\n\\n\\n \\n\\n\\n\\t\\t\\t\\t\\t\\t\\t\\t\\t\\tTwitter\\t\\t\\t\\t\\t\\t\\t\\t\\t\\n\\n\\n\\n\\n\\n\\n \\n\\n\\n\\t\\t\\t\\t\\t\\t\\t\\t\\t\\tLinkedIn\\t\\t\\t\\t\\t\\t\\t\\t\\t\\n\\n\\n\\n\\n\\n\\n \\n\\n\\n\\t\\t\\t\\t\\t\\t\\t\\t\\t\\tWhatsApp\\t\\t\\t\\t\\t\\t\\t\\t\\t\\n\\n\\n\\n\\n\\n\\n \\n\\n\\n\\t\\t\\t\\t\\t\\t\\t\\t\\t\\tTumblr\\t\\t\\t\\t\\t\\t\\t\\t\\t\\n\\n\\n\\n\\n\\n\\n \\n\\n\\n\\t\\t\\t\\t\\t\\t\\t\\t\\t\\tPinterest\\t\\t\\t\\t\\t\\t\\t\\t\\t\\n\\n\\n\\n\\n\\n\\n \\n\\n\\n\\t\\t\\t\\t\\t\\t\\t\\t\\t\\tEmail\\t\\t\\t\\t\\t\\t\\t\\t\\t\\n\\n\\n\\n\\n\\n\\n\\n\\n\\n\\n\\n\\n \\n\\n\\n\\n\\n\\n\\n\\n\\n\\n\\n\\n\\n\\n\\t\\t\\t\\t\\t\\t\\tJon Finch\\t\\t\\t\\t\\t\\t\\n\\n\\n\\t\\t\\t\\t\\t\\tJon Finch is a clinical psychologist who specialises in the treatment of Posttraumatic Stress Disorder (PTSD). He is a skilled psychologist with 20 years experience. Jon is a certified Cognitive Processing Therapy (CPT) for PTSD trainer. Jon is also a certified, individual Schema Therapist (standard level) with the International Society of Schema Therapy. Jon began his career working with soldiers, war veterans/peace keepers at the Veteran and Veterans Families Counselling Service, in the role of counsellor and Deputy Director. He then worked for Davidson Trahaire Corpsych as the Victorian Trauma Services Manager. He moved on to work with police members at Victoria Police as the Senior Psychologist. Jon has worked with people exposed to a wide range of traumatic events, victims of assault, sexual assault, childhood sexual assault and domestic violence, those involved in motor vehicle accidents, soldiers, war veterans/peace keepers, police members, and emergency services workers. Jon also has extensive experience working with people experiencing depression, anxiety and adjustment disorders, and those suffering from substance use difficulties.\\t\\t\\t\\t\\t\\n\\n\\n\\n\\n\\n\\n\\n\\nPrevPrevious \\n\\n\\n\\n\\nNextNext \\n\\n\\n\\n\\n\\n\\n\\n\\n\\n\\n\\n\\n\\n\\n\\n\\n\\n\\nABOUT US \\n\\n\\n\\nOur team of clinical psychologists are highly trained mental health professionals with a commitment to a high quality of care and evidence-based treatment. We work with our clients using treatment approaches which are based upon research and standards of best practice.We acknowledge the Traditional Owners of the land where we work and live. We pay our respects to Elders past, present and emerging. We celebrate the stories, culture and traditions of Aboriginal and Torres Strait Islander Elders of all communities who also work and live on this land.We are committed to creating an inclusive environment. We celebrate, value and include people of all backgrounds, genders, sexualities, cultures, bodies and abilities. \\n\\n\\n\\n\\n\\n\\n\\nCONTACT DETAILS \\n\\n\\n\\nCentre for Clinical Psychology, Unit 19-22A/247-255 Drummond St, Carlton VIC 3053Phone: 03 9077 0122Fax: 03 8669 4101 \\n\\n\\n\\n \\n\\n\\n\\n\\n\\n\\n\\nUSEFUL LINKS \\n\\n\\n\\n \\nBook Now\\nHome\\nResources\\nPrivacy Policy\\nCopyright Notice\\nWebsite Disclaimer\\nContact\\n \\n\\nBook Now\\nHome\\nResources\\nPrivacy Policy\\nCopyright Notice\\nWebsite Disclaimer\\nContact\\n \\n\\n\\n\\n\\n\\n\\n\\n\\n\\n\\n\\n\\n© 2024 Centre for Clinicial Psychology. All Rights are Reserved. \\n\\n\\n\\n\\n\\n\\n\\n\\n\\n\\n\\n\\n\\n\\n\\n\\n\\n\\n\\n\\n\\n\\n\\n\\n\\n\\n\\n\\n\\n\\n\\n\\n\\n\\n'"
      ]
     },
     "execution_count": 29,
     "metadata": {},
     "output_type": "execute_result"
    }
   ],
   "source": [
    "text[0].page_content"
   ]
  },
  {
   "cell_type": "code",
   "execution_count": 30,
   "id": "7bed6f11-99e9-4621-9ab5-caea8ec255d3",
   "metadata": {},
   "outputs": [
    {
     "data": {
      "text/plain": [
       "'The Problem with Pop Psychology\\n\\n\\n\\n\\n\\n\\n\\n\\n\\n\\n\\n\\n\\n\\n\\n\\n\\n\\n\\n\\n\\n\\n\\n\\n\\n\\n\\n\\n\\n\\n\\n\\n\\n\\n\\n\\n\\n\\n\\n\\n\\n\\n\\n\\n\\n\\n\\n\\n\\n\\n\\n\\n\\n\\n\\n\\n\\n\\n\\n\\n\\n\\n\\n\\nSkip to content \\n\\n\\nMenu \\n(03) 9077 0122\\nENTER TELEHEALTH APPOINTMENT\\n \\n\\n\\n\\n\\n\\n\\n\\n \\n\\nMenu \\n\\n\\n\\n\\nMenu \\nHOME\\nABOUT\\n\\nOur Team\\nFAQ\\nWork With Us\\n\\n\\nSERVICES\\n\\nTrauma\\nPregnancy & Birth\\nNew Parents\\nAnxiety\\nDepression\\nPTSD\\nADHD Assessment for Adults\\nAbout Cognitive Processing Therapy for PTSD\\nTelehealth\\n\\n\\nFEES\\nHOW TO REFER\\nCLINICIAN TRAINING\\nBLOG\\nCONTACT\\n \\n\\n\\n\\n\\n\\n\\n\\n\\n\\n\\n\\n\\n\\n\\n\\nThe Problem with Pop Psychology \\n\\n\\n\\n\\n\\n\\n\\n\\n\\n\\n\\n  \\n\\n\\n\\n \\n\\n\\n \\n\\n\\t\\t\\t\\t\\t\\t\\t\\t\\t\\tJon Finch\\t\\t\\t\\t\\t\\n\\n\\n\\n \\n\\nNovember 14, 2023'"
      ]
     },
     "execution_count": 30,
     "metadata": {},
     "output_type": "execute_result"
    }
   ],
   "source": [
    "documents[0].page_content"
   ]
  },
  {
   "cell_type": "code",
   "execution_count": 31,
   "id": "3b90e49b-d095-42c0-817b-8680d365c93e",
   "metadata": {},
   "outputs": [
    {
     "data": {
      "text/plain": [
       "'In today’s fast-paced world, the language we use often reflects the latest trends and ideas. One area where this is particularly noticeable is in the realm of psychology. Terms like “narcissist,” “gaslighting,” and “toxic positivity” have become commonplace in everyday conversations. These terms can be considered pop-psychology terminology. This blog will explore the pitfalls of pop-psychology terminology and why it’s important to approach these concepts with caution and nuance.\\nWhat is Pop Psychology?\\nPop psychology is a term used to describe the popularization of psychological theories and concepts. It is often found in self-help books, magazines, across social media and TV shows. While pop psychology can be a way to learn about psychology, and describe phenomenon, it is important to be aware of its limitations.\\nThe Problem(s) with Pop Psychology\\nOversimplification of Complex Issues'"
      ]
     },
     "execution_count": 31,
     "metadata": {},
     "output_type": "execute_result"
    }
   ],
   "source": [
    "documents[1].page_content"
   ]
  },
  {
   "cell_type": "code",
   "execution_count": 35,
   "id": "fd0f87ea-066e-42f5-bf96-dea0508558b1",
   "metadata": {},
   "outputs": [
    {
     "data": {
      "text/plain": [
       "'Mental health is a complex area. One of the drawbacks of pop-psychology terminology is the oversimplification of complex psychological issues. Terms used by mental health professionals have specific meaning and happen in the context of diagnosis for treatment. \\xa0\\xa0The process of diagnosis and treatment happens with a comprehensive understanding of the individual’s background, history, and individual circumstances. Oversimplification can lead to misunderstandings and misjudgements. The use of pop psychology terminology in everyday language can label people or behaviours incorrectly. This can lead to people misunderstanding mental health conditions. For example, someone might say that they are “OCD” because they like to keep their house clean. However, OCD is a serious mental health condition that is characterized by obsessive thoughts and compulsive behaviours. It causes debilitating distress for some sufferers. \\xa0Pop psychology terminology can trivialize mental health conditions and may'"
      ]
     },
     "execution_count": 35,
     "metadata": {},
     "output_type": "execute_result"
    }
   ],
   "source": [
    "documents[2].page_content"
   ]
  },
  {
   "cell_type": "code",
   "execution_count": 33,
   "id": "083dbf9e-8b3a-475b-91d0-1b5384711404",
   "metadata": {},
   "outputs": [
    {
     "data": {
      "text/plain": [
       "'that is characterized by obsessive thoughts and compulsive behaviours. It causes debilitating distress for some sufferers. \\xa0Pop psychology terminology can trivialize mental health conditions and may make it difficult for people to get the help they need.'"
      ]
     },
     "execution_count": 33,
     "metadata": {},
     "output_type": "execute_result"
    }
   ],
   "source": [
    "documents[3].page_content"
   ]
  },
  {
   "cell_type": "code",
   "execution_count": 24,
   "id": "b5956569-d42a-4956-a531-dd9c1d6c0bd1",
   "metadata": {},
   "outputs": [
    {
     "data": {
      "text/plain": [
       "(560, 897, 998, 254)"
      ]
     },
     "execution_count": 24,
     "metadata": {},
     "output_type": "execute_result"
    }
   ],
   "source": [
    "len(documents[0].page_content), len(documents[1].page_content), len(documents[2].page_content), len(documents[3].page_content)"
   ]
  },
  {
   "cell_type": "markdown",
   "id": "983a938f-e82b-4bf5-969d-0718983b4253",
   "metadata": {},
   "source": [
    "# Add documents to vector database"
   ]
  },
  {
   "cell_type": "code",
   "execution_count": 8,
   "id": "78a0bf8e-5186-4051-8056-c83736e93d6d",
   "metadata": {},
   "outputs": [
    {
     "data": {
      "text/plain": [
       "<langchain_community.vectorstores.chroma.Chroma at 0x1a7678538f0>"
      ]
     },
     "execution_count": 8,
     "metadata": {},
     "output_type": "execute_result"
    }
   ],
   "source": [
    "add_to_vectordb(embeddings=embeddings, documents=documents, persist_directory=persist_directory, collection_name=\"pop_psychology\")"
   ]
  },
  {
   "cell_type": "markdown",
   "id": "8768abd9-3955-41b5-b47a-65162370b520",
   "metadata": {},
   "source": [
    "# Load vector database"
   ]
  },
  {
   "cell_type": "code",
   "execution_count": 40,
   "id": "91bad122-eb87-412a-940e-a0bab7280d7b",
   "metadata": {},
   "outputs": [],
   "source": [
    "vectordb = load_vectordb(embeddings=embeddings, persist_directory=persist_directory, collection_name=\"pop_psychology\")"
   ]
  },
  {
   "cell_type": "markdown",
   "id": "0c663833-56f4-4d39-b3b7-7b1d535e3f7f",
   "metadata": {},
   "source": [
    "# Understand how RAG construct the prompt"
   ]
  },
  {
   "cell_type": "code",
   "execution_count": 45,
   "id": "c789833a-732a-4384-94d7-151e516ff2a2",
   "metadata": {},
   "outputs": [
    {
     "name": "stdout",
     "output_type": "stream",
     "text": [
      "CPU times: total: 15.6 ms\n",
      "Wall time: 2.42 s\n"
     ]
    }
   ],
   "source": [
    "%%time\n",
    "query = 'is pop psychology a bad thing'\n",
    "context = vectordb.as_retriever().invoke(query)"
   ]
  },
  {
   "cell_type": "code",
   "execution_count": 46,
   "id": "eb1bf472-6470-4cd5-a0bf-d1ba8c233e5f",
   "metadata": {},
   "outputs": [
    {
     "data": {
      "text/plain": [
       "[Document(page_content='sexual assault, childhood sexual assault and domestic violence, those involved in motor vehicle accidents, soldiers, war veterans/peace keepers, police members, and emergency services workers. Jon also has extensive experience working with people experiencing depression, anxiety and adjustment disorders, and those suffering from substance use difficulties.', metadata={'description': \"In today's fast-paced world, the language we use often reflects the latest trends and ideas. One area where this is particularly noticeable is in the\", 'language': 'en-AU', 'source': 'https://ccp.net.au/the-problem-with-pop-psychology/', 'title': 'The Problem with Pop Psychology'}),\n",
       " Document(page_content='Jon Finch is a clinical psychologist who specialises in the treatment of Posttraumatic Stress Disorder (PTSD). He is a skilled psychologist with 20 years experience. Jon is a certified Cognitive Processing Therapy (CPT) for PTSD trainer. Jon is also a certified, individual Schema Therapist (standard level) with the International Society of Schema Therapy. Jon began his career working with soldiers, war veterans/peace keepers at the Veteran and Veterans Families Counselling Service, in the role of counsellor and Deputy Director. He then worked for Davidson Trahaire Corpsych as the Victorian Trauma Services Manager. He moved on to work with police members at Victoria Police as the Senior Psychologist. Jon has worked with people exposed to a wide range of traumatic events, victims of assault, sexual assault, childhood sexual assault and domestic violence, those involved in motor vehicle accidents, soldiers, war veterans/peace keepers, police members, and emergency services workers.', metadata={'description': \"In today's fast-paced world, the language we use often reflects the latest trends and ideas. One area where this is particularly noticeable is in the\", 'language': 'en-AU', 'source': 'https://ccp.net.au/the-problem-with-pop-psychology/', 'title': 'The Problem with Pop Psychology'}),\n",
       " Document(page_content='that is characterized by obsessive thoughts and compulsive behaviours. It causes debilitating distress for some sufferers. \\xa0Pop psychology terminology can trivialize mental health conditions and may make it difficult for people to get the help they need.', metadata={'description': \"In today's fast-paced world, the language we use often reflects the latest trends and ideas. One area where this is particularly noticeable is in the\", 'language': 'en-AU', 'source': 'https://ccp.net.au/the-problem-with-pop-psychology/', 'title': 'The Problem with Pop Psychology'}),\n",
       " Document(page_content='Considering where your information about psychology comes from is important. Is your information from reliable sources? Are the books, blogs, articles, and social media content written by psychologists, with references to the research that supports what they are saying? Are the organizations publishing content you consume on websites and blogs reputable? \\xa0Do these organizations have processes that are transparent and accountable; are they invested in psychological research? \\xa0\\nCritical thinking is a great way to avoid some of the negative effects of pop psychology. If the psychological advice that seems too good to be true it probably is. \\xa0Remember, pop psychology is not a substitute for professional psychological help. If you are concerned about your mental health, it is important to talk to a qualified professional.\\nConclusion', metadata={'description': \"In today's fast-paced world, the language we use often reflects the latest trends and ideas. One area where this is particularly noticeable is in the\", 'language': 'en-AU', 'source': 'https://ccp.net.au/the-problem-with-pop-psychology/', 'title': 'The Problem with Pop Psychology'})]"
      ]
     },
     "execution_count": 46,
     "metadata": {},
     "output_type": "execute_result"
    }
   ],
   "source": [
    "context"
   ]
  },
  {
   "cell_type": "code",
   "execution_count": 47,
   "id": "85e49f7f-6fe8-43fb-a283-40a7d0a43bee",
   "metadata": {},
   "outputs": [
    {
     "data": {
      "text/plain": [
       "(list, langchain_core.documents.base.Document)"
      ]
     },
     "execution_count": 47,
     "metadata": {},
     "output_type": "execute_result"
    }
   ],
   "source": [
    "type(context), type(context[0])"
   ]
  },
  {
   "cell_type": "code",
   "execution_count": 51,
   "id": "871e1594-8fad-4fc2-baa5-ea90b3231fe9",
   "metadata": {},
   "outputs": [
    {
     "data": {
      "text/plain": [
       "dict_keys(['page_content', 'metadata', 'type'])"
      ]
     },
     "execution_count": 51,
     "metadata": {},
     "output_type": "execute_result"
    }
   ],
   "source": [
    "context[0].dict().keys()"
   ]
  },
  {
   "cell_type": "code",
   "execution_count": 53,
   "id": "aad4a3c2-1be5-4c2a-98c8-768f30064192",
   "metadata": {},
   "outputs": [
    {
     "data": {
      "text/plain": [
       "'sexual assault, childhood sexual assault and domestic violence, those involved in motor vehicle accidents, soldiers, war veterans/peace keepers, police members, and emergency services workers. Jon also has extensive experience working with people experiencing depression, anxiety and adjustment disorders, and those suffering from substance use difficulties.'"
      ]
     },
     "execution_count": 53,
     "metadata": {},
     "output_type": "execute_result"
    }
   ],
   "source": [
    "context[0].page_content"
   ]
  },
  {
   "cell_type": "code",
   "execution_count": 54,
   "id": "f52dac39-1561-4afa-b64c-2a49e73cf560",
   "metadata": {},
   "outputs": [
    {
     "data": {
      "text/plain": [
       "{'description': \"In today's fast-paced world, the language we use often reflects the latest trends and ideas. One area where this is particularly noticeable is in the\",\n",
       " 'language': 'en-AU',\n",
       " 'source': 'https://ccp.net.au/the-problem-with-pop-psychology/',\n",
       " 'title': 'The Problem with Pop Psychology'}"
      ]
     },
     "execution_count": 54,
     "metadata": {},
     "output_type": "execute_result"
    }
   ],
   "source": [
    "context[0].metadata"
   ]
  },
  {
   "cell_type": "code",
   "execution_count": 55,
   "id": "e29a9f9c-5920-4413-ac19-0906245bc570",
   "metadata": {},
   "outputs": [
    {
     "data": {
      "text/plain": [
       "'Document'"
      ]
     },
     "execution_count": 55,
     "metadata": {},
     "output_type": "execute_result"
    }
   ],
   "source": [
    "context[0].type"
   ]
  },
  {
   "cell_type": "code",
   "execution_count": 56,
   "id": "fcdf90d7-d4a6-4906-9be7-f757b17ecb4f",
   "metadata": {},
   "outputs": [],
   "source": [
    "context = format_context(context)"
   ]
  },
  {
   "cell_type": "code",
   "execution_count": 57,
   "id": "dd7e420b-add2-4828-b9b9-907143119e0f",
   "metadata": {},
   "outputs": [
    {
     "data": {
      "text/plain": [
       "'sexual assault, childhood sexual assault and domestic violence, those involved in motor vehicle accidents, soldiers, war veterans/peace keepers, police members, and emergency services workers. Jon also has extensive experience working with people experiencing depression, anxiety and adjustment disorders, and those suffering from substance use difficulties.\\nJon Finch is a clinical psychologist who specialises in the treatment of Posttraumatic Stress Disorder (PTSD). He is a skilled psychologist with 20 years experience. Jon is a certified Cognitive Processing Therapy (CPT) for PTSD trainer. Jon is also a certified, individual Schema Therapist (standard level) with the International Society of Schema Therapy. Jon began his career working with soldiers, war veterans/peace keepers at the Veteran and Veterans Families Counselling Service, in the role of counsellor and Deputy Director. He then worked for Davidson Trahaire Corpsych as the Victorian Trauma Services Manager. He moved on to work with police members at Victoria Police as the Senior Psychologist. Jon has worked with people exposed to a wide range of traumatic events, victims of assault, sexual assault, childhood sexual assault and domestic violence, those involved in motor vehicle accidents, soldiers, war veterans/peace keepers, police members, and emergency services workers.\\nthat is characterized by obsessive thoughts and compulsive behaviours. It causes debilitating distress for some sufferers. \\xa0Pop psychology terminology can trivialize mental health conditions and may make it difficult for people to get the help they need.\\nConsidering where your information about psychology comes from is important. Is your information from reliable sources? Are the books, blogs, articles, and social media content written by psychologists, with references to the research that supports what they are saying? Are the organizations publishing content you consume on websites and blogs reputable? \\xa0Do these organizations have processes that are transparent and accountable; are they invested in psychological research? \\xa0\\nCritical thinking is a great way to avoid some of the negative effects of pop psychology. If the psychological advice that seems too good to be true it probably is. \\xa0Remember, pop psychology is not a substitute for professional psychological help. If you are concerned about your mental health, it is important to talk to a qualified professional.\\nConclusion'"
      ]
     },
     "execution_count": 57,
     "metadata": {},
     "output_type": "execute_result"
    }
   ],
   "source": [
    "context"
   ]
  },
  {
   "cell_type": "code",
   "execution_count": 58,
   "id": "893e3a8a-2ba3-4a7e-b1d1-391413cd019c",
   "metadata": {},
   "outputs": [
    {
     "name": "stdout",
     "output_type": "stream",
     "text": [
      "sexual assault, childhood sexual assault and domestic violence, those involved in motor vehicle accidents, soldiers, war veterans/peace keepers, police members, and emergency services workers. Jon also has extensive experience working with people experiencing depression, anxiety and adjustment disorders, and those suffering from substance use difficulties.\n",
      "Jon Finch is a clinical psychologist who specialises in the treatment of Posttraumatic Stress Disorder (PTSD). He is a skilled psychologist with 20 years experience. Jon is a certified Cognitive Processing Therapy (CPT) for PTSD trainer. Jon is also a certified, individual Schema Therapist (standard level) with the International Society of Schema Therapy. Jon began his career working with soldiers, war veterans/peace keepers at the Veteran and Veterans Families Counselling Service, in the role of counsellor and Deputy Director. He then worked for Davidson Trahaire Corpsych as the Victorian Trauma Services Manager. He moved on to work with police members at Victoria Police as the Senior Psychologist. Jon has worked with people exposed to a wide range of traumatic events, victims of assault, sexual assault, childhood sexual assault and domestic violence, those involved in motor vehicle accidents, soldiers, war veterans/peace keepers, police members, and emergency services workers.\n",
      "that is characterized by obsessive thoughts and compulsive behaviours. It causes debilitating distress for some sufferers.  Pop psychology terminology can trivialize mental health conditions and may make it difficult for people to get the help they need.\n",
      "Considering where your information about psychology comes from is important. Is your information from reliable sources? Are the books, blogs, articles, and social media content written by psychologists, with references to the research that supports what they are saying? Are the organizations publishing content you consume on websites and blogs reputable?  Do these organizations have processes that are transparent and accountable; are they invested in psychological research?  \n",
      "Critical thinking is a great way to avoid some of the negative effects of pop psychology. If the psychological advice that seems too good to be true it probably is.  Remember, pop psychology is not a substitute for professional psychological help. If you are concerned about your mental health, it is important to talk to a qualified professional.\n",
      "Conclusion\n"
     ]
    }
   ],
   "source": [
    "print(context)"
   ]
  },
  {
   "cell_type": "code",
   "execution_count": 59,
   "id": "f08a0122-6212-4929-801c-6c1c353d6c59",
   "metadata": {},
   "outputs": [
    {
     "data": {
      "text/plain": [
       "'Query: is pop psychology a bad thing\\n\\nContext: sexual assault, childhood sexual assault and domestic violence, those involved in motor vehicle accidents, soldiers, war veterans/peace keepers, police members, and emergency services workers. Jon also has extensive experience working with people experiencing depression, anxiety and adjustment disorders, and those suffering from substance use difficulties.\\nJon Finch is a clinical psychologist who specialises in the treatment of Posttraumatic Stress Disorder (PTSD). He is a skilled psychologist with 20 years experience. Jon is a certified Cognitive Processing Therapy (CPT) for PTSD trainer. Jon is also a certified, individual Schema Therapist (standard level) with the International Society of Schema Therapy. Jon began his career working with soldiers, war veterans/peace keepers at the Veteran and Veterans Families Counselling Service, in the role of counsellor and Deputy Director. He then worked for Davidson Trahaire Corpsych as the Victorian Trauma Services Manager. He moved on to work with police members at Victoria Police as the Senior Psychologist. Jon has worked with people exposed to a wide range of traumatic events, victims of assault, sexual assault, childhood sexual assault and domestic violence, those involved in motor vehicle accidents, soldiers, war veterans/peace keepers, police members, and emergency services workers.\\nthat is characterized by obsessive thoughts and compulsive behaviours. It causes debilitating distress for some sufferers. \\xa0Pop psychology terminology can trivialize mental health conditions and may make it difficult for people to get the help they need.\\nConsidering where your information about psychology comes from is important. Is your information from reliable sources? Are the books, blogs, articles, and social media content written by psychologists, with references to the research that supports what they are saying? Are the organizations publishing content you consume on websites and blogs reputable? \\xa0Do these organizations have processes that are transparent and accountable; are they invested in psychological research? \\xa0\\nCritical thinking is a great way to avoid some of the negative effects of pop psychology. If the psychological advice that seems too good to be true it probably is. \\xa0Remember, pop psychology is not a substitute for professional psychological help. If you are concerned about your mental health, it is important to talk to a qualified professional.\\nConclusion'"
      ]
     },
     "execution_count": 59,
     "metadata": {},
     "output_type": "execute_result"
    }
   ],
   "source": [
    "prompt = f\"Query: {query}\\n\\nContext: {context}\"\n",
    "prompt"
   ]
  },
  {
   "cell_type": "code",
   "execution_count": 60,
   "id": "6555cc1a-ed65-46bb-a181-bad6090b5900",
   "metadata": {},
   "outputs": [
    {
     "name": "stdout",
     "output_type": "stream",
     "text": [
      "Query: is pop psychology a bad thing\n",
      "\n",
      "Context: sexual assault, childhood sexual assault and domestic violence, those involved in motor vehicle accidents, soldiers, war veterans/peace keepers, police members, and emergency services workers. Jon also has extensive experience working with people experiencing depression, anxiety and adjustment disorders, and those suffering from substance use difficulties.\n",
      "Jon Finch is a clinical psychologist who specialises in the treatment of Posttraumatic Stress Disorder (PTSD). He is a skilled psychologist with 20 years experience. Jon is a certified Cognitive Processing Therapy (CPT) for PTSD trainer. Jon is also a certified, individual Schema Therapist (standard level) with the International Society of Schema Therapy. Jon began his career working with soldiers, war veterans/peace keepers at the Veteran and Veterans Families Counselling Service, in the role of counsellor and Deputy Director. He then worked for Davidson Trahaire Corpsych as the Victorian Trauma Services Manager. He moved on to work with police members at Victoria Police as the Senior Psychologist. Jon has worked with people exposed to a wide range of traumatic events, victims of assault, sexual assault, childhood sexual assault and domestic violence, those involved in motor vehicle accidents, soldiers, war veterans/peace keepers, police members, and emergency services workers.\n",
      "that is characterized by obsessive thoughts and compulsive behaviours. It causes debilitating distress for some sufferers.  Pop psychology terminology can trivialize mental health conditions and may make it difficult for people to get the help they need.\n",
      "Considering where your information about psychology comes from is important. Is your information from reliable sources? Are the books, blogs, articles, and social media content written by psychologists, with references to the research that supports what they are saying? Are the organizations publishing content you consume on websites and blogs reputable?  Do these organizations have processes that are transparent and accountable; are they invested in psychological research?  \n",
      "Critical thinking is a great way to avoid some of the negative effects of pop psychology. If the psychological advice that seems too good to be true it probably is.  Remember, pop psychology is not a substitute for professional psychological help. If you are concerned about your mental health, it is important to talk to a qualified professional.\n",
      "Conclusion\n"
     ]
    }
   ],
   "source": [
    "print(prompt)"
   ]
  },
  {
   "cell_type": "code",
   "execution_count": 43,
   "id": "e3745017-b71e-46e8-af0c-3cf324fe9316",
   "metadata": {},
   "outputs": [
    {
     "name": "stdout",
     "output_type": "stream",
     "text": [
      "CPU times: total: 0 ns\n",
      "Wall time: 2.48 s\n"
     ]
    }
   ],
   "source": [
    "%%time\n",
    "query = \"is pop psychology a bad thing?\"\n",
    "prompt = create_prompt(query, vectordb=vectordb)"
   ]
  },
  {
   "cell_type": "markdown",
   "id": "6b40e028-f877-40db-b7f1-9554b281d332",
   "metadata": {},
   "source": [
    "# Fetch RAG-Prompt to LLM"
   ]
  },
  {
   "cell_type": "code",
   "execution_count": 61,
   "id": "0739d101-185e-46b1-a28f-ccf5140e65be",
   "metadata": {},
   "outputs": [
    {
     "name": "stdout",
     "output_type": "stream",
     "text": [
      "CPU times: total: 0 ns\n",
      "Wall time: 8.98 s\n"
     ]
    }
   ],
   "source": [
    "%%time\n",
    "result = ask_llm(prompt)"
   ]
  },
  {
   "cell_type": "code",
   "execution_count": 62,
   "id": "a7603e2e-f656-4694-a0bc-76573a2b7a7a",
   "metadata": {},
   "outputs": [
    {
     "data": {
      "text/plain": [
       "' Pop psychology can be a double-edged sword when it comes to understanding and addressing mental health conditions, particularly in the context of sensitive issues like PTSD, childhood sexual assault, and domestic violence. While some pop psychology ideas may seem helpful, they can also trivialize mental health conditions and make it more difficult for people to access professional help. It is essential to be discerning about where we get our information on psychology and to practice critical thinking skills to avoid the negative effects of pop psychology. Instead, seeking help from qualified professionals like clinical psychologists with expertise in trauma and PTSD treatment is crucial for those who are struggling with these issues.'"
      ]
     },
     "execution_count": 62,
     "metadata": {},
     "output_type": "execute_result"
    }
   ],
   "source": [
    "result"
   ]
  },
  {
   "cell_type": "code",
   "execution_count": 63,
   "id": "78314e4e-aba3-447b-9cb3-0cd1edfe3a46",
   "metadata": {},
   "outputs": [
    {
     "name": "stdout",
     "output_type": "stream",
     "text": [
      " Pop psychology can be a double-edged sword when it comes to understanding and addressing mental health conditions, particularly in the context of sensitive issues like PTSD, childhood sexual assault, and domestic violence. While some pop psychology ideas may seem helpful, they can also trivialize mental health conditions and make it more difficult for people to access professional help. It is essential to be discerning about where we get our information on psychology and to practice critical thinking skills to avoid the negative effects of pop psychology. Instead, seeking help from qualified professionals like clinical psychologists with expertise in trauma and PTSD treatment is crucial for those who are struggling with these issues.\n"
     ]
    }
   ],
   "source": [
    "print(result)"
   ]
  },
  {
   "cell_type": "code",
   "execution_count": 66,
   "id": "cca182bd-c005-494f-92c7-b097472d6b70",
   "metadata": {},
   "outputs": [
    {
     "name": "stdout",
     "output_type": "stream",
     "text": [
      "CPU times: total: 15.6 ms\n",
      "Wall time: 8.72 s\n"
     ]
    }
   ],
   "source": [
    "%%time\n",
    "result = llm.invoke(prompt)"
   ]
  },
  {
   "cell_type": "code",
   "execution_count": 67,
   "id": "edaef2d0-e915-47dc-8e9f-da01bede18e0",
   "metadata": {},
   "outputs": [
    {
     "data": {
      "text/plain": [
       "\" Pop psychology can be problematic when it trivialized mental health conditions and obscures accurate information, potentially making it harder for individuals in need to seek professional help. It's crucial to evaluate the sources of psychological information critically and ensure they are reliable, written by psychologists with references to research, and published by reputable organizations. Employing critical thinking can help minimize the negative effects of pop psychology, and remember that it should never replace seeking assistance from qualified professionals for mental health concerns.\""
      ]
     },
     "execution_count": 67,
     "metadata": {},
     "output_type": "execute_result"
    }
   ],
   "source": [
    "result"
   ]
  },
  {
   "cell_type": "code",
   "execution_count": 68,
   "id": "a92dfad9-6156-4493-ab3a-cf3a67e1a220",
   "metadata": {},
   "outputs": [
    {
     "name": "stdout",
     "output_type": "stream",
     "text": [
      " Pop psychology can be problematic when it trivialized mental health conditions and obscures accurate information, potentially making it harder for individuals in need to seek professional help. It's crucial to evaluate the sources of psychological information critically and ensure they are reliable, written by psychologists with references to research, and published by reputable organizations. Employing critical thinking can help minimize the negative effects of pop psychology, and remember that it should never replace seeking assistance from qualified professionals for mental health concerns.\n"
     ]
    }
   ],
   "source": [
    "print(result)"
   ]
  },
  {
   "cell_type": "markdown",
   "id": "9a6d2f5c-714a-4d03-a47d-371677d4781b",
   "metadata": {},
   "source": [
    "# Continue having fun in the streamlit"
   ]
  }
 ],
 "metadata": {
  "kernelspec": {
   "display_name": "Python 3 (ipykernel)",
   "language": "python",
   "name": "python3"
  },
  "language_info": {
   "codemirror_mode": {
    "name": "ipython",
    "version": 3
   },
   "file_extension": ".py",
   "mimetype": "text/x-python",
   "name": "python",
   "nbconvert_exporter": "python",
   "pygments_lexer": "ipython3",
   "version": "3.12.2"
  }
 },
 "nbformat": 4,
 "nbformat_minor": 5
}
