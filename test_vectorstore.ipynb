{
 "cells": [
  {
   "cell_type": "code",
   "execution_count": 1,
   "id": "f68eb564-40f4-4cfb-aeb9-9310b008f7d2",
   "metadata": {},
   "outputs": [],
   "source": [
    "%load_ext autoreload\n",
    "%autoreload 2"
   ]
  },
  {
   "cell_type": "code",
   "execution_count": 16,
   "id": "ff927060-c64a-4a60-a9fc-2a4f8b874eca",
   "metadata": {},
   "outputs": [],
   "source": [
    "from package import embeddings as ebd"
   ]
  },
  {
   "cell_type": "code",
   "execution_count": 6,
   "id": "36d39c66-ec39-4889-8d69-233a8dd6bc35",
   "metadata": {},
   "outputs": [],
   "source": [
    "import bs4\n",
    "from langchain.text_splitter import RecursiveCharacterTextSplitter\n",
    "from langchain_community.document_loaders import WebBaseLoader\n",
    "from langchain_community.vectorstores import Chroma\n",
    "from langchain_community.embeddings import OllamaEmbeddings\n",
    "import ollama\n",
    "import chromadb"
   ]
  },
  {
   "cell_type": "code",
   "execution_count": 7,
   "id": "ba4243d5-1a4b-427d-8a8e-0c6bc63a4c30",
   "metadata": {},
   "outputs": [],
   "source": [
    "embeddings = OllamaEmbeddings(model=\"mistral\")"
   ]
  },
  {
   "cell_type": "code",
   "execution_count": 8,
   "id": "040cc53f-fa4d-4ec5-af56-44dbfd85e1fa",
   "metadata": {},
   "outputs": [],
   "source": [
    "persist_directory = \"./vectordb\""
   ]
  },
  {
   "cell_type": "code",
   "execution_count": 9,
   "id": "2c6013cb-c0e1-44ea-91de-f77ede50354c",
   "metadata": {},
   "outputs": [],
   "source": [
    "def get_docs_from_url(url):\n",
    "    loader = WebBaseLoader(\n",
    "        web_paths=(url,),\n",
    "        bs_kwargs=dict()\n",
    "    )\n",
    "    text = loader.load()\n",
    "    return text\n",
    "\n",
    "def create_documents(text):    \n",
    "    text_splitter = RecursiveCharacterTextSplitter(chunk_size=1000, chunk_overlap=200)\n",
    "    documents = text_splitter.split_documents(text)\n",
    "    return documents\n",
    "\n",
    "def add_to_vectordb(documents, embeddings, persist_directory=None, collection_name=None):\n",
    "    db = Chroma.from_documents(\n",
    "        documents=documents, \n",
    "        embedding=embeddings, \n",
    "        persist_directory=persist_directory, \n",
    "        collection_name=collection_name\n",
    "    )\n",
    "    return db\n",
    "\n",
    "def load_vectordb(embeddings, persist_directory=None, collection_name=None):\n",
    "    vectordb = Chroma(\n",
    "        embedding_function=embeddings,\n",
    "        persist_directory=persist_directory, \n",
    "        collection_name=collection_name, \n",
    "    )\n",
    "    return vectordb\n",
    "\n",
    "def format_context(context):\n",
    "    # text = \"\\n\\n\"\n",
    "    text = \"\\n\"\n",
    "    context = text.join(cntx.page_content for cntx in context)\n",
    "    return context\n",
    "\n",
    "def create_prompt(query, vectordb):\n",
    "    context = vectordb.as_retriever().invoke(query)\n",
    "    context = format_context(context)\n",
    "    # prompt = f\"Question: {query}\\n\\nContext: {context}\"\n",
    "    prompt = f\"Query: {query}\\n\\nContext: {context}\"\n",
    "    return prompt\n",
    "\n",
    "def ask_llm(prompt):\n",
    "    response = ollama.chat(model='mistral', messages=[{'role': 'user', 'content': prompt}])\n",
    "    return response['message']['content']"
   ]
  },
  {
   "cell_type": "code",
   "execution_count": 13,
   "id": "63b84f92-c6b5-41eb-aa66-3065a5071103",
   "metadata": {},
   "outputs": [
    {
     "ename": "RequestError",
     "evalue": "must provide a model",
     "output_type": "error",
     "traceback": [
      "\u001b[1;31m---------------------------------------------------------------------------\u001b[0m",
      "\u001b[1;31mRequestError\u001b[0m                              Traceback (most recent call last)",
      "Cell \u001b[1;32mIn[13], line 1\u001b[0m\n\u001b[1;32m----> 1\u001b[0m \u001b[43mollama\u001b[49m\u001b[38;5;241;43m.\u001b[39;49m\u001b[43mchat\u001b[49m\u001b[43m(\u001b[49m\u001b[43mmessages\u001b[49m\u001b[38;5;241;43m=\u001b[39;49m\u001b[43m[\u001b[49m\u001b[43m{\u001b[49m\u001b[38;5;124;43m'\u001b[39;49m\u001b[38;5;124;43mrole\u001b[39;49m\u001b[38;5;124;43m'\u001b[39;49m\u001b[43m:\u001b[49m\u001b[43m \u001b[49m\u001b[38;5;124;43m'\u001b[39;49m\u001b[38;5;124;43muser\u001b[39;49m\u001b[38;5;124;43m'\u001b[39;49m\u001b[43m,\u001b[49m\u001b[43m \u001b[49m\u001b[38;5;124;43m'\u001b[39;49m\u001b[38;5;124;43mcontent\u001b[39;49m\u001b[38;5;124;43m'\u001b[39;49m\u001b[43m:\u001b[49m\u001b[43m \u001b[49m\u001b[38;5;124;43m\"\u001b[39;49m\u001b[38;5;124;43mQuery: Hi\u001b[39;49m\u001b[38;5;124;43m\"\u001b[39;49m\u001b[43m}\u001b[49m\u001b[43m]\u001b[49m\u001b[43m)\u001b[49m\n",
      "File \u001b[1;32m~\\.conda\\envs\\local-rag-llm\\Lib\\site-packages\\ollama\\_client.py:165\u001b[0m, in \u001b[0;36mClient.chat\u001b[1;34m(self, model, messages, stream, format, options, keep_alive)\u001b[0m\n\u001b[0;32m    154\u001b[0m \u001b[38;5;250m\u001b[39m\u001b[38;5;124;03m\"\"\"\u001b[39;00m\n\u001b[0;32m    155\u001b[0m \u001b[38;5;124;03mCreate a chat response using the requested model.\u001b[39;00m\n\u001b[0;32m    156\u001b[0m \n\u001b[1;32m   (...)\u001b[0m\n\u001b[0;32m    161\u001b[0m \u001b[38;5;124;03mReturns `ChatResponse` if `stream` is `False`, otherwise returns a `ChatResponse` generator.\u001b[39;00m\n\u001b[0;32m    162\u001b[0m \u001b[38;5;124;03m\"\"\"\u001b[39;00m\n\u001b[0;32m    164\u001b[0m \u001b[38;5;28;01mif\u001b[39;00m \u001b[38;5;129;01mnot\u001b[39;00m model:\n\u001b[1;32m--> 165\u001b[0m   \u001b[38;5;28;01mraise\u001b[39;00m RequestError(\u001b[38;5;124m'\u001b[39m\u001b[38;5;124mmust provide a model\u001b[39m\u001b[38;5;124m'\u001b[39m)\n\u001b[0;32m    167\u001b[0m \u001b[38;5;28;01mfor\u001b[39;00m message \u001b[38;5;129;01min\u001b[39;00m messages \u001b[38;5;129;01mor\u001b[39;00m []:\n\u001b[0;32m    168\u001b[0m   \u001b[38;5;28;01mif\u001b[39;00m \u001b[38;5;129;01mnot\u001b[39;00m \u001b[38;5;28misinstance\u001b[39m(message, \u001b[38;5;28mdict\u001b[39m):\n",
      "\u001b[1;31mRequestError\u001b[0m: must provide a model"
     ]
    }
   ],
   "source": [
    "ollama.chat(messages=[{'role': 'user', 'content': \"Query: Hi\"}])"
   ]
  },
  {
   "cell_type": "code",
   "execution_count": 11,
   "id": "8873a9ab-0329-4a2b-8858-cdabab4b2bba",
   "metadata": {},
   "outputs": [
    {
     "data": {
      "text/plain": [
       "['AsyncClient',\n",
       " 'ChatResponse',\n",
       " 'Client',\n",
       " 'GenerateResponse',\n",
       " 'Message',\n",
       " 'Options',\n",
       " 'ProgressResponse',\n",
       " 'RequestError',\n",
       " 'ResponseError',\n",
       " '__all__',\n",
       " '__builtins__',\n",
       " '__cached__',\n",
       " '__doc__',\n",
       " '__file__',\n",
       " '__loader__',\n",
       " '__name__',\n",
       " '__package__',\n",
       " '__path__',\n",
       " '__spec__',\n",
       " '_client',\n",
       " '_types',\n",
       " 'chat',\n",
       " 'copy',\n",
       " 'create',\n",
       " 'delete',\n",
       " 'embeddings',\n",
       " 'generate',\n",
       " 'list',\n",
       " 'pull',\n",
       " 'push',\n",
       " 'show']"
      ]
     },
     "execution_count": 11,
     "metadata": {},
     "output_type": "execute_result"
    }
   ],
   "source": [
    "dir(ollama)"
   ]
  },
  {
   "cell_type": "code",
   "execution_count": 19,
   "id": "9544d17d-b75b-4146-85b0-adedf0a83dcb",
   "metadata": {},
   "outputs": [],
   "source": [
    "def add_website_data_to_vectordb(url, embeddings, persist_directory=None, collection_name=None):\n",
    "    text = get_docs_from_url(url)\n",
    "    documents = create_documents(text)\n",
    "    add_to_vectordb(embeddings=embeddings, documents=documents, persist_directory=persist_directory, collection_name=collection_name)"
   ]
  },
  {
   "cell_type": "code",
   "execution_count": 7,
   "id": "5a98595e-9376-482a-80bb-e3853d0f91c0",
   "metadata": {},
   "outputs": [],
   "source": [
    "text = get_docs_from_url(\"https://ccp.net.au/the-problem-with-pop-psychology/\")\n",
    "documents = create_documents(text)"
   ]
  },
  {
   "cell_type": "code",
   "execution_count": 8,
   "id": "78a0bf8e-5186-4051-8056-c83736e93d6d",
   "metadata": {},
   "outputs": [
    {
     "data": {
      "text/plain": [
       "<langchain_community.vectorstores.chroma.Chroma at 0x1a7678538f0>"
      ]
     },
     "execution_count": 8,
     "metadata": {},
     "output_type": "execute_result"
    }
   ],
   "source": [
    "add_to_vectordb(embeddings=embeddings, documents=documents, persist_directory=persist_directory, collection_name=\"pop_psychology\")"
   ]
  },
  {
   "cell_type": "code",
   "execution_count": 9,
   "id": "91bad122-eb87-412a-940e-a0bab7280d7b",
   "metadata": {},
   "outputs": [],
   "source": [
    "vectordb = load_vectordb(embeddings=embeddings, persist_directory=persist_directory, collection_name=\"pop_psychology\")"
   ]
  },
  {
   "cell_type": "code",
   "execution_count": 13,
   "id": "e3745017-b71e-46e8-af0c-3cf324fe9316",
   "metadata": {},
   "outputs": [
    {
     "name": "stdout",
     "output_type": "stream",
     "text": [
      "Query: is pop psychology a bad thing?\n",
      "\n",
      "Context: sexual assault, childhood sexual assault and domestic violence, those involved in motor vehicle accidents, soldiers, war veterans/peace keepers, police members, and emergency services workers. Jon also has extensive experience working with people experiencing depression, anxiety and adjustment disorders, and those suffering from substance use difficulties.\n",
      "Jon Finch is a clinical psychologist who specialises in the treatment of Posttraumatic Stress Disorder (PTSD). He is a skilled psychologist with 20 years experience. Jon is a certified Cognitive Processing Therapy (CPT) for PTSD trainer. Jon is also a certified, individual Schema Therapist (standard level) with the International Society of Schema Therapy. Jon began his career working with soldiers, war veterans/peace keepers at the Veteran and Veterans Families Counselling Service, in the role of counsellor and Deputy Director. He then worked for Davidson Trahaire Corpsych as the Victorian Trauma Services Manager. He moved on to work with police members at Victoria Police as the Senior Psychologist. Jon has worked with people exposed to a wide range of traumatic events, victims of assault, sexual assault, childhood sexual assault and domestic violence, those involved in motor vehicle accidents, soldiers, war veterans/peace keepers, police members, and emergency services workers.\n",
      "that is characterized by obsessive thoughts and compulsive behaviours. It causes debilitating distress for some sufferers.  Pop psychology terminology can trivialize mental health conditions and may make it difficult for people to get the help they need.\n",
      "Considering where your information about psychology comes from is important. Is your information from reliable sources? Are the books, blogs, articles, and social media content written by psychologists, with references to the research that supports what they are saying? Are the organizations publishing content you consume on websites and blogs reputable?  Do these organizations have processes that are transparent and accountable; are they invested in psychological research?  \n",
      "Critical thinking is a great way to avoid some of the negative effects of pop psychology. If the psychological advice that seems too good to be true it probably is.  Remember, pop psychology is not a substitute for professional psychological help. If you are concerned about your mental health, it is important to talk to a qualified professional.\n",
      "Conclusion\n"
     ]
    }
   ],
   "source": [
    "query = \"is pop psychology a bad thing?\"\n",
    "prompt = create_prompt(query, vectordb=vectordb)\n",
    "print(prompt)"
   ]
  },
  {
   "cell_type": "code",
   "execution_count": 14,
   "id": "0739d101-185e-46b1-a28f-ccf5140e65be",
   "metadata": {},
   "outputs": [
    {
     "name": "stdout",
     "output_type": "stream",
     "text": [
      " Based on the information provided, it appears that Jon Finch, a clinical psychologist with extensive experience in treating PTSD and other mental health conditions, expresses caution towards the potential negative effects of \"pop psychology.\" Pop psychology can trivialize mental health conditions through the use of simplistic language and oversimplified explanations. This can make it difficult for individuals to understand the complexity of their mental health issues and may discourage them from seeking professional help.\n",
      "\n",
      "To avoid the negative effects of pop psychology, Jon Finch advises considering the reliability of information sources. One should ensure that the information comes from reputable psychologists with references to supporting research. Additionally, critical thinking skills are essential in discerning accurate psychological information from misinformation. Lastly, professional help from a qualified mental health professional is crucial for those experiencing mental health issues.\n",
      "\n",
      "Therefore, pop psychology can be considered a bad thing when it oversimplifies complex mental health conditions and trivialize their impact on individuals' lives, potentially discouraging them from seeking proper professional help.\n"
     ]
    }
   ],
   "source": [
    "result = ask_llm(prompt)\n",
    "print(result)"
   ]
  },
  {
   "cell_type": "code",
   "execution_count": 15,
   "id": "889ad8bc-b128-4471-8c96-1bef2d119d31",
   "metadata": {},
   "outputs": [
    {
     "name": "stdout",
     "output_type": "stream",
     "text": [
      " Pop psychology can have several negative effects on people, particularly those who have experienced trauma or mental health conditions. One of the main issues is that pop psychology terminology can trivialize mental health conditions and make it difficult for people to get the help they need. This is especially important for individuals who have experienced traumatic events such as sexual assault, childhood sexual assault, domestic violence, motor vehicle accidents, or war-related experiences.\n",
      "\n",
      "It's essential to be cautious about where we get our information on psychology and mental health. We should ensure that the sources are reliable, written by qualified psychologists, and backed up by research. Additionally, we must consider the transparency and accountability of the organizations publishing the content and their investment in psychological research.\n",
      "\n",
      "Critical thinking is also an essential tool to avoid the negative effects of pop psychology. If psychological advice seems too good to be true, it probably is. Pop psychology should not replace professional psychological help. If you have concerns about your mental health or wellbeing, it's crucial to talk to a qualified professional.\n",
      "\n",
      "In summary, while pop psychology may seem convenient and accessible, it can have negative effects on people, particularly those who have experienced trauma or mental health conditions. To avoid these negative effects, we should ensure that our information comes from reliable sources, practice critical thinking, and seek professional help when needed.\n"
     ]
    }
   ],
   "source": [
    "query = \"how many bad effects does pop psychology have on people?\"\n",
    "\n",
    "print(\n",
    "    ask_llm(\n",
    "        create_prompt(\n",
    "            query=query, \n",
    "            vectordb=vectordb\n",
    "        )\n",
    "    )\n",
    ")"
   ]
  },
  {
   "cell_type": "code",
   "execution_count": 17,
   "id": "fa215421-4d44-4849-9436-954c7bb04944",
   "metadata": {},
   "outputs": [
    {
     "name": "stdout",
     "output_type": "stream",
     "text": [
      " Pop psychology can have several negative effects on people, particularly those who have experienced traumatic events such as sexual assault, childhood sexual assault, domestic violence, motor vehicle accidents, and military service. One of the main negative effects is that pop psychology terminology can trivialize mental health conditions, making it difficult for people to get the help they need. This can be especially problematic for individuals with conditions like PTSD, which are characterized by debilitating distress.\n",
      "\n",
      "To avoid some of these negative effects, it's important to consider where your information about psychology comes from. Reliable sources include books, blogs, articles, and social media content written by psychologists with references to research that supports their claims. Reputable organizations publishing this content should have transparent and accountable processes and be invested in psychological research.\n",
      "\n",
      "Critical thinking is also a great way to avoid the negative effects of pop psychology. Be wary of advice that seems too good to be true, as it probably is. And remember, pop psychology is not a substitute for professional psychological help. If you are concerned about your mental health, it's important to talk to a qualified professional.\n",
      "\n",
      "Overall, the experiences and expertise of clinical psychologist Jon Finch highlight the importance of seeking out reliable sources of information about mental health and being cautious of pop psychology that may trivialize or oversimplify complex conditions like PTSD.\n"
     ]
    }
   ],
   "source": [
    "query = \"how many bad effects does pop psychology have on people?\"\n",
    "\n",
    "print(\n",
    "    ask_llm(\n",
    "        create_prompt(\n",
    "            query=query, \n",
    "            vectordb=vectordb\n",
    "        )\n",
    "    )\n",
    ")"
   ]
  },
  {
   "cell_type": "code",
   "execution_count": 18,
   "id": "0a3fb48b-557e-4e09-9f00-4cad1f69ea8f",
   "metadata": {},
   "outputs": [
    {
     "name": "stdout",
     "output_type": "stream",
     "text": [
      " Pop psychology, which refers to psychological concepts and ideas that are widely disseminated through popular culture rather than through academic or scientific channels, can have several negative effects, particularly in the context of sensitive and complex issues such as sexual assault, childhood sexual assault, domestic violence, PTSD, and mental health in general. Some of these negative effects include:\n",
      "\n",
      "1. Lack of precision and misunderstanding: Pop psychology terms are often used imprecisely or too broadly, leading to confusion and a lack of understanding about the true nature of mental health conditions or responses to traumatic experiences. For example, using the term PTSD (Post-Traumatic Stress Disorder) casually to describe any kind of stress response can dilute its significance and make it difficult for individuals to seek appropriate help.\n",
      "2. Oversimplification: Pop psychology can oversimplify complex psychological processes, reducing them to easy-to-digest soundbites or catchy phrases that may not accurately reflect the nuances of human emotions and behaviors. For instance, telling someone to \"just get over it\" or \"think positive thoughts\" in response to trauma can be unhelpful and even harmful.\n",
      "3. Stigmatization: Pop psychology can perpetuate stigma around mental health issues by presenting them as weaknesses rather than normal responses to life's challenges. For example, using terms like \"crazy,\" \"psycho,\" or \"mental\" pejoratively can make it more difficult for individuals to seek help and feel comfortable discussing their mental health with others.\n",
      "4. Ineffective self-help: Pop psychology self-help advice may not be evidence-based or effective, leading individuals to waste time and resources on ineffective strategies rather than seeking professional help. For example, telling someone to \"just meditate\" or \"do some deep breathing exercises\" without providing adequate context or guidance may not address the root causes of their anxiety or depression.\n",
      "5. Misinformation: Pop psychology can be a source of misinformation about mental health and trauma, leading individuals to believe in false or harmful ideas. For example, believing that survivors of sexual assault must always \"forgive\" their attackers or that PTSD only affects soldiers can be damaging and perpetuate harmful stereotypes.\n",
      "6. Lack of accountability: Pop psychology is often disseminated through unregulated sources, making it difficult to hold individuals or organizations accountable for the accuracy and effectiveness of their information. This lack of accountability can lead to widespread dissemination of inaccurate or harmful ideas about mental health and trauma.\n",
      "\n",
      "It's important to remember that pop psychology is not a substitute for professional psychological help and that seeking advice from qualified professionals is crucial when dealing with complex issues such as PTSD, depression, anxiety, and other mental health conditions. Additionally, being critical of sources of psychological information and practicing good research habits can help individuals avoid the negative effects of pop psychology.\n"
     ]
    }
   ],
   "source": [
    "query = \"list the bad effect of pop psychology along with examples\"\n",
    "\n",
    "print(\n",
    "    ask_llm(\n",
    "        create_prompt(\n",
    "            query=query, \n",
    "            vectordb=vectordb\n",
    "        )\n",
    "    )\n",
    ")"
   ]
  },
  {
   "cell_type": "code",
   "execution_count": 23,
   "id": "52d83c59-6800-4078-a74a-dab6487cc7f6",
   "metadata": {},
   "outputs": [
    {
     "name": "stdout",
     "output_type": "stream",
     "text": [
      " Pop psychology can have several negative effects, especially when it comes to understanding complex issues such as PTSD, trauma, and mental health in general. Here are some potential downsides:\n",
      "\n",
      "1. Lack of Precision: Pop-psychology terms often lack precision, which can lead to misunderstandings and confusion. For instance, the term \"PTSD\" is used to describe a specific response to traumatic experiences. However, if this term is used too broadly, it may dilute its significance, leading to a lack of understanding about the actual behaviors involved.\n",
      "2. Simplistic Solutions: Pop psychology often offers simplistic solutions to complex problems. For example, telling someone who has experienced trauma that they just need to \"move on\" or \"get over it\" can be harmful and dismissive. These statements do not take into account the complexity of emotional experiences and the healing process.\n",
      "3. Misinformation: Pop psychology can spread misinformation about mental health issues, which can lead to stigma and misunderstanding. For example, saying that PTSD is only caused by combat experiences or that depression is just a lack of willpower are harmful stereotypes.\n",
      "4. Overgeneralization: Pop psychology can also lead to overgeneralization, which means applying broad statements to individual cases without considering the unique circumstances and complexities involved. For instance, assuming that everyone who experiences anxiety must have the same cause or treatment is not accurate.\n",
      "5. Lack of Nuance: Mental health is a complex area that requires nuance and sensitivity. Using catchy pop-psychology terms can lead to a lack of open and honest discussions about emotions, behaviors, and relationships. It may also prevent us from recognizing the complexity of individuals and their motivations and explanations for actions.\n",
      "6. Potential Harm: Lastly, pop psychology can potentially harm individuals by offering false promises or quick fixes that do not work in the long term. For example, telling someone with depression to just \"think positive\" or \"cheer up\" is not a solution and can be dismissive of their emotional pain.\n",
      "\n",
      "Examples of Pop Psychology related to PTSD, trauma, and mental health:\n",
      "\n",
      "1. The idea that people can \"get over\" traumatic experiences quickly by simply \"moving on\" or \"letting go.\"\n",
      "2. The belief that depression is a lack of willpower or a personal weakness.\n",
      "3. The notion that therapy involves only talking about feelings and that this will lead to instant healing.\n",
      "4. The idea that everyone responds to trauma in the same way and requires the same treatment.\n",
      "5. The belief that PTSD can only be caused by combat experiences, ignoring other traumatic events such as childhood sexual assault or domestic violence.\n",
      "6. The notion that therapy should focus only on the past and not address current emotional and behavioral challenges.\n",
      "7. The idea that positive thinking alone is sufficient to cure mental health issues.\n",
      "8. The belief that therapy should be quick and easy, with a clear end goal in sight.\n",
      "\n",
      "It's important to remember that pop psychology can be entertaining, but it should not replace professional psychological help or accurate information about complex mental health issues. If you are concerned about your mental health, it is crucial to seek help from a qualified mental health professional.\n"
     ]
    }
   ],
   "source": [
    "query = \"list the bad effect of pop psychology along with examples\"\n",
    "\n",
    "print(\n",
    "    ask_llm(\n",
    "        create_prompt(\n",
    "            query=query, \n",
    "            vectordb=load_vectordb(embeddings=embeddings, persist_directory=persist_directory, collection_name=\"pop_psychology\")\n",
    "        )\n",
    "    )\n",
    ")"
   ]
  },
  {
   "cell_type": "code",
   "execution_count": 21,
   "id": "a73399cc-705a-4412-b564-759e9f592988",
   "metadata": {},
   "outputs": [],
   "source": [
    "add_website_data_to_vectordb(\n",
    "    url=\"https://docs.aws.amazon.com/sagemaker/latest/dg/jumpstart-foundation-models-customize-rag.html\",\n",
    "    embeddings=embeddings,\n",
    "    persist_directory=persist_directory,\n",
    "    collection_name=\"rag_llm\",\n",
    ")"
   ]
  },
  {
   "cell_type": "code",
   "execution_count": 22,
   "id": "c99a5c8e-c583-4c8c-aa4a-efd19eedae40",
   "metadata": {},
   "outputs": [],
   "source": [
    "add_website_data_to_vectordb(\n",
    "    url=\"https://aws.amazon.com/bedrock/?refid=1325fdf1-f38b-4c89-8bf9-dc39eeb87ff8\",\n",
    "    embeddings=embeddings,\n",
    "    persist_directory=persist_directory,\n",
    "    collection_name=\"rag_llm\",\n",
    ")"
   ]
  },
  {
   "cell_type": "code",
   "execution_count": 24,
   "id": "366aefc1-b2db-4810-847b-7d06abf60ef5",
   "metadata": {},
   "outputs": [],
   "source": [
    "add_website_data_to_vectordb(\n",
    "    url=\"https://www.promptingguide.ai/research/rag\",\n",
    "    embeddings=embeddings,\n",
    "    persist_directory=persist_directory,\n",
    "    collection_name=\"rag_llm\",\n",
    ")"
   ]
  },
  {
   "cell_type": "code",
   "execution_count": 25,
   "id": "e0176733-7a07-4465-b8b8-f7263f873230",
   "metadata": {},
   "outputs": [
    {
     "name": "stdout",
     "output_type": "stream",
     "text": [
      " Retrieval-Augmented Generation (RAG) and fine-tuning are two distinct approaches in the field of Large Language Models (LLMs), each with its unique benefits. Let's summarize the advantages of RAG along with some examples:\n",
      "\n",
      "Benefits of Retrieval-Augmented Generation:\n",
      "\n",
      "1. New Knowledge Integration: RAG systems can integrate new knowledge by retrieving information from external data sources and incorporating it into the model's responses, making them suitable for applications requiring up-to-date or specialized information.\n",
      "2. Customized Responses: By retrieving relevant information, RAG models can generate customized responses that cater to specific user queries or contexts, enhancing the overall user experience.\n",
      "3. Scalability and Adaptability: RAG systems can be more scalable and adaptable than fine-tuned models as they don't require large amounts of labeled data for adapting to new domains or tasks, making them suitable for various applications without extensive retraining.\n",
      "4. Flexibility: RAG models offer more flexibility by allowing users to control the retrieval process and generate responses based on the desired format, tone, and style.\n",
      "5. Improved Performance: Incorporating external information can lead to improved performance of LLMs in handling complex knowledge-intensive tasks that require quick access to evolving or specific data.\n",
      "\n",
      "Examples of Retrieval-Augmented Generation applications include:\n",
      "1. Chatbots and Virtual Assistants: RAG systems can be integrated into chatbots and virtual assistants, enabling them to provide more accurate and customized responses based on user queries and contexts.\n",
      "2. Information Retrieval Systems: RAG models can be employed in information retrieval systems, such as search engines or document summarization tools, to generate more precise and relevant results by incorporating external data sources.\n",
      "3. Legal, Financial, and Medical Applications: RAG systems can be utilized in legal, financial, and medical applications to provide accurate, up-to-date, and contextually appropriate responses based on the latest regulations, market trends, or research findings.\n",
      "4. Customer Support: RAG models can be used in customer support platforms to help agents generate more precise and personalized responses by retrieving relevant information from external sources, enhancing the overall customer experience.\n"
     ]
    }
   ],
   "source": [
    "query = \"summarize the benefits of retrival augmented generation along with its examples\"\n",
    "\n",
    "print(\n",
    "    ask_llm(\n",
    "        create_prompt(\n",
    "            query=query, \n",
    "            vectordb=load_vectordb(embeddings=embeddings, persist_directory=persist_directory, collection_name=\"rag_llm\")\n",
    "        )\n",
    "    )\n",
    ")"
   ]
  },
  {
   "cell_type": "code",
   "execution_count": 26,
   "id": "0a2e760b-2a06-4f6d-b580-00c1e90760ff",
   "metadata": {},
   "outputs": [
    {
     "name": "stdout",
     "output_type": "stream",
     "text": [
      " I'm assuming you are asking about the potential negative effects of pop psychology, not about pop psychology in relation to RAG systems. Pop psychology refers to psychological theories and applications that are widely popularized but may lack scientific rigor or be oversimplified. Here are some possible negative effects of pop psychology:\n",
      "\n",
      "1. Misinformation and misunderstanding: Pop psychology can spread misinformation and misunderstanding about psychological concepts, which can lead to confusion, stigma, or harmful beliefs. For example, the belief that people have a \"left brain\" for analytical thinking and a \"right brain\" for creativity is a common pop psychology myth with no scientific basis.\n",
      "2. Oversimplification: Pop psychology can oversimplify complex psychological phenomena, reducing them to simplistic models or catchphrases that do not capture the nuances and complexity of human behavior. For example, labeling someone as an \"introvert\" or an \"extrovert\" based on their social behavior without considering other factors can be misleading.\n",
      "3. Lack of evidence: Pop psychology often relies on anecdotal evidence or personal experiences instead of rigorous scientific research. This can lead to unfounded claims and recommendations that may not be effective or even harmful. For example, advising people to \"think positively\" as a cure-all for mental health issues without considering the underlying causes and individual differences is a common pop psychology recommendation with limited scientific evidence.\n",
      "4. Stigmatization: Pop psychology can perpetuate stereotypes and stigma against certain groups of people based on their psychological traits or conditions. For example, portraying people with mental illnesses as weak or flawed instead of recognizing the complexity and diversity of mental health experiences can be harmful and stigmatizing.\n",
      "5. Lack of individuality: Pop psychology can promote a one-size-fits-all approach to psychological issues, ignoring the unique needs, experiences, and perspectives of individuals. For example, advising everyone to follow the same self-help routine without considering their specific circumstances and preferences can be ineffective or even harmful.\n",
      "\n",
      "It's important to note that not all pop psychology is negative, and some popular ideas may have a grain of truth or usefulness. However, it's crucial to approach pop psychology with a critical mindset and seek out reliable sources of information to ensure accuracy and effectiveness.\n"
     ]
    }
   ],
   "source": [
    "query = \"what is the worst effect of pop psychology?\"\n",
    "\n",
    "print(\n",
    "    ask_llm(\n",
    "        create_prompt(\n",
    "            query=query, \n",
    "            vectordb=load_vectordb(embeddings=embeddings, persist_directory=persist_directory, collection_name=\"rag_llm\")\n",
    "        )\n",
    "    )\n",
    ")"
   ]
  },
  {
   "cell_type": "code",
   "execution_count": 27,
   "id": "9b40c951-799d-4064-a7b3-89e76413255e",
   "metadata": {},
   "outputs": [
    {
     "name": "stdout",
     "output_type": "stream",
     "text": [
      " I apologize for the confusion, but \"Uncel Chub\" does not appear to be mentioned or related to the context provided in your query, which is about Retrieval-and-Generation (RAG) systems. If you meant to ask about a specific person or term in a different context, please provide more details and I'll do my best to help answer any question you might have.\n"
     ]
    }
   ],
   "source": [
    "query = \"Do you know who is uncel chub?\"\n",
    "\n",
    "print(\n",
    "    ask_llm(\n",
    "        create_prompt(\n",
    "            query=query, \n",
    "            vectordb=load_vectordb(embeddings=embeddings, persist_directory=persist_directory, collection_name=\"rag_llm\")\n",
    "        )\n",
    "    )\n",
    ")"
   ]
  },
  {
   "cell_type": "code",
   "execution_count": 28,
   "id": "c8dbe0af-5945-48f1-9fd8-4d53349dba09",
   "metadata": {},
   "outputs": [
    {
     "name": "stdout",
     "output_type": "stream",
     "text": [
      " Regarding your specific query about Retrieval Augmented Generation (RAG) and its benefits with examples, I'd be happy to help you with that. However, since there is no mention of RAG in the context provided in your text, I will provide a general explanation of RAG and its benefits based on psychological research.\n",
      "\n",
      "Retrieval Augmented Generation (RAG) is a subfield of artificial intelligence that combines retrieval models with generative models to produce more accurate and contextually relevant responses. In the context of mental health and psychology, RAG can be beneficial in several ways:\n",
      "\n",
      "1. Improved Accuracy and Precision: RAG systems can help provide more precise and accurate information about specific psychological concepts, such as PTSD or depression, by using retrieval models to access up-to-date research and evidence-based interventions. This can be especially important in complex areas like mental health, where nuance and precision are essential.\n",
      "2. Personalized Recommendations: RAG systems can help generate personalized recommendations for individuals based on their specific needs and circumstances. For example, a mental health chatbot could use RAG to recommend evidence-based interventions tailored to an individual's symptoms and history.\n",
      "3. Enhanced Accessibility: RAG systems can help make mental health resources more accessible to people who may not have access to professional help or who prefer anonymous online support. For example, a mental health chatbot could use RAG to provide immediate responses to user inquiries and offer follow-up suggestions based on the user's interactions.\n",
      "4. Improved Efficiency: RAG systems can help improve the efficiency of mental health services by automating routine tasks and providing quick responses to common inquiries. For example, a mental health hotline could use RAG to provide immediate responses to non-emergency inquiries, freeing up human resources for more complex cases.\n",
      "5. Enhanced Research Capabilities: RAG systems can help researchers access vast amounts of data and information more efficiently, allowing them to identify trends, patterns, and insights that might not be apparent through manual analysis alone. For example, a researcher studying PTSD could use RAG to search for relevant articles, studies, and data points quickly and accurately.\n",
      "\n",
      "As for examples, there are several mental health organizations and startups that are already using RAG technology to provide mental health services and resources. For instance, Woebot is an AI-powered chatbot that uses cognitive-behavioral techniques and RAG to help users manage depression and anxiety. Another example is Moodfit, which uses RAG to provide personalized mental health recommendations based on user data and preferences. These are just a few examples of how RAG technology is being used in mental health and psychology to improve accessibility, accuracy, and efficiency.\n"
     ]
    }
   ],
   "source": [
    "query = \"summarize the benefits of retrival augmented generation along with its examples\"\n",
    "\n",
    "print(\n",
    "    ask_llm(\n",
    "        create_prompt(\n",
    "            query=query, \n",
    "            vectordb=load_vectordb(embeddings=embeddings, persist_directory=persist_directory, collection_name=\"pop_psychology\")\n",
    "        )\n",
    "    )\n",
    ")"
   ]
  },
  {
   "cell_type": "code",
   "execution_count": 31,
   "id": "19961c55-7e70-4998-98f0-3124cb8fe464",
   "metadata": {},
   "outputs": [
    {
     "name": "stdout",
     "output_type": "stream",
     "text": [
      " Retrieval-Augmented Generation (RAG) is a model architecture that combines text retrieval and generative models to improve the performance and flexibility of language models. RAG allows models to access external knowledge from large datasets or the web, enabling them to generate more accurate, contextually relevant, and diverse responses.\n",
      "\n",
      "Benefits of Retrieval-Augmented Generation:\n",
      "\n",
      "1. Improved accuracy: By retrieving relevant information from external data sources, RAG can help language models provide more accurate and detailed responses, especially for complex queries or questions requiring specific knowledge.\n",
      "2. Contextual understanding: RAG enables models to access contextually relevant data, making them better at understanding the nuances of various situations and generating appropriate responses.\n",
      "3. Diversity and creativity: By providing a wider range of input examples from external data sources, RAG can help language models generate more diverse and creative responses, leading to more engaging and personalized interactions.\n",
      "4. Flexibility and adaptability: RAG allows models to learn from real-world data and adapt to new situations, making them more flexible and versatile in handling a wide range of tasks and queries.\n",
      "5. Reduced development time: By leveraging pre-existing knowledge bases and databases, RAG can help reduce the time and resources required for developing large-scale language models from scratch.\n",
      "6. Enhanced user experience: RAG can lead to more satisfying and engaging interactions with users, as it enables models to provide more accurate and contextually relevant responses, making them appear more human-like and conversational.\n",
      "\n",
      "Examples of Retrieval-Augmented Generation:\n",
      "\n",
      "1. DALL-E: A popular example of RAG is OpenAI's DALL-E model, which combines text retrieval and generative models to generate images based on text prompts. By accessing a large dataset of image-text pairs, DALL-E can learn to generate images that match the given text description more accurately than models without retrieval capabilities.\n",
      "2. SOTA language models: Several state-of-the-art (SOTA) language models like T5, BART, and PEGASUS have been enhanced with RAG components. For instance, T5's \"Retriever-Generator\" architecture uses a retriever to collect relevant data before passing it to the generator for generating responses, improving performance on various NLP tasks.\n",
      "3. Chatbots: Retrieval-augmented chatbots can use RAG to provide more accurate and contextually relevant responses to user queries by accessing external knowledge sources like databases, websites, or pre-existing conversation logs.\n",
      "4. Question answering systems: RAG has proven successful in improving the performance of question answering systems, allowing them to retrieve information from large datasets or the web before generating an answer, leading to more accurate and detailed responses.\n",
      "5. Text summarization: Retrieval-augmented text summarization models can access external sources for additional context, enabling them to generate more comprehensive and accurate summaries of documents or conversations.\n",
      "6. Machine translation: RAG can improve the performance of machine translation systems by allowing them to access external knowledge sources for better understanding of source language idioms, cultural references, and domain-specific terminology.\n"
     ]
    }
   ],
   "source": [
    "query = \"summarize the benefits of retrival augmented generation along with its examples\"\n",
    "\n",
    "print(\n",
    "    ask_llm(\n",
    "        create_prompt(\n",
    "            query=query, \n",
    "            vectordb=Chroma(\n",
    "                embedding_function=embeddings,\n",
    "                persist_directory=persist_directory, \n",
    "                collection_name='langchain',\n",
    "            )\n",
    "        )\n",
    "    )\n",
    ")"
   ]
  },
  {
   "cell_type": "code",
   "execution_count": 32,
   "id": "3a141253-00d2-497d-a845-17b708d83fc7",
   "metadata": {},
   "outputs": [
    {
     "name": "stdout",
     "output_type": "stream",
     "text": [
      " Pop psychology, also known as popular psychology or self-help psychology, refers to psychological concepts and ideas that have become widely known and disseminated through various media channels such as books, magazines, television shows, and social media. While pop psychology can provide valuable insights and practical tools for improving mental health and well-being, it can also have negative effects. Here are some of the worst effects of pop psychology:\n",
      "\n",
      "1. oversimplification of complex psychological issues: Pop psychology often presents simplistic solutions to complex psychological problems, which can be misleading and ineffective. This oversimplification can lead people to believe that they can easily solve their mental health issues by following a few simple steps or techniques without the need for professional help.\n",
      "2. stigmatization of mental health conditions: Pop psychology can sometimes perpetuate negative stereotypes about mental health conditions, making it more difficult for individuals with these conditions to seek help and receive support. For example, some pop psychology ideas may suggest that certain mental health issues are a result of personal weakness or lack of willpower, rather than being biological or genetic in nature.\n",
      "3. promoting quick-fix solutions: Pop psychology often promotes the idea of quick-fix solutions to mental health problems, which can be unrealistic and potentially harmful. These solutions may involve following a specific diet, taking certain supplements, or practicing a particular technique for a short period of time, without addressing the underlying psychological issues.\n",
      "4. lack of evidence-based research: Many pop psychology ideas are not based on sound scientific research, which can lead to ineffective or even harmful practices. For example, some pop psychology techniques may be based on anecdotal evidence or personal experience rather than rigorous scientific study.\n",
      "5. promoting unrealistic standards of perfection: Pop psychology can sometimes promote unrealistic standards of perfection and self-improvement, which can lead to feelings of inadequacy, anxiety, and depression. This pressure to be perfect can make it difficult for individuals to accept themselves as they are and to focus on making positive changes in their lives in a healthy and sustainable way.\n",
      "\n",
      "In conclusion, while pop psychology can provide valuable insights and practical tools for improving mental health and well-being, it is important to be aware of its potential negative effects, such as oversimplification of complex psychological issues, stigmatization of mental health conditions, promoting quick-fix solutions, lack of evidence-based research, and unrealistic standards of perfection. It is always recommended to seek professional help from a qualified mental health professional for any significant mental health concerns.\n"
     ]
    }
   ],
   "source": [
    "query = \"what is the worst effect of pop psychology?\"\n",
    "\n",
    "print(\n",
    "    ask_llm(\n",
    "        create_prompt(\n",
    "            query=query, \n",
    "            vectordb=Chroma(\n",
    "                embedding_function=embeddings,\n",
    "                persist_directory=persist_directory, \n",
    "                collection_name='langchain',\n",
    "            )\n",
    "        )\n",
    "    )\n",
    ")"
   ]
  },
  {
   "cell_type": "code",
   "execution_count": 33,
   "id": "b316931f-e437-40dc-92be-148ba04e71a0",
   "metadata": {},
   "outputs": [
    {
     "name": "stdout",
     "output_type": "stream",
     "text": [
      " Bedrock refers to the solid, compacted layer of rock that forms the base of the earth's surface. It provides a solid foundation for the soil above and supports the structures built on it, such as buildings and roads. Bedrocks can be made up of various types of rocks, including igneous, sedimentary, or metamorphic, and may contain fossils or other natural features. In geology, studying bedrock is an important aspect of understanding the underlying structure and history of an area.\n"
     ]
    }
   ],
   "source": [
    "query = \"what is bedrock?\"\n",
    "\n",
    "print(\n",
    "    ask_llm(\n",
    "        create_prompt(\n",
    "            query=query, \n",
    "            vectordb=Chroma(\n",
    "                embedding_function=embeddings,\n",
    "                persist_directory=persist_directory, \n",
    "                collection_name='langchain',\n",
    "            )\n",
    "        )\n",
    "    )\n",
    ")"
   ]
  },
  {
   "cell_type": "code",
   "execution_count": 34,
   "id": "2f1a312a-fa33-442e-8ab8-4165caa4635e",
   "metadata": {},
   "outputs": [
    {
     "name": "stdout",
     "output_type": "stream",
     "text": [
      " Bedrock refers to the foundational data or knowledge that a language model (LLM) like a Retrieval-Augmented Generation (RAG) system is built upon. It's essentially the collection of facts, concepts, and information that the LLM uses as a base for generating responses or understanding user queries. In the context provided in your text, it seems that RAG models use pretrained language models like sentence transformers or text-embedding-ada-002 as their bedrock knowledge and then retrieve additional relevant information to generate accurate and customized responses. Fine-tuning, on the other hand, is a different approach where you train a model on a specific dataset to improve its performance on that particular task. Both methods can be used in an iterative process to enhance the capabilities of LLMs for complex applications.\n"
     ]
    }
   ],
   "source": [
    "query = \"what is bedrock?\"\n",
    "\n",
    "print(\n",
    "    ask_llm(\n",
    "        create_prompt(\n",
    "            query=query, \n",
    "            vectordb=Chroma(\n",
    "                embedding_function=embeddings,\n",
    "                persist_directory=persist_directory, \n",
    "                collection_name='rag_llm',\n",
    "            )\n",
    "        )\n",
    "    )\n",
    ")"
   ]
  },
  {
   "cell_type": "code",
   "execution_count": 36,
   "id": "93d34e02-18e4-46df-8eb4-d482204f9bed",
   "metadata": {},
   "outputs": [
    {
     "data": {
      "text/plain": [
       "langchain_core.documents.base.Document"
      ]
     },
     "execution_count": 36,
     "metadata": {},
     "output_type": "execute_result"
    }
   ],
   "source": [
    "type(documents[0])"
   ]
  },
  {
   "cell_type": "code",
   "execution_count": 37,
   "id": "62f47ff4-312a-4cc8-9dc1-05f5f2328ee9",
   "metadata": {},
   "outputs": [],
   "source": [
    "from langchain_core.documents.base import Document"
   ]
  },
  {
   "cell_type": "code",
   "execution_count": 39,
   "id": "15af9638-f29d-4d6c-a1ad-c2d145538f68",
   "metadata": {},
   "outputs": [
    {
     "data": {
      "text/plain": [
       "{'page_content': 'The Problem with Pop Psychology\\n\\n\\n\\n\\n\\n\\n\\n\\n\\n\\n\\n\\n\\n\\n\\n\\n\\n\\n\\n\\n\\n\\n\\n\\n\\n\\n\\n\\n\\n\\n\\n\\n\\n\\n\\n\\n\\n\\n\\n\\n\\n\\n\\n\\n\\n\\n\\n\\n\\n\\n\\n\\n\\n\\n\\n\\n\\n\\n\\n\\n\\n\\n\\n\\nSkip to content \\n\\n\\nMenu \\n(03) 9077 0122\\nENTER TELEHEALTH APPOINTMENT\\n \\n\\n\\n\\n\\n\\n\\n\\n \\n\\nMenu \\n\\n\\n\\n\\nMenu \\nHOME\\nABOUT\\n\\nOur Team\\nFAQ\\nWork With Us\\n\\n\\nSERVICES\\n\\nTrauma\\nPregnancy & Birth\\nNew Parents\\nAnxiety\\nDepression\\nPTSD\\nADHD Assessment for Adults\\nAbout Cognitive Processing Therapy for PTSD\\nTelehealth\\n\\n\\nFEES\\nHOW TO REFER\\nCLINICIAN TRAINING\\nBLOG\\nCONTACT\\n \\n\\n\\n\\n\\n\\n\\n\\n\\n\\n\\n\\n\\n\\n\\n\\nThe Problem with Pop Psychology \\n\\n\\n\\n\\n\\n\\n\\n\\n\\n\\n\\n  \\n\\n\\n\\n \\n\\n\\n \\n\\n\\t\\t\\t\\t\\t\\t\\t\\t\\t\\tJon Finch\\t\\t\\t\\t\\t\\n\\n\\n\\n \\n\\nNovember 14, 2023',\n",
       " 'metadata': {'source': 'https://ccp.net.au/the-problem-with-pop-psychology/',\n",
       "  'title': 'The Problem with Pop Psychology',\n",
       "  'description': \"In today's fast-paced world, the language we use often reflects the latest trends and ideas. One area where this is particularly noticeable is in the\",\n",
       "  'language': 'en-AU'},\n",
       " 'type': 'Document'}"
      ]
     },
     "execution_count": 39,
     "metadata": {},
     "output_type": "execute_result"
    }
   ],
   "source": [
    "documents[0].dict()"
   ]
  },
  {
   "cell_type": "code",
   "execution_count": 40,
   "id": "e2caf3a5-f557-4330-900b-8f2799d42e8d",
   "metadata": {},
   "outputs": [
    {
     "data": {
      "text/plain": [
       "<langchain_community.vectorstores.chroma.Chroma at 0x1a777a47a70>"
      ]
     },
     "execution_count": 40,
     "metadata": {},
     "output_type": "execute_result"
    }
   ],
   "source": [
    "uncle_chub = Document(\n",
    "    page_content=\"Uncle chub is a former guild leader of JointBoi from the game called ROO\",\n",
    "    metadata={\n",
    "        \"source\": 'https://unclechub.com/jointboi',\n",
    "        \"title\": 'JointBoi ftw',\n",
    "        \"description\": \"\",\n",
    "        \"language\": 'en-AU'\n",
    "    }\n",
    ")\n",
    "\n",
    "roo = Document(\n",
    "    page_content=\"A classic mmorpg game with the new top-up systems will drain all your money out of the pocket. This game will dry you out, so watch out.\",\n",
    "    metadata={\n",
    "        \"source\": 'https://roo.com/about',\n",
    "        \"title\": 'Ragnarok Online Origin',\n",
    "        \"description\": \"\",\n",
    "        \"language\": 'en-AU'\n",
    "    }\n",
    ")\n",
    "\n",
    "milkyway = Document(\n",
    "    page_content=\"MilkyWay is a guild from the well-known game called Ragnarok Online Origin. The former guild leader is UncleChub, but now the guild leader is Wennedy.\",\n",
    "    metadata={\n",
    "        \"source\": 'https://milkyway/alliance',\n",
    "        \"title\": 'We are MilkyWay!!!',\n",
    "        \"description\": \"\",\n",
    "        \"language\": 'en-AU'\n",
    "    }\n",
    ")\n",
    "\n",
    "add_to_vectordb(embeddings=embeddings, documents=[uncle_chub, roo, milkyway], persist_directory=persist_directory, collection_name=\"roo\")"
   ]
  },
  {
   "cell_type": "code",
   "execution_count": 41,
   "id": "26571177-d47e-46b7-afb7-b31f9da5f832",
   "metadata": {},
   "outputs": [
    {
     "name": "stderr",
     "output_type": "stream",
     "text": [
      "Number of requested results 4 is greater than number of elements in index 3, updating n_results = 3\n"
     ]
    },
    {
     "name": "stdout",
     "output_type": "stream",
     "text": [
      " Yes, I have heard of UncleChub as he was formerly the guild leader of MilkyWay (previously known as JointBoi) in Ragnarok Online Origin. He has been replaced by Wennedy as the current guild leader.\n"
     ]
    }
   ],
   "source": [
    "query = \"Have you heard Uncle Chub before?\"\n",
    "\n",
    "print(\n",
    "    ask_llm(\n",
    "        create_prompt(\n",
    "            query=query, \n",
    "            vectordb=Chroma(\n",
    "                embedding_function=embeddings,\n",
    "                persist_directory=persist_directory, \n",
    "                collection_name='roo',\n",
    "            )\n",
    "        )\n",
    "    )\n",
    ")"
   ]
  },
  {
   "cell_type": "code",
   "execution_count": 42,
   "id": "c2024686-4d80-4d02-9bc1-6f6575a0692a",
   "metadata": {},
   "outputs": [
    {
     "name": "stderr",
     "output_type": "stream",
     "text": [
      "Number of requested results 4 is greater than number of elements in index 3, updating n_results = 3\n"
     ]
    },
    {
     "name": "stdout",
     "output_type": "stream",
     "text": [
      " I'm sorry for any confusion, but it seems there are multiple acronyms being used in your query that could potentially stand for different things: \"ROO,\" \"Ragnarok Online Origin,\" and \"ROO\" being mentioned as a game where Uncle Chub was a former guild leader.\n",
      "\n",
      "Without more context or information, it is impossible to answer what \"ROO\" specifically looks like as it could refer to a game, a guild name, or something else entirely. If you meant to ask about the visual appearance of Ragnarok Online Origin or any of its related in-game elements, I would recommend checking out the official website, trailers, or screenshots for more information.\n",
      "\n",
      "As for the term \"ROO,\" it is often used in gaming communities as an acronym for \"Realm of Obtuse\" or \"Ruled by Obsessives,\" referring to a game's community that can be particularly intense or dedicated. Again, without more context, it is unclear if this is what you meant by your query.\n",
      "\n",
      "If you meant to ask about the appearance of MilkyWay guild in Ragnarok Online Origin, I would suggest checking out the guild's emblem or icon, which may be displayed on the game's website or forums. Alternatively, you could reach out to a member of the guild for more information.\n"
     ]
    }
   ],
   "source": [
    "query = \"What does the ROO look like?\"\n",
    "\n",
    "print(\n",
    "    ask_llm(\n",
    "        create_prompt(\n",
    "            query=query, \n",
    "            vectordb=Chroma(\n",
    "                embedding_function=embeddings,\n",
    "                persist_directory=persist_directory, \n",
    "                collection_name='roo',\n",
    "            )\n",
    "        )\n",
    "    )\n",
    ")"
   ]
  },
  {
   "cell_type": "code",
   "execution_count": 44,
   "id": "ae6813d8-6535-4240-8a40-7c5553bab2de",
   "metadata": {},
   "outputs": [
    {
     "data": {
      "text/plain": [
       "<langchain_community.vectorstores.chroma.Chroma at 0x1a77ddc7440>"
      ]
     },
     "execution_count": 44,
     "metadata": {},
     "output_type": "execute_result"
    }
   ],
   "source": [
    "ragnarok_online_origin = Document(\n",
    "    page_content=\"Ragnarok Online Origin or so called ROO is still open for the global service.\",\n",
    "    metadata={\n",
    "        \"source\": 'https://roo.com/main',\n",
    "        \"title\": 'Ragnarok Online Origin',\n",
    "        \"description\": \"\",\n",
    "        \"language\": 'en-AU'\n",
    "    }\n",
    ")\n",
    "\n",
    "add_to_vectordb(embeddings=embeddings, documents=[ragnarok_online_origin], persist_directory=persist_directory, collection_name=\"roo\")"
   ]
  },
  {
   "cell_type": "code",
   "execution_count": 45,
   "id": "f180e3d3-83c8-48d4-935f-f789f1cffefc",
   "metadata": {},
   "outputs": [
    {
     "name": "stdout",
     "output_type": "stream",
     "text": [
      " I'm an AI language model and I don't have the ability to see or describe physical objects like the ROO (Ragnarok Online Origin) in real life. The term \"ROO\" refers to a specific version or iteration of the massively multiplayer online role-playing game (MMORPG) Ragnarok Online. As for its appearance, it's important to note that MMORPGs are virtual games and their graphics, interface, and overall design can vary greatly depending on the developer's vision and updates over time. There isn't any specific information provided in your context about what the ROO looks like. If you have more details or specifications about the game's graphics or user interface, I would be happy to help answer that question!\n",
      "\n",
      "As for MilkyWay being a guild from ROO and UncleChub being a former guild leader of another ROO guild (JointBoi), those are just pieces of information about the context of the game and its community.\n"
     ]
    }
   ],
   "source": [
    "query = \"What does the ROO look like?\"\n",
    "\n",
    "print(\n",
    "    ask_llm(\n",
    "        create_prompt(\n",
    "            query=query, \n",
    "            vectordb=Chroma(\n",
    "                embedding_function=embeddings,\n",
    "                persist_directory=persist_directory, \n",
    "                collection_name='roo',\n",
    "            )\n",
    "        )\n",
    "    )\n",
    ")"
   ]
  },
  {
   "cell_type": "code",
   "execution_count": 46,
   "id": "7ecf6a38-06ce-457e-91b1-d1ca16b6f888",
   "metadata": {},
   "outputs": [
    {
     "name": "stdout",
     "output_type": "stream",
     "text": [
      " It ultimately depends on your personal circumstances and budget for gaming. Ragnarok Online Origin (ROO) being a classic MMORPG with a top-up system may require regular financial investment to fully enjoy the game. If you are currently experiencing financial hardship, it might be best to consider other free or low-cost gaming options. However, if you have a stable budget for gaming and can afford the costs associated with ROO, then it could still be an enjoyable experience.\n",
      "\n",
      "Joining a guild like MilkyWay, which has an experienced leader in Wennedy, could potentially help you get acclimated to the game and make your experience more enjoyable. But ultimately, only you can decide if the investment of time and money is worth it for you.\n"
     ]
    }
   ],
   "source": [
    "query = \"Poor people should play ROO or not?\"\n",
    "\n",
    "print(\n",
    "    ask_llm(\n",
    "        create_prompt(\n",
    "            query=query, \n",
    "            vectordb=Chroma(\n",
    "                embedding_function=embeddings,\n",
    "                persist_directory=persist_directory, \n",
    "                collection_name='roo',\n",
    "            )\n",
    "        )\n",
    "    )\n",
    ")"
   ]
  },
  {
   "cell_type": "code",
   "execution_count": 47,
   "id": "bd5d865b-14e4-4d6c-8a2b-ed3d4b7bc119",
   "metadata": {},
   "outputs": [
    {
     "name": "stdout",
     "output_type": "stream",
     "text": [
      " I. Introduction\n",
      "Ragnarok Online Origin, often referred to as ROO, is a Massively Multiplayer Online Role-Playing Game (MMORPG) that has been in operation for the global audience. The game is known for its top-up systems which can potentially drain players' financial resources if not managed carefully. MilkyWay is one of the guilds within this game, and they have experienced a leadership change from UncleChub to Wennedy. UncleChub was previously the guild leader of another ROO guild named JointBoi.\n",
      "\n",
      "II. Ragnarok Online Origin (ROO)\n",
      "1. Overview: Ragnarok Online Origin, often referred to as just ROO, is a classic MMORPG that continues to operate globally. The game has gained notoriety for its top-up systems which can be quite costly for players.\n",
      "2. Gameplay: Ragnarok Online Origin offers an immersive gaming experience with intricate character development and strategic teamwork in various PvE and PvP content. Players explore a vast world filled with monsters, quests, and interactive communities.\n",
      "3. Top-up System: The game's top-up system allows players to purchase in-game items or services using real money, which can lead to significant financial commitment if not managed carefully.\n",
      "4. Community: Ragnarok Online Origin boasts a large and dedicated community of players who engage in various activities such as raids, events, and guild building.\n",
      "\n",
      "III. MilkyWay Guild\n",
      "1. Overview: MilkyWay is one of the many guilds within Ragnarok Online Origin. The guild has undergone a leadership change from UncleChub to Wennedy.\n",
      "2. Background: UncleChub, a former guild leader from ROO's JointBoi guild, led MilkyWay at some point in time. Now, the guild is being led by Wennedy.\n",
      "3. Guild Activities: MilkyWay, like many other guilds in Ragnarok Online Origin, participates in various activities such as raids, events, and PvP content to foster a strong community bond among its members.\n",
      "4. Leadership Change: The transition from UncleChub to Wennedy marks a new chapter for MilkyWay within the world of ROO. The guild continues to thrive under its new leadership, adapting and growing in the ever-evolving landscape of this classic MMORPG.\n",
      "\n",
      "IV. Conclusion\n",
      "Ragnarok Online Origin (ROO) is a classic MMORPG that offers an immersive gaming experience but comes with potential financial risks due to its top-up systems. MilkyWay, one of the many guilds within ROO, has experienced a leadership change from UncleChub to Wennedy. Despite this change, the guild continues to be an active and integral part of the larger ROO community.\n"
     ]
    }
   ],
   "source": [
    "query = \"Do you have any information about ROO?\"\n",
    "\n",
    "print(\n",
    "    ask_llm(\n",
    "        create_prompt(\n",
    "            query=query, \n",
    "            vectordb=Chroma(\n",
    "                embedding_function=embeddings,\n",
    "                persist_directory=persist_directory, \n",
    "                collection_name='roo',\n",
    "            )\n",
    "        )\n",
    "    )\n",
    ")"
   ]
  },
  {
   "cell_type": "code",
   "execution_count": 43,
   "id": "d5b6b81d-bda8-45f8-823f-e2beac64b257",
   "metadata": {},
   "outputs": [
    {
     "name": "stderr",
     "output_type": "stream",
     "text": [
      "Number of requested results 4 is greater than number of elements in index 3, updating n_results = 3\n"
     ]
    },
    {
     "name": "stdout",
     "output_type": "stream",
     "text": [
      " The current guild leader of MilkyWay in Ragnarok Online Origin is Wennedy. UncleChub was previously the guild leader but has since stepped down from that role.\n"
     ]
    }
   ],
   "source": [
    "query = \"Who is MilkyWay's guild leader now?\"\n",
    "\n",
    "print(\n",
    "    ask_llm(\n",
    "        create_prompt(\n",
    "            query=query, \n",
    "            vectordb=Chroma(\n",
    "                embedding_function=embeddings,\n",
    "                persist_directory=persist_directory, \n",
    "                collection_name='roo',\n",
    "            )\n",
    "        )\n",
    "    )\n",
    ")"
   ]
  },
  {
   "cell_type": "code",
   "execution_count": 48,
   "id": "1985ac15-da1f-42a1-9ffa-158a1fba691d",
   "metadata": {},
   "outputs": [
    {
     "name": "stdout",
     "output_type": "stream",
     "text": [
      " Rattikarn Lapsongphon is not mentioned in the provided context regarding MilkyWay guild in Ragnarok Online Origin and UncleChub's previous guild, JointBoi.\n"
     ]
    }
   ],
   "source": [
    "query = \"WHO IS RATTIKARN LAPSONGPHON:\"\n",
    "\n",
    "print(\n",
    "    ask_llm(\n",
    "        create_prompt(\n",
    "            query=query, \n",
    "            vectordb=Chroma(\n",
    "                embedding_function=embeddings,\n",
    "                persist_directory=persist_directory, \n",
    "                collection_name='roo',\n",
    "            )\n",
    "        )\n",
    "    )\n",
    ")"
   ]
  },
  {
   "cell_type": "code",
   "execution_count": 50,
   "id": "9f801898-e0dc-474c-861c-b9313e733469",
   "metadata": {},
   "outputs": [
    {
     "name": "stdout",
     "output_type": "stream",
     "text": [
      " Antonio Petrucci is a well-known figure in the world of classical guitar. He was born on December 12, 1961, in Italy and began his musical studies at a young age. Petrucci is renowned for his exceptional technique, expressive playing, and comprehensive knowledge of classical guitar repertoire.\n",
      "\n",
      "Throughout his career, he has been an active performer, competition juror, teacher, and composer. Some of his notable accomplishments include winning first prize in the 1985 International Guitar Competition in Israel, releasing numerous recordings, and publishing various educational materials for classical guitar.\n",
      "\n",
      "Petrucci's teaching career includes positions at prestigious institutions such as the Royal Conservatory of Brussels and the Gnessin State Special Music School in Moscow. He is also known for his masterclasses and private lessons given around the world.\n",
      "\n",
      "Additionally, Antonio Petrucci has contributed significantly to the classical guitar community through his compositions and arrangements for solo guitar and ensembles. Some of his most famous works include \"Suite Italiana,\" \"Romanza,\" and \"Elogio de la Danza.\"\n",
      "\n",
      "Overall, Antonio Petrucci is a highly respected and influential figure in the classical guitar world. His contributions as a performer, teacher, composer, and arranger have left an indelible mark on the history of the instrument.\n"
     ]
    }
   ],
   "source": [
    "query = \"do you know anotonio petrucci?\"\n",
    "\n",
    "print(\n",
    "    ask_llm(\n",
    "        create_prompt(\n",
    "            query=query, \n",
    "            vectordb=Chroma(\n",
    "                embedding_function=embeddings,\n",
    "                persist_directory=persist_directory, \n",
    "                collection_name='langchain',\n",
    "            )\n",
    "        )\n",
    "    )\n",
    ")"
   ]
  },
  {
   "cell_type": "code",
   "execution_count": 51,
   "id": "1531f317-1b03-4d01-89bf-f2b6e502023a",
   "metadata": {},
   "outputs": [
    {
     "name": "stdout",
     "output_type": "stream",
     "text": [
      " Thai people are friendly, hospitable, and respectful. They place great importance on family and community, and their culture is rich in history, traditions, and beautiful art. Thai cuisine is world-renowned for its unique flavors and ingredients. Overall, Thai people are known for their warmth, kindness, and welcoming nature to visitors from all over the world.\n"
     ]
    }
   ],
   "source": [
    "query = \"คนไทยเป็นคนยังไง?\"\n",
    "\n",
    "print(\n",
    "    ask_llm(\n",
    "        create_prompt(\n",
    "            query=query, \n",
    "            vectordb=Chroma(\n",
    "                embedding_function=embeddings,\n",
    "                persist_directory=persist_directory, \n",
    "                collection_name='langchain',\n",
    "            )\n",
    "        )\n",
    "    )\n",
    ")"
   ]
  },
  {
   "cell_type": "code",
   "execution_count": 52,
   "id": "c7c02c7a-e4b0-4bec-af94-9b868b63f6d2",
   "metadata": {},
   "outputs": [
    {
     "name": "stdout",
     "output_type": "stream",
     "text": [
      " Pathompol Nilchaikovit is a Thai professional footballer who plays as a midfielder. He was born on December 2, 1986, in Thailand. Nilchaikovit started his professional football career with Muangthong United in the Thai Premier League. He has also played for other Thai clubs, including Buriram United and Chiangrai United.\n",
      "\n",
      "In addition to his domestic successes, Nilchaikovit has represented Thailand at the international level, making his debut for the national team in 2010. He was a member of the squad that reached the quarter-finals of the 2014 AFC Asian Cup.\n",
      "\n",
      "Nilchaikovit is known for his impressive passing abilities and work rate in the midfield. He has won numerous awards throughout his career, including the Thai Premier League Player of the Year award in 2017 and the AFC Champions League top scorer award in 2013.\n"
     ]
    }
   ],
   "source": [
    "query = \"Who is pathompol nilchaikovit?\"\n",
    "\n",
    "print(\n",
    "    ask_llm(\n",
    "        create_prompt(\n",
    "            query=query, \n",
    "            vectordb=Chroma(\n",
    "                embedding_function=embeddings,\n",
    "                persist_directory=persist_directory, \n",
    "                collection_name='langchain',\n",
    "            )\n",
    "        )\n",
    "    )\n",
    ")"
   ]
  },
  {
   "cell_type": "code",
   "execution_count": 15,
   "id": "7448dd3b-20d6-43ab-9d90-590e37f61790",
   "metadata": {},
   "outputs": [
    {
     "data": {
      "text/plain": [
       "2"
      ]
     },
     "execution_count": 15,
     "metadata": {},
     "output_type": "execute_result"
    }
   ],
   "source": [
    "1+1"
   ]
  },
  {
   "cell_type": "code",
   "execution_count": 4,
   "id": "7ac69f73-05e4-46ec-a57a-b42d20d5d593",
   "metadata": {},
   "outputs": [],
   "source": [
    "from package.crud.read_vectordb import load_vectordb\n",
    "from package.utils import get_context, format_context, generate_prompt\n",
    "from package.generate_response import ask_llm"
   ]
  },
  {
   "cell_type": "code",
   "execution_count": 14,
   "id": "e2c0c5ce-0e96-419d-96b7-fc84f51385f5",
   "metadata": {},
   "outputs": [],
   "source": []
  },
  {
   "cell_type": "code",
   "execution_count": 5,
   "id": "03d72bd8-9e82-4965-a1ec-48dcebce9937",
   "metadata": {},
   "outputs": [
    {
     "name": "stderr",
     "output_type": "stream",
     "text": [
      "C:\\Users\\doublebank\\.conda\\envs\\local-rag-llm\\Lib\\site-packages\\onnxruntime\\capi\\onnxruntime_validation.py:26: UserWarning: Unsupported Windows version (11). ONNX Runtime supports Windows 10 and above, only.\n",
      "  warnings.warn(\n"
     ]
    }
   ],
   "source": [
    "vectordb = load_vectordb()"
   ]
  },
  {
   "cell_type": "code",
   "execution_count": 6,
   "id": "e248a96f-3771-4d76-b66b-2cb783e7013c",
   "metadata": {},
   "outputs": [],
   "source": [
    "query = \"Uncle Chub\""
   ]
  },
  {
   "cell_type": "code",
   "execution_count": 7,
   "id": "de1654ca-df56-4c2f-83d4-6e485c792bc7",
   "metadata": {},
   "outputs": [
    {
     "name": "stdout",
     "output_type": "stream",
     "text": [
      "CPU times: total: 15.6 ms\n",
      "Wall time: 4.92 s\n"
     ]
    }
   ],
   "source": [
    "%%time\n",
    "context = get_context(query, vectordb)"
   ]
  },
  {
   "cell_type": "code",
   "execution_count": 9,
   "id": "bf6c2d19-cefc-4af6-91f9-52deac9a47b9",
   "metadata": {},
   "outputs": [],
   "source": [
    "context = format_context(context)"
   ]
  },
  {
   "cell_type": "code",
   "execution_count": 10,
   "id": "19901c7d-3c81-4ee2-b125-a7861738c47c",
   "metadata": {},
   "outputs": [],
   "source": [
    "prompt = generate_prompt(query, context)"
   ]
  },
  {
   "cell_type": "code",
   "execution_count": 13,
   "id": "6fa5a77c-6391-4ebc-a524-485c2e2be921",
   "metadata": {},
   "outputs": [
    {
     "name": "stdout",
     "output_type": "stream",
     "text": [
      "Query: Uncle Chub\n",
      "\n",
      "Context: MilkyWay is a guild from the well-known game called Ragnarok Online Origin. The former guild leader is UncleChub, but now the guild leader is Wennedy.\n",
      "A classic mmorpg game with the new top-up systems will drain all your money out of the pocket. This game will dry you out, so watch out.\n",
      "Uncle chub is a former guild leader of JointBoi from the game called ROO\n",
      "Ragnarok Online Origin or so called ROO is still open for the global service.\n"
     ]
    }
   ],
   "source": [
    "print(prompt)"
   ]
  },
  {
   "cell_type": "code",
   "execution_count": 15,
   "id": "67b10be5-c00b-4763-9c15-6ee772121d71",
   "metadata": {},
   "outputs": [
    {
     "data": {
      "text/plain": [
       "' UncleChub was formerly the guild leader of \"JointBoi\" in Ragnarok Online Origin (ROO), but he has since been replaced by Wennedy as the current guild leader of \"MilkyWay\". If you\\'re playing ROO and looking for a new guild, keep in mind that MilkyWay is currently being led by Wennedy. Additionally, be aware that Ragnarok Online Origin, like many other classic MMORPGs with new top-up systems, can be financially draining.'"
      ]
     },
     "execution_count": 15,
     "metadata": {},
     "output_type": "execute_result"
    }
   ],
   "source": [
    "ask_llm(prompt)"
   ]
  },
  {
   "cell_type": "code",
   "execution_count": 17,
   "id": "1afc0c8a-a6a5-41d3-92ab-c7936e0de71a",
   "metadata": {},
   "outputs": [],
   "source": [
    "import ollama"
   ]
  },
  {
   "cell_type": "code",
   "execution_count": 19,
   "id": "eb169e0e-dbc3-482b-b312-c75883b829d8",
   "metadata": {},
   "outputs": [
    {
     "data": {
      "text/plain": [
       "['AsyncClient',\n",
       " 'ChatResponse',\n",
       " 'Client',\n",
       " 'GenerateResponse',\n",
       " 'Message',\n",
       " 'Options',\n",
       " 'ProgressResponse',\n",
       " 'RequestError',\n",
       " 'ResponseError',\n",
       " '__all__',\n",
       " '__builtins__',\n",
       " '__cached__',\n",
       " '__doc__',\n",
       " '__file__',\n",
       " '__loader__',\n",
       " '__name__',\n",
       " '__package__',\n",
       " '__path__',\n",
       " '__spec__',\n",
       " '_client',\n",
       " '_types',\n",
       " 'chat',\n",
       " 'copy',\n",
       " 'create',\n",
       " 'delete',\n",
       " 'embeddings',\n",
       " 'generate',\n",
       " 'list',\n",
       " 'pull',\n",
       " 'push',\n",
       " 'show']"
      ]
     },
     "execution_count": 19,
     "metadata": {},
     "output_type": "execute_result"
    }
   ],
   "source": [
    "dir(ollama)"
   ]
  },
  {
   "cell_type": "code",
   "execution_count": 21,
   "id": "1367a8c8-7b41-4d09-9980-a8b1144caeb8",
   "metadata": {},
   "outputs": [],
   "source": [
    "from langchain_community.llms import Ollama\n",
    "\n",
    "llm = Ollama(base_url = 'http://localhost:11434', model=\"mistral\")"
   ]
  },
  {
   "cell_type": "code",
   "execution_count": null,
   "id": "eabd751e-fddb-4fea-8d48-e943a993976c",
   "metadata": {},
   "outputs": [],
   "source": [
    "llm.invoke()"
   ]
  },
  {
   "cell_type": "code",
   "execution_count": 24,
   "id": "c84c420b-ccee-4167-9e5d-ca64afb7c3e4",
   "metadata": {
    "collapsed": true,
    "jupyter": {
     "outputs_hidden": true
    },
    "scrolled": true
   },
   "outputs": [
    {
     "data": {
      "text/plain": [
       "['Config',\n",
       " 'InputType',\n",
       " 'OutputType',\n",
       " '__abstractmethods__',\n",
       " '__annotations__',\n",
       " '__call__',\n",
       " '__class__',\n",
       " '__class_getitem__',\n",
       " '__class_vars__',\n",
       " '__config__',\n",
       " '__custom_root_type__',\n",
       " '__delattr__',\n",
       " '__dict__',\n",
       " '__dir__',\n",
       " '__doc__',\n",
       " '__eq__',\n",
       " '__exclude_fields__',\n",
       " '__fields__',\n",
       " '__fields_set__',\n",
       " '__format__',\n",
       " '__ge__',\n",
       " '__get_validators__',\n",
       " '__getattribute__',\n",
       " '__getstate__',\n",
       " '__gt__',\n",
       " '__hash__',\n",
       " '__include_fields__',\n",
       " '__init__',\n",
       " '__init_subclass__',\n",
       " '__iter__',\n",
       " '__json_encoder__',\n",
       " '__le__',\n",
       " '__lt__',\n",
       " '__module__',\n",
       " '__ne__',\n",
       " '__new__',\n",
       " '__or__',\n",
       " '__orig_bases__',\n",
       " '__parameters__',\n",
       " '__post_root_validators__',\n",
       " '__pre_root_validators__',\n",
       " '__pretty__',\n",
       " '__private_attributes__',\n",
       " '__reduce__',\n",
       " '__reduce_ex__',\n",
       " '__repr__',\n",
       " '__repr_args__',\n",
       " '__repr_name__',\n",
       " '__repr_str__',\n",
       " '__rich_repr__',\n",
       " '__ror__',\n",
       " '__schema_cache__',\n",
       " '__setattr__',\n",
       " '__setstate__',\n",
       " '__signature__',\n",
       " '__sizeof__',\n",
       " '__slots__',\n",
       " '__str__',\n",
       " '__subclasshook__',\n",
       " '__try_update_forward_refs__',\n",
       " '__validators__',\n",
       " '__weakref__',\n",
       " '_abatch_with_config',\n",
       " '_abc_impl',\n",
       " '_acall_with_config',\n",
       " '_acreate_generate_stream',\n",
       " '_acreate_stream',\n",
       " '_agenerate',\n",
       " '_agenerate_helper',\n",
       " '_all_required_field_names',\n",
       " '_astream',\n",
       " '_astream_with_aggregation',\n",
       " '_atransform_stream_with_config',\n",
       " '_batch_with_config',\n",
       " '_calculate_keys',\n",
       " '_call_async',\n",
       " '_call_with_config',\n",
       " '_convert_input',\n",
       " '_copy_and_set_values',\n",
       " '_create_generate_stream',\n",
       " '_create_stream',\n",
       " '_decompose_class',\n",
       " '_default_params',\n",
       " '_enforce_dict_if_root',\n",
       " '_generate',\n",
       " '_generate_helper',\n",
       " '_get_run_ids_list',\n",
       " '_get_value',\n",
       " '_identifying_params',\n",
       " '_init_private_attributes',\n",
       " '_iter',\n",
       " '_lc_kwargs',\n",
       " '_llm_type',\n",
       " '_stream',\n",
       " '_stream_with_aggregation',\n",
       " '_transform_stream_with_config',\n",
       " 'abatch',\n",
       " 'abatch_as_completed',\n",
       " 'agenerate',\n",
       " 'agenerate_prompt',\n",
       " 'ainvoke',\n",
       " 'apredict',\n",
       " 'apredict_messages',\n",
       " 'assign',\n",
       " 'astream',\n",
       " 'astream_events',\n",
       " 'astream_log',\n",
       " 'atransform',\n",
       " 'base_url',\n",
       " 'batch',\n",
       " 'batch_as_completed',\n",
       " 'bind',\n",
       " 'cache',\n",
       " 'callback_manager',\n",
       " 'callbacks',\n",
       " 'config_schema',\n",
       " 'config_specs',\n",
       " 'configurable_alternatives',\n",
       " 'configurable_fields',\n",
       " 'construct',\n",
       " 'copy',\n",
       " 'dict',\n",
       " 'format',\n",
       " 'from_orm',\n",
       " 'generate',\n",
       " 'generate_prompt',\n",
       " 'get_graph',\n",
       " 'get_input_schema',\n",
       " 'get_lc_namespace',\n",
       " 'get_name',\n",
       " 'get_num_tokens',\n",
       " 'get_num_tokens_from_messages',\n",
       " 'get_output_schema',\n",
       " 'get_prompts',\n",
       " 'get_token_ids',\n",
       " 'headers',\n",
       " 'input_schema',\n",
       " 'invoke',\n",
       " 'is_lc_serializable',\n",
       " 'json',\n",
       " 'keep_alive',\n",
       " 'lc_attributes',\n",
       " 'lc_id',\n",
       " 'lc_secrets',\n",
       " 'map',\n",
       " 'metadata',\n",
       " 'mirostat',\n",
       " 'mirostat_eta',\n",
       " 'mirostat_tau',\n",
       " 'model',\n",
       " 'name',\n",
       " 'num_ctx',\n",
       " 'num_gpu',\n",
       " 'num_predict',\n",
       " 'num_thread',\n",
       " 'output_schema',\n",
       " 'parse_file',\n",
       " 'parse_obj',\n",
       " 'parse_raw',\n",
       " 'pick',\n",
       " 'pipe',\n",
       " 'predict',\n",
       " 'predict_messages',\n",
       " 'raise_deprecation',\n",
       " 'repeat_last_n',\n",
       " 'repeat_penalty',\n",
       " 'save',\n",
       " 'schema',\n",
       " 'schema_json',\n",
       " 'set_verbose',\n",
       " 'stop',\n",
       " 'stream',\n",
       " 'system',\n",
       " 'tags',\n",
       " 'temperature',\n",
       " 'template',\n",
       " 'tfs_z',\n",
       " 'timeout',\n",
       " 'to_json',\n",
       " 'to_json_not_implemented',\n",
       " 'top_k',\n",
       " 'top_p',\n",
       " 'transform',\n",
       " 'update_forward_refs',\n",
       " 'validate',\n",
       " 'verbose',\n",
       " 'with_config',\n",
       " 'with_fallbacks',\n",
       " 'with_listeners',\n",
       " 'with_retry',\n",
       " 'with_structured_output',\n",
       " 'with_types']"
      ]
     },
     "execution_count": 24,
     "metadata": {},
     "output_type": "execute_result"
    }
   ],
   "source": [
    "dir(llm)"
   ]
  },
  {
   "cell_type": "code",
   "execution_count": 23,
   "id": "7f880caf-29b7-468b-bc1c-0f779c282637",
   "metadata": {},
   "outputs": [
    {
     "data": {
      "text/plain": [
       "' It seems that \"Uncle Chub\" was formerly the guild leader of \"JointBoi\" in the game Ragnarok Online Origin (ROO). Now, the guild leader position has been taken over by someone named Wennedy, and MilkyWay is a different guild.\\n\\nThe context does not provide any information on why Uncle Chub was no longer the guild leader or what happened to JointBoi. It also does not mention anything about the game draining money or being a classic MMORPG with top-up systems. These details appear unrelated to Uncle Chub and his former guild.'"
      ]
     },
     "execution_count": 23,
     "metadata": {},
     "output_type": "execute_result"
    }
   ],
   "source": [
    "llm.invoke(prompt)"
   ]
  },
  {
   "cell_type": "code",
   "execution_count": null,
   "id": "e555d289-c030-412e-b3ba-de780ad8611b",
   "metadata": {},
   "outputs": [],
   "source": [
    "llm"
   ]
  },
  {
   "cell_type": "code",
   "execution_count": null,
   "id": "af601aea-9e04-42f1-82ac-2fc4c3b8fbba",
   "metadata": {},
   "outputs": [],
   "source": [
    "ollama.chat()"
   ]
  },
  {
   "cell_type": "code",
   "execution_count": 25,
   "id": "7f01f121-2482-473e-ba75-d2b7dc9aebc5",
   "metadata": {},
   "outputs": [],
   "source": [
    "from langchain_community import vectorstores"
   ]
  },
  {
   "cell_type": "code",
   "execution_count": 28,
   "id": "26cef5b1-e6d4-4ad3-b4e3-a7a05ddd1cd4",
   "metadata": {},
   "outputs": [
    {
     "data": {
      "text/plain": [
       "['__abstractmethods__',\n",
       " '__annotations__',\n",
       " '__class__',\n",
       " '__delattr__',\n",
       " '__dict__',\n",
       " '__dir__',\n",
       " '__doc__',\n",
       " '__eq__',\n",
       " '__format__',\n",
       " '__ge__',\n",
       " '__getattribute__',\n",
       " '__getstate__',\n",
       " '__gt__',\n",
       " '__hash__',\n",
       " '__init__',\n",
       " '__init_subclass__',\n",
       " '__le__',\n",
       " '__lt__',\n",
       " '__module__',\n",
       " '__ne__',\n",
       " '__new__',\n",
       " '__reduce__',\n",
       " '__reduce_ex__',\n",
       " '__repr__',\n",
       " '__setattr__',\n",
       " '__sizeof__',\n",
       " '__slots__',\n",
       " '__str__',\n",
       " '__subclasshook__',\n",
       " '__weakref__',\n",
       " '_abc_impl',\n",
       " '_asimilarity_search_with_relevance_scores',\n",
       " '_cosine_relevance_score_fn',\n",
       " '_euclidean_relevance_score_fn',\n",
       " '_get_retriever_tags',\n",
       " '_max_inner_product_relevance_score_fn',\n",
       " '_select_relevance_score_fn',\n",
       " '_similarity_search_with_relevance_scores',\n",
       " 'aadd_documents',\n",
       " 'aadd_texts',\n",
       " 'add_documents',\n",
       " 'add_texts',\n",
       " 'adelete',\n",
       " 'afrom_documents',\n",
       " 'afrom_texts',\n",
       " 'amax_marginal_relevance_search',\n",
       " 'amax_marginal_relevance_search_by_vector',\n",
       " 'as_retriever',\n",
       " 'asearch',\n",
       " 'asimilarity_search',\n",
       " 'asimilarity_search_by_vector',\n",
       " 'asimilarity_search_with_relevance_scores',\n",
       " 'asimilarity_search_with_score',\n",
       " 'delete',\n",
       " 'embeddings',\n",
       " 'from_documents',\n",
       " 'from_texts',\n",
       " 'max_marginal_relevance_search',\n",
       " 'max_marginal_relevance_search_by_vector',\n",
       " 'search',\n",
       " 'similarity_search',\n",
       " 'similarity_search_by_vector',\n",
       " 'similarity_search_with_relevance_scores',\n",
       " 'similarity_search_with_score']"
      ]
     },
     "execution_count": 28,
     "metadata": {},
     "output_type": "execute_result"
    }
   ],
   "source": [
    "dir(vectorstores.chroma.VectorStore)"
   ]
  },
  {
   "cell_type": "code",
   "execution_count": 78,
   "id": "abd6d167-aff2-4410-bb25-a43084130c9b",
   "metadata": {},
   "outputs": [],
   "source": [
    "import chromadb\n",
    "client = chromadb.PersistentClient(path=\"./vectordb\")"
   ]
  },
  {
   "cell_type": "code",
   "execution_count": 30,
   "id": "ab1ebf90-7811-4338-84a9-4926ea25c5cf",
   "metadata": {
    "collapsed": true,
    "jupyter": {
     "outputs_hidden": true
    },
    "scrolled": true
   },
   "outputs": [
    {
     "data": {
      "text/plain": [
       "['__abstractmethods__',\n",
       " '__annotations__',\n",
       " '__class__',\n",
       " '__delattr__',\n",
       " '__dict__',\n",
       " '__dir__',\n",
       " '__doc__',\n",
       " '__eq__',\n",
       " '__format__',\n",
       " '__ge__',\n",
       " '__getattribute__',\n",
       " '__getstate__',\n",
       " '__gt__',\n",
       " '__hash__',\n",
       " '__init__',\n",
       " '__init_subclass__',\n",
       " '__le__',\n",
       " '__lt__',\n",
       " '__module__',\n",
       " '__ne__',\n",
       " '__new__',\n",
       " '__reduce__',\n",
       " '__reduce_ex__',\n",
       " '__repr__',\n",
       " '__setattr__',\n",
       " '__sizeof__',\n",
       " '__slots__',\n",
       " '__str__',\n",
       " '__subclasshook__',\n",
       " '__weakref__',\n",
       " '_abc_impl',\n",
       " '_add',\n",
       " '_admin_client',\n",
       " '_count',\n",
       " '_create_system_if_not_exists',\n",
       " '_delete',\n",
       " '_get',\n",
       " '_get_identifier_from_settings',\n",
       " '_identifer_to_system',\n",
       " '_identifier',\n",
       " '_modify',\n",
       " '_peek',\n",
       " '_populate_data_from_system',\n",
       " '_query',\n",
       " '_server',\n",
       " '_system',\n",
       " '_update',\n",
       " '_upsert',\n",
       " '_validate_tenant_database',\n",
       " 'clear_system_cache',\n",
       " 'count_collections',\n",
       " 'create_collection',\n",
       " 'database',\n",
       " 'delete_collection',\n",
       " 'from_system',\n",
       " 'get_collection',\n",
       " 'get_or_create_collection',\n",
       " 'get_settings',\n",
       " 'get_version',\n",
       " 'heartbeat',\n",
       " 'list_collections',\n",
       " 'max_batch_size',\n",
       " 'reset',\n",
       " 'set_database',\n",
       " 'set_tenant',\n",
       " 'tenant']"
      ]
     },
     "execution_count": 30,
     "metadata": {},
     "output_type": "execute_result"
    }
   ],
   "source": [
    "dir(client)"
   ]
  },
  {
   "cell_type": "code",
   "execution_count": 80,
   "id": "67eb10b7-c23a-4a86-a231-2408d8ae980c",
   "metadata": {},
   "outputs": [
    {
     "data": {
      "text/plain": [
       "['__abstractmethods__',\n",
       " '__annotations__',\n",
       " '__class__',\n",
       " '__delattr__',\n",
       " '__dict__',\n",
       " '__dir__',\n",
       " '__doc__',\n",
       " '__eq__',\n",
       " '__format__',\n",
       " '__ge__',\n",
       " '__getattribute__',\n",
       " '__getstate__',\n",
       " '__gt__',\n",
       " '__hash__',\n",
       " '__init__',\n",
       " '__init_subclass__',\n",
       " '__le__',\n",
       " '__lt__',\n",
       " '__module__',\n",
       " '__ne__',\n",
       " '__new__',\n",
       " '__reduce__',\n",
       " '__reduce_ex__',\n",
       " '__repr__',\n",
       " '__setattr__',\n",
       " '__sizeof__',\n",
       " '__slots__',\n",
       " '__str__',\n",
       " '__subclasshook__',\n",
       " '__weakref__',\n",
       " '_abc_impl',\n",
       " '_add',\n",
       " '_admin_client',\n",
       " '_count',\n",
       " '_create_system_if_not_exists',\n",
       " '_delete',\n",
       " '_get',\n",
       " '_get_identifier_from_settings',\n",
       " '_identifer_to_system',\n",
       " '_identifier',\n",
       " '_modify',\n",
       " '_peek',\n",
       " '_populate_data_from_system',\n",
       " '_query',\n",
       " '_server',\n",
       " '_system',\n",
       " '_update',\n",
       " '_upsert',\n",
       " '_validate_tenant_database',\n",
       " 'clear_system_cache',\n",
       " 'count_collections',\n",
       " 'create_collection',\n",
       " 'database',\n",
       " 'delete_collection',\n",
       " 'from_system',\n",
       " 'get_collection',\n",
       " 'get_or_create_collection',\n",
       " 'get_settings',\n",
       " 'get_version',\n",
       " 'heartbeat',\n",
       " 'list_collections',\n",
       " 'max_batch_size',\n",
       " 'reset',\n",
       " 'set_database',\n",
       " 'set_tenant',\n",
       " 'tenant']"
      ]
     },
     "execution_count": 80,
     "metadata": {},
     "output_type": "execute_result"
    }
   ],
   "source": [
    "dir(client)"
   ]
  },
  {
   "cell_type": "code",
   "execution_count": 82,
   "id": "e4320911-80f7-45b4-82f6-a9a3b67dc1f5",
   "metadata": {
    "collapsed": true,
    "jupyter": {
     "outputs_hidden": true
    }
   },
   "outputs": [
    {
     "data": {
      "text/plain": [
       "['__abstractmethods__',\n",
       " '__annotations__',\n",
       " '__class__',\n",
       " '__class_getitem__',\n",
       " '__class_vars__',\n",
       " '__copy__',\n",
       " '__deepcopy__',\n",
       " '__delattr__',\n",
       " '__dict__',\n",
       " '__dir__',\n",
       " '__doc__',\n",
       " '__eq__',\n",
       " '__fields__',\n",
       " '__fields_set__',\n",
       " '__format__',\n",
       " '__ge__',\n",
       " '__get_pydantic_core_schema__',\n",
       " '__get_pydantic_json_schema__',\n",
       " '__getattr__',\n",
       " '__getattribute__',\n",
       " '__getstate__',\n",
       " '__gt__',\n",
       " '__hash__',\n",
       " '__init__',\n",
       " '__init_subclass__',\n",
       " '__iter__',\n",
       " '__le__',\n",
       " '__lt__',\n",
       " '__module__',\n",
       " '__ne__',\n",
       " '__new__',\n",
       " '__pretty__',\n",
       " '__private_attributes__',\n",
       " '__pydantic_complete__',\n",
       " '__pydantic_core_schema__',\n",
       " '__pydantic_custom_init__',\n",
       " '__pydantic_decorators__',\n",
       " '__pydantic_extra__',\n",
       " '__pydantic_fields_set__',\n",
       " '__pydantic_generic_metadata__',\n",
       " '__pydantic_init_subclass__',\n",
       " '__pydantic_parent_namespace__',\n",
       " '__pydantic_post_init__',\n",
       " '__pydantic_private__',\n",
       " '__pydantic_root_model__',\n",
       " '__pydantic_serializer__',\n",
       " '__pydantic_validator__',\n",
       " '__reduce__',\n",
       " '__reduce_ex__',\n",
       " '__repr__',\n",
       " '__repr_args__',\n",
       " '__repr_name__',\n",
       " '__repr_str__',\n",
       " '__rich_repr__',\n",
       " '__setattr__',\n",
       " '__setstate__',\n",
       " '__signature__',\n",
       " '__sizeof__',\n",
       " '__slots__',\n",
       " '__str__',\n",
       " '__subclasshook__',\n",
       " '__weakref__',\n",
       " '_abc_impl',\n",
       " '_calculate_keys',\n",
       " '_check_frozen',\n",
       " '_copy_and_set_values',\n",
       " '_embed',\n",
       " '_get_value',\n",
       " '_iter',\n",
       " '_normalize_embeddings',\n",
       " '_validate_embedding_set',\n",
       " 'add',\n",
       " 'construct',\n",
       " 'copy',\n",
       " 'count',\n",
       " 'database',\n",
       " 'delete',\n",
       " 'dict',\n",
       " 'from_orm',\n",
       " 'get',\n",
       " 'id',\n",
       " 'json',\n",
       " 'metadata',\n",
       " 'model_computed_fields',\n",
       " 'model_config',\n",
       " 'model_construct',\n",
       " 'model_copy',\n",
       " 'model_dump',\n",
       " 'model_dump_json',\n",
       " 'model_extra',\n",
       " 'model_fields',\n",
       " 'model_fields_set',\n",
       " 'model_json_schema',\n",
       " 'model_parametrized_name',\n",
       " 'model_post_init',\n",
       " 'model_rebuild',\n",
       " 'model_validate',\n",
       " 'model_validate_json',\n",
       " 'model_validate_strings',\n",
       " 'modify',\n",
       " 'name',\n",
       " 'parse_file',\n",
       " 'parse_obj',\n",
       " 'parse_raw',\n",
       " 'peek',\n",
       " 'query',\n",
       " 'schema',\n",
       " 'schema_json',\n",
       " 'tenant',\n",
       " 'update',\n",
       " 'update_forward_refs',\n",
       " 'upsert',\n",
       " 'validate']"
      ]
     },
     "execution_count": 82,
     "metadata": {},
     "output_type": "execute_result"
    }
   ],
   "source": [
    "dir(client.get_collection(name=\"langchain\"))"
   ]
  },
  {
   "cell_type": "code",
   "execution_count": null,
   "id": "e71b7605-acd5-4b43-be83-4ecc965d45d6",
   "metadata": {},
   "outputs": [],
   "source": []
  },
  {
   "cell_type": "code",
   "execution_count": 88,
   "id": "9c948d90-0fce-4e7d-a0a0-119cef014ed1",
   "metadata": {},
   "outputs": [],
   "source": [
    "client.delete_collection(name=\"langchain\")"
   ]
  },
  {
   "cell_type": "code",
   "execution_count": 89,
   "id": "62c9540d-a75a-4f05-806c-7fe8a1289914",
   "metadata": {},
   "outputs": [
    {
     "data": {
      "text/plain": [
       "[Collection(name=pop_psychology),\n",
       " Collection(name=roo),\n",
       " Collection(name=streamlit),\n",
       " Collection(name=rag_llm)]"
      ]
     },
     "execution_count": 89,
     "metadata": {},
     "output_type": "execute_result"
    }
   ],
   "source": [
    "client.list_collections()"
   ]
  },
  {
   "cell_type": "code",
   "execution_count": 39,
   "id": "2c0f5b9a-92dd-4ff3-9fc6-e891c50e22e0",
   "metadata": {},
   "outputs": [],
   "source": [
    "from package import embeddings"
   ]
  },
  {
   "cell_type": "code",
   "execution_count": 45,
   "id": "4fffcf28-088f-45e2-9e67-f227a5c53cca",
   "metadata": {},
   "outputs": [],
   "source": [
    "from chromadb import Documents, EmbeddingFunction, Embeddings\n",
    "\n",
    "class MyEmbeddingFunction(EmbeddingFunction):\n",
    "    def __call__(self, input: Documents) -> Embeddings:\n",
    "        # embed the documents somehow\n",
    "        return embeddings"
   ]
  },
  {
   "cell_type": "code",
   "execution_count": 62,
   "id": "3dbc7e48-4ac3-4664-9c4d-8731fc2394c3",
   "metadata": {},
   "outputs": [
    {
     "data": {
      "text/plain": [
       "Collection(name=roo)"
      ]
     },
     "execution_count": 62,
     "metadata": {},
     "output_type": "execute_result"
    }
   ],
   "source": [
    "emb = MyEmbeddingFunction(embeddings)\n",
    "\n",
    "collection = client.get_collection(name='roo', embedding_function=emb)\n",
    "collection"
   ]
  },
  {
   "cell_type": "code",
   "execution_count": 68,
   "id": "912936fb-c1a1-40b8-ab60-82ff3bc5e542",
   "metadata": {},
   "outputs": [
    {
     "data": {
      "text/plain": [
       "['__call__',\n",
       " '__class__',\n",
       " '__delattr__',\n",
       " '__dir__',\n",
       " '__doc__',\n",
       " '__eq__',\n",
       " '__format__',\n",
       " '__func__',\n",
       " '__ge__',\n",
       " '__getattribute__',\n",
       " '__getstate__',\n",
       " '__gt__',\n",
       " '__hash__',\n",
       " '__init__',\n",
       " '__init_subclass__',\n",
       " '__le__',\n",
       " '__lt__',\n",
       " '__ne__',\n",
       " '__new__',\n",
       " '__reduce__',\n",
       " '__reduce_ex__',\n",
       " '__repr__',\n",
       " '__self__',\n",
       " '__setattr__',\n",
       " '__sizeof__',\n",
       " '__str__',\n",
       " '__subclasshook__']"
      ]
     },
     "execution_count": 68,
     "metadata": {},
     "output_type": "execute_result"
    }
   ],
   "source": [
    "dir(embeddings.embed_documents)"
   ]
  },
  {
   "cell_type": "code",
   "execution_count": 76,
   "id": "5d9c1272-aa25-43a2-beaa-7d3db5851ad0",
   "metadata": {},
   "outputs": [],
   "source": [
    "from package.utils import list_db_collections"
   ]
  },
  {
   "cell_type": "code",
   "execution_count": 77,
   "id": "654feed6-f8e5-4d65-82c9-cc959032d8ce",
   "metadata": {},
   "outputs": [
    {
     "data": {
      "text/plain": [
       "['pop_psychology', 'roo', 'langchain', 'rag_llm']"
      ]
     },
     "execution_count": 77,
     "metadata": {},
     "output_type": "execute_result"
    }
   ],
   "source": [
    "list_db_collections()"
   ]
  },
  {
   "cell_type": "code",
   "execution_count": 64,
   "id": "ab8155ec-1c2a-498f-afa5-d336fab38656",
   "metadata": {},
   "outputs": [
    {
     "ename": "ValueError",
     "evalue": "Expected embeddings to be a list, got base_url='http://localhost:11434' model='mistral' embed_instruction='passage: ' query_instruction='query: ' mirostat=None mirostat_eta=None mirostat_tau=None num_ctx=None num_gpu=None num_thread=None repeat_last_n=None repeat_penalty=None temperature=None stop=None tfs_z=None top_k=None top_p=None show_progress=False headers=None model_kwargs=None",
     "output_type": "error",
     "traceback": [
      "\u001b[1;31m---------------------------------------------------------------------------\u001b[0m",
      "\u001b[1;31mValueError\u001b[0m                                Traceback (most recent call last)",
      "Cell \u001b[1;32mIn[64], line 1\u001b[0m\n\u001b[1;32m----> 1\u001b[0m \u001b[43memb\u001b[49m\u001b[43m(\u001b[49m\u001b[43m[\u001b[49m\u001b[38;5;124;43m\"\u001b[39;49m\u001b[38;5;124;43mFOO\u001b[39;49m\u001b[38;5;124;43m\"\u001b[39;49m\u001b[43m]\u001b[49m\u001b[43m)\u001b[49m\n",
      "File \u001b[1;32m~\\.conda\\envs\\local-rag-llm\\Lib\\site-packages\\chromadb\\api\\types.py:194\u001b[0m, in \u001b[0;36mEmbeddingFunction.__init_subclass__.<locals>.__call__\u001b[1;34m(self, input)\u001b[0m\n\u001b[0;32m    192\u001b[0m \u001b[38;5;28;01mdef\u001b[39;00m \u001b[38;5;21m__call__\u001b[39m(\u001b[38;5;28mself\u001b[39m: EmbeddingFunction[D], \u001b[38;5;28minput\u001b[39m: D) \u001b[38;5;241m-\u001b[39m\u001b[38;5;241m>\u001b[39m Embeddings:\n\u001b[0;32m    193\u001b[0m     result \u001b[38;5;241m=\u001b[39m call(\u001b[38;5;28mself\u001b[39m, \u001b[38;5;28minput\u001b[39m)\n\u001b[1;32m--> 194\u001b[0m     \u001b[38;5;28;01mreturn\u001b[39;00m \u001b[43mvalidate_embeddings\u001b[49m\u001b[43m(\u001b[49m\u001b[43mmaybe_cast_one_to_many_embedding\u001b[49m\u001b[43m(\u001b[49m\u001b[43mresult\u001b[49m\u001b[43m)\u001b[49m\u001b[43m)\u001b[49m\n",
      "File \u001b[1;32m~\\.conda\\envs\\local-rag-llm\\Lib\\site-packages\\chromadb\\api\\types.py:474\u001b[0m, in \u001b[0;36mvalidate_embeddings\u001b[1;34m(embeddings)\u001b[0m\n\u001b[0;32m    472\u001b[0m \u001b[38;5;250m\u001b[39m\u001b[38;5;124;03m\"\"\"Validates embeddings to ensure it is a list of list of ints, or floats\"\"\"\u001b[39;00m\n\u001b[0;32m    473\u001b[0m \u001b[38;5;28;01mif\u001b[39;00m \u001b[38;5;129;01mnot\u001b[39;00m \u001b[38;5;28misinstance\u001b[39m(embeddings, \u001b[38;5;28mlist\u001b[39m):\n\u001b[1;32m--> 474\u001b[0m     \u001b[38;5;28;01mraise\u001b[39;00m \u001b[38;5;167;01mValueError\u001b[39;00m(\u001b[38;5;124mf\u001b[39m\u001b[38;5;124m\"\u001b[39m\u001b[38;5;124mExpected embeddings to be a list, got \u001b[39m\u001b[38;5;132;01m{\u001b[39;00membeddings\u001b[38;5;132;01m}\u001b[39;00m\u001b[38;5;124m\"\u001b[39m)\n\u001b[0;32m    475\u001b[0m \u001b[38;5;28;01mif\u001b[39;00m \u001b[38;5;28mlen\u001b[39m(embeddings) \u001b[38;5;241m==\u001b[39m \u001b[38;5;241m0\u001b[39m:\n\u001b[0;32m    476\u001b[0m     \u001b[38;5;28;01mraise\u001b[39;00m \u001b[38;5;167;01mValueError\u001b[39;00m(\n\u001b[0;32m    477\u001b[0m         \u001b[38;5;124mf\u001b[39m\u001b[38;5;124m\"\u001b[39m\u001b[38;5;124mExpected embeddings to be a list with at least one item, got \u001b[39m\u001b[38;5;132;01m{\u001b[39;00membeddings\u001b[38;5;132;01m}\u001b[39;00m\u001b[38;5;124m\"\u001b[39m\n\u001b[0;32m    478\u001b[0m     )\n",
      "\u001b[1;31mValueError\u001b[0m: Expected embeddings to be a list, got base_url='http://localhost:11434' model='mistral' embed_instruction='passage: ' query_instruction='query: ' mirostat=None mirostat_eta=None mirostat_tau=None num_ctx=None num_gpu=None num_thread=None repeat_last_n=None repeat_penalty=None temperature=None stop=None tfs_z=None top_k=None top_p=None show_progress=False headers=None model_kwargs=None"
     ]
    }
   ],
   "source": [
    "emb([\"FOO\"])"
   ]
  },
  {
   "cell_type": "code",
   "execution_count": 51,
   "id": "8d4c1dc2-8706-4ff4-8ad7-c00974364244",
   "metadata": {
    "collapsed": true,
    "jupyter": {
     "outputs_hidden": true
    }
   },
   "outputs": [
    {
     "data": {
      "text/plain": [
       "['__abstractmethods__',\n",
       " '__annotations__',\n",
       " '__class__',\n",
       " '__class_getitem__',\n",
       " '__class_vars__',\n",
       " '__copy__',\n",
       " '__deepcopy__',\n",
       " '__delattr__',\n",
       " '__dict__',\n",
       " '__dir__',\n",
       " '__doc__',\n",
       " '__eq__',\n",
       " '__fields__',\n",
       " '__fields_set__',\n",
       " '__format__',\n",
       " '__ge__',\n",
       " '__get_pydantic_core_schema__',\n",
       " '__get_pydantic_json_schema__',\n",
       " '__getattr__',\n",
       " '__getattribute__',\n",
       " '__getstate__',\n",
       " '__gt__',\n",
       " '__hash__',\n",
       " '__init__',\n",
       " '__init_subclass__',\n",
       " '__iter__',\n",
       " '__le__',\n",
       " '__lt__',\n",
       " '__module__',\n",
       " '__ne__',\n",
       " '__new__',\n",
       " '__pretty__',\n",
       " '__private_attributes__',\n",
       " '__pydantic_complete__',\n",
       " '__pydantic_core_schema__',\n",
       " '__pydantic_custom_init__',\n",
       " '__pydantic_decorators__',\n",
       " '__pydantic_extra__',\n",
       " '__pydantic_fields_set__',\n",
       " '__pydantic_generic_metadata__',\n",
       " '__pydantic_init_subclass__',\n",
       " '__pydantic_parent_namespace__',\n",
       " '__pydantic_post_init__',\n",
       " '__pydantic_private__',\n",
       " '__pydantic_root_model__',\n",
       " '__pydantic_serializer__',\n",
       " '__pydantic_validator__',\n",
       " '__reduce__',\n",
       " '__reduce_ex__',\n",
       " '__repr__',\n",
       " '__repr_args__',\n",
       " '__repr_name__',\n",
       " '__repr_str__',\n",
       " '__rich_repr__',\n",
       " '__setattr__',\n",
       " '__setstate__',\n",
       " '__signature__',\n",
       " '__sizeof__',\n",
       " '__slots__',\n",
       " '__str__',\n",
       " '__subclasshook__',\n",
       " '__weakref__',\n",
       " '_abc_impl',\n",
       " '_calculate_keys',\n",
       " '_check_frozen',\n",
       " '_copy_and_set_values',\n",
       " '_embed',\n",
       " '_get_value',\n",
       " '_iter',\n",
       " '_normalize_embeddings',\n",
       " '_validate_embedding_set',\n",
       " 'add',\n",
       " 'construct',\n",
       " 'copy',\n",
       " 'count',\n",
       " 'database',\n",
       " 'delete',\n",
       " 'dict',\n",
       " 'from_orm',\n",
       " 'get',\n",
       " 'id',\n",
       " 'json',\n",
       " 'metadata',\n",
       " 'model_computed_fields',\n",
       " 'model_config',\n",
       " 'model_construct',\n",
       " 'model_copy',\n",
       " 'model_dump',\n",
       " 'model_dump_json',\n",
       " 'model_extra',\n",
       " 'model_fields',\n",
       " 'model_fields_set',\n",
       " 'model_json_schema',\n",
       " 'model_parametrized_name',\n",
       " 'model_post_init',\n",
       " 'model_rebuild',\n",
       " 'model_validate',\n",
       " 'model_validate_json',\n",
       " 'model_validate_strings',\n",
       " 'modify',\n",
       " 'name',\n",
       " 'parse_file',\n",
       " 'parse_obj',\n",
       " 'parse_raw',\n",
       " 'peek',\n",
       " 'query',\n",
       " 'schema',\n",
       " 'schema_json',\n",
       " 'tenant',\n",
       " 'update',\n",
       " 'update_forward_refs',\n",
       " 'upsert',\n",
       " 'validate']"
      ]
     },
     "execution_count": 51,
     "metadata": {},
     "output_type": "execute_result"
    }
   ],
   "source": [
    "dir(collection)"
   ]
  },
  {
   "cell_type": "code",
   "execution_count": 55,
   "id": "91562399-4a5a-4c3e-88db-ee651dc2ff05",
   "metadata": {
    "collapsed": true,
    "jupyter": {
     "outputs_hidden": true
    }
   },
   "outputs": [
    {
     "data": {
      "text/plain": [
       "['Config',\n",
       " '__abstractmethods__',\n",
       " '__annotations__',\n",
       " '__class__',\n",
       " '__class_vars__',\n",
       " '__config__',\n",
       " '__custom_root_type__',\n",
       " '__delattr__',\n",
       " '__dict__',\n",
       " '__dir__',\n",
       " '__doc__',\n",
       " '__eq__',\n",
       " '__exclude_fields__',\n",
       " '__fields__',\n",
       " '__fields_set__',\n",
       " '__format__',\n",
       " '__ge__',\n",
       " '__get_validators__',\n",
       " '__getattribute__',\n",
       " '__getstate__',\n",
       " '__gt__',\n",
       " '__hash__',\n",
       " '__include_fields__',\n",
       " '__init__',\n",
       " '__init_subclass__',\n",
       " '__iter__',\n",
       " '__json_encoder__',\n",
       " '__le__',\n",
       " '__lt__',\n",
       " '__module__',\n",
       " '__ne__',\n",
       " '__new__',\n",
       " '__post_root_validators__',\n",
       " '__pre_root_validators__',\n",
       " '__pretty__',\n",
       " '__private_attributes__',\n",
       " '__reduce__',\n",
       " '__reduce_ex__',\n",
       " '__repr__',\n",
       " '__repr_args__',\n",
       " '__repr_name__',\n",
       " '__repr_str__',\n",
       " '__rich_repr__',\n",
       " '__schema_cache__',\n",
       " '__setattr__',\n",
       " '__setstate__',\n",
       " '__signature__',\n",
       " '__sizeof__',\n",
       " '__slots__',\n",
       " '__str__',\n",
       " '__subclasshook__',\n",
       " '__try_update_forward_refs__',\n",
       " '__validators__',\n",
       " '__weakref__',\n",
       " '_abc_impl',\n",
       " '_calculate_keys',\n",
       " '_copy_and_set_values',\n",
       " '_decompose_class',\n",
       " '_default_params',\n",
       " '_embed',\n",
       " '_enforce_dict_if_root',\n",
       " '_get_value',\n",
       " '_identifying_params',\n",
       " '_init_private_attributes',\n",
       " '_iter',\n",
       " '_process_emb_response',\n",
       " 'aembed_documents',\n",
       " 'aembed_query',\n",
       " 'base_url',\n",
       " 'construct',\n",
       " 'copy',\n",
       " 'dict',\n",
       " 'embed_documents',\n",
       " 'embed_instruction',\n",
       " 'embed_query',\n",
       " 'from_orm',\n",
       " 'headers',\n",
       " 'json',\n",
       " 'mirostat',\n",
       " 'mirostat_eta',\n",
       " 'mirostat_tau',\n",
       " 'model',\n",
       " 'model_kwargs',\n",
       " 'num_ctx',\n",
       " 'num_gpu',\n",
       " 'num_thread',\n",
       " 'parse_file',\n",
       " 'parse_obj',\n",
       " 'parse_raw',\n",
       " 'query_instruction',\n",
       " 'repeat_last_n',\n",
       " 'repeat_penalty',\n",
       " 'schema',\n",
       " 'schema_json',\n",
       " 'show_progress',\n",
       " 'stop',\n",
       " 'temperature',\n",
       " 'tfs_z',\n",
       " 'top_k',\n",
       " 'top_p',\n",
       " 'update_forward_refs',\n",
       " 'validate']"
      ]
     },
     "execution_count": 55,
     "metadata": {},
     "output_type": "execute_result"
    }
   ],
   "source": [
    "dir(embeddings)"
   ]
  },
  {
   "cell_type": "code",
   "execution_count": 56,
   "id": "79f01128-b569-4dea-bfc1-24113df5b455",
   "metadata": {
    "collapsed": true,
    "jupyter": {
     "outputs_hidden": true
    }
   },
   "outputs": [
    {
     "data": {
      "text/plain": [
       "[[-1.4971281290054321,\n",
       "  2.565671920776367,\n",
       "  -2.8236083984375,\n",
       "  -6.327280521392822,\n",
       "  -4.457996845245361,\n",
       "  -2.27748703956604,\n",
       "  -5.745776176452637,\n",
       "  6.592594146728516,\n",
       "  2.7100143432617188,\n",
       "  4.080917835235596,\n",
       "  0.5275201797485352,\n",
       "  6.531179904937744,\n",
       "  -7.3103837966918945,\n",
       "  1.855440616607666,\n",
       "  5.349830627441406,\n",
       "  0.25641947984695435,\n",
       "  -0.6482337713241577,\n",
       "  3.1755452156066895,\n",
       "  0.19990728795528412,\n",
       "  -6.779272556304932,\n",
       "  8.942420959472656,\n",
       "  -5.537298679351807,\n",
       "  5.716923713684082,\n",
       "  5.040398120880127,\n",
       "  -8.94235610961914,\n",
       "  1.7492998838424683,\n",
       "  -1.316156029701233,\n",
       "  -2.185901165008545,\n",
       "  1.1821198463439941,\n",
       "  -2.6535887718200684,\n",
       "  -1.7652981281280518,\n",
       "  14.186317443847656,\n",
       "  -3.284661293029785,\n",
       "  -0.6676474809646606,\n",
       "  3.4080379009246826,\n",
       "  0.8923372626304626,\n",
       "  -1.3582274913787842,\n",
       "  5.707087993621826,\n",
       "  -5.280853271484375,\n",
       "  3.984663486480713,\n",
       "  2.9445595741271973,\n",
       "  0.1856198012828827,\n",
       "  1.9413093328475952,\n",
       "  -0.44933897256851196,\n",
       "  5.316654682159424,\n",
       "  -0.629268229007721,\n",
       "  -1.6546411514282227,\n",
       "  -3.1991629600524902,\n",
       "  -1.5166151523590088,\n",
       "  -0.08759291470050812,\n",
       "  8.26196002960205,\n",
       "  0.055809058248996735,\n",
       "  -2.2688727378845215,\n",
       "  30.570533752441406,\n",
       "  2.1944050788879395,\n",
       "  0.406426340341568,\n",
       "  -10.070813179016113,\n",
       "  3.1704061031341553,\n",
       "  -3.460700273513794,\n",
       "  -8.084376335144043,\n",
       "  4.0523576736450195,\n",
       "  -3.718264579772949,\n",
       "  1.5707097053527832,\n",
       "  -1.7244336605072021,\n",
       "  -1.5250961780548096,\n",
       "  5.164778232574463,\n",
       "  -0.1982373744249344,\n",
       "  0.513205885887146,\n",
       "  0.6003750562667847,\n",
       "  -0.9666891694068909,\n",
       "  1.4155750274658203,\n",
       "  -5.796641826629639,\n",
       "  -2.5862765312194824,\n",
       "  -9.445328712463379,\n",
       "  -3.533474922180176,\n",
       "  -6.476039886474609,\n",
       "  -1.9201608896255493,\n",
       "  -4.480094909667969,\n",
       "  3.3386340141296387,\n",
       "  4.077298641204834,\n",
       "  0.27115821838378906,\n",
       "  -2.3561081886291504,\n",
       "  -2.253826141357422,\n",
       "  2.314232587814331,\n",
       "  1.9216240644454956,\n",
       "  -6.999459266662598,\n",
       "  -1.7258566617965698,\n",
       "  -4.885947227478027,\n",
       "  -1.1981865167617798,\n",
       "  -7.08213996887207,\n",
       "  5.399746894836426,\n",
       "  15.503865242004395,\n",
       "  -2.2622148990631104,\n",
       "  60.72451400756836,\n",
       "  -4.201927185058594,\n",
       "  -10.546663284301758,\n",
       "  -3.629660129547119,\n",
       "  -12.085196495056152,\n",
       "  -1.2106879949569702,\n",
       "  9.985018730163574,\n",
       "  12.61164665222168,\n",
       "  4.048769474029541,\n",
       "  6.205828666687012,\n",
       "  -5.006484031677246,\n",
       "  2.2694175243377686,\n",
       "  4.192610263824463,\n",
       "  0.19660016894340515,\n",
       "  1.3826972246170044,\n",
       "  2.10486102104187,\n",
       "  10.499958992004395,\n",
       "  1.9742686748504639,\n",
       "  1.9500988721847534,\n",
       "  6.10366678237915,\n",
       "  2.7210159301757812,\n",
       "  -0.1800539791584015,\n",
       "  3.2299182415008545,\n",
       "  -4.264777660369873,\n",
       "  9.948991775512695,\n",
       "  -0.27034470438957214,\n",
       "  3.5091240406036377,\n",
       "  6.595403671264648,\n",
       "  -2.732069253921509,\n",
       "  1.86580491065979,\n",
       "  -4.564117431640625,\n",
       "  8.695560455322266,\n",
       "  -2.289560317993164,\n",
       "  1.366051435470581,\n",
       "  0.0678270161151886,\n",
       "  -7.060945510864258,\n",
       "  -5.165747165679932,\n",
       "  3.9555885791778564,\n",
       "  -0.15258993208408356,\n",
       "  -9.376496315002441,\n",
       "  -5.458556175231934,\n",
       "  -0.9936661720275879,\n",
       "  -7.104315280914307,\n",
       "  2.760399103164673,\n",
       "  5.9255475997924805,\n",
       "  2.5517895221710205,\n",
       "  -1.9978381395339966,\n",
       "  5.14680814743042,\n",
       "  4.07441520690918,\n",
       "  -3.639834403991699,\n",
       "  -6.241199016571045,\n",
       "  -8.7191162109375,\n",
       "  0.3559936285018921,\n",
       "  -0.015484917908906937,\n",
       "  -5.424485683441162,\n",
       "  4.468125343322754,\n",
       "  0.058704227209091187,\n",
       "  -5.372569561004639,\n",
       "  -2.3343160152435303,\n",
       "  2.1156728267669678,\n",
       "  -3.0303378105163574,\n",
       "  2.090925931930542,\n",
       "  -3.6684253215789795,\n",
       "  -5.15918493270874,\n",
       "  4.969336032867432,\n",
       "  7.15812349319458,\n",
       "  -2.46067214012146,\n",
       "  2.9805543422698975,\n",
       "  1.2455021142959595,\n",
       "  -5.329214096069336,\n",
       "  -3.402252435684204,\n",
       "  -0.28570789098739624,\n",
       "  -3.989515781402588,\n",
       "  3.5403494834899902,\n",
       "  -6.107228755950928,\n",
       "  -2.4045679569244385,\n",
       "  5.672361850738525,\n",
       "  6.033859729766846,\n",
       "  4.600220680236816,\n",
       "  5.704875946044922,\n",
       "  -11.003376007080078,\n",
       "  -1.0709431171417236,\n",
       "  4.235847473144531,\n",
       "  -1.9942505359649658,\n",
       "  3.5491814613342285,\n",
       "  5.1747941970825195,\n",
       "  -5.70313835144043,\n",
       "  2.8062469959259033,\n",
       "  -11.029623031616211,\n",
       "  -8.104799270629883,\n",
       "  -6.962189197540283,\n",
       "  2.2082436084747314,\n",
       "  5.059060096740723,\n",
       "  2.219451904296875,\n",
       "  0.13452033698558807,\n",
       "  -4.294007778167725,\n",
       "  1.031494379043579,\n",
       "  -1.34470796585083,\n",
       "  -3.879936695098877,\n",
       "  -0.6235822439193726,\n",
       "  5.181411266326904,\n",
       "  -2.3134307861328125,\n",
       "  6.540832996368408,\n",
       "  -0.8153237104415894,\n",
       "  -7.023005485534668,\n",
       "  -7.116236209869385,\n",
       "  7.830705642700195,\n",
       "  9.207427978515625,\n",
       "  -8.397250175476074,\n",
       "  1.7819933891296387,\n",
       "  1.6809442043304443,\n",
       "  -16.05963706970215,\n",
       "  4.337825775146484,\n",
       "  -7.382559776306152,\n",
       "  0.08172097057104111,\n",
       "  -7.634154796600342,\n",
       "  -2.699448585510254,\n",
       "  -2.657959461212158,\n",
       "  -9.197340965270996,\n",
       "  5.4904985427856445,\n",
       "  -2.930687665939331,\n",
       "  0.48250097036361694,\n",
       "  0.9884287118911743,\n",
       "  2.6702640056610107,\n",
       "  0.1433221399784088,\n",
       "  27.701120376586914,\n",
       "  1.2585389614105225,\n",
       "  1.1866858005523682,\n",
       "  2.2316598892211914,\n",
       "  3.4707069396972656,\n",
       "  5.7208147048950195,\n",
       "  -5.831531524658203,\n",
       "  5.900929927825928,\n",
       "  3.2574450969696045,\n",
       "  6.394527435302734,\n",
       "  10.074790954589844,\n",
       "  -5.534315586090088,\n",
       "  5.40880012512207,\n",
       "  -8.113966941833496,\n",
       "  -0.49310165643692017,\n",
       "  -3.5948047637939453,\n",
       "  -12.07125473022461,\n",
       "  -2.7581822872161865,\n",
       "  -3.1671106815338135,\n",
       "  1.0962210893630981,\n",
       "  -13.881004333496094,\n",
       "  4.2602715492248535,\n",
       "  4.571854114532471,\n",
       "  -5.456236362457275,\n",
       "  0.10734906792640686,\n",
       "  0.00572207709774375,\n",
       "  1.5758312940597534,\n",
       "  -1.0830583572387695,\n",
       "  10.225602149963379,\n",
       "  -0.7231641411781311,\n",
       "  -11.438751220703125,\n",
       "  -6.693015098571777,\n",
       "  0.6486969590187073,\n",
       "  -6.238284111022949,\n",
       "  8.497833251953125,\n",
       "  -7.966615200042725,\n",
       "  -7.046422958374023,\n",
       "  8.50820255279541,\n",
       "  -6.313833713531494,\n",
       "  8.239346504211426,\n",
       "  -6.653440952301025,\n",
       "  -3.8520944118499756,\n",
       "  -0.41228947043418884,\n",
       "  2.0190186500549316,\n",
       "  -0.42591607570648193,\n",
       "  2.6548023223876953,\n",
       "  3.1082098484039307,\n",
       "  -0.9280539751052856,\n",
       "  -3.0577661991119385,\n",
       "  4.084588050842285,\n",
       "  -12.192371368408203,\n",
       "  -3.3879895210266113,\n",
       "  7.6070451736450195,\n",
       "  4.494669437408447,\n",
       "  0.7208721041679382,\n",
       "  1.614316463470459,\n",
       "  5.421160697937012,\n",
       "  1.000139832496643,\n",
       "  2.463452100753784,\n",
       "  -0.5860978960990906,\n",
       "  4.6090569496154785,\n",
       "  0.6423242688179016,\n",
       "  -4.856822490692139,\n",
       "  -13.709671020507812,\n",
       "  7.057406902313232,\n",
       "  -1.9672725200653076,\n",
       "  -6.253239631652832,\n",
       "  -8.77584171295166,\n",
       "  -6.825404644012451,\n",
       "  -0.5743920803070068,\n",
       "  5.068270683288574,\n",
       "  5.331119060516357,\n",
       "  -10.181315422058105,\n",
       "  -12.568060874938965,\n",
       "  -8.998641014099121,\n",
       "  7.797976493835449,\n",
       "  -0.3767494559288025,\n",
       "  -2.4285354614257812,\n",
       "  6.366367816925049,\n",
       "  -2.2227776050567627,\n",
       "  -5.468236923217773,\n",
       "  -1.3526142835617065,\n",
       "  -11.405858993530273,\n",
       "  -2.987849712371826,\n",
       "  -3.289856195449829,\n",
       "  3.077435255050659,\n",
       "  -1.2806851863861084,\n",
       "  0.7114274501800537,\n",
       "  0.5127496719360352,\n",
       "  -0.9821999669075012,\n",
       "  1.50124192237854,\n",
       "  -3.9929211139678955,\n",
       "  -0.9063092470169067,\n",
       "  -1.995276689529419,\n",
       "  9.286200523376465,\n",
       "  2.6205289363861084,\n",
       "  -0.18435342609882355,\n",
       "  -5.3969035148620605,\n",
       "  4.093899250030518,\n",
       "  -0.8235510587692261,\n",
       "  3.7522501945495605,\n",
       "  -4.793624401092529,\n",
       "  2.9257495403289795,\n",
       "  -7.612368583679199,\n",
       "  -8.609735488891602,\n",
       "  5.159787654876709,\n",
       "  -5.7651190757751465,\n",
       "  6.210624694824219,\n",
       "  3.3735721111297607,\n",
       "  2.092478036880493,\n",
       "  2.3704309463500977,\n",
       "  0.6046682000160217,\n",
       "  1.814316987991333,\n",
       "  -4.779304504394531,\n",
       "  3.823674201965332,\n",
       "  -0.9437817931175232,\n",
       "  0.9362744688987732,\n",
       "  -5.691988468170166,\n",
       "  -1.761269211769104,\n",
       "  -2.0543112754821777,\n",
       "  5.179684638977051,\n",
       "  -5.83523416519165,\n",
       "  2.867896318435669,\n",
       "  -1.9901134967803955,\n",
       "  0.03882814198732376,\n",
       "  11.761636734008789,\n",
       "  -0.47676607966423035,\n",
       "  -0.6679983139038086,\n",
       "  0.21794989705085754,\n",
       "  6.434205532073975,\n",
       "  -1.4844871759414673,\n",
       "  -2.1728885173797607,\n",
       "  -3.7240846157073975,\n",
       "  -1.5768101215362549,\n",
       "  0.3922213912010193,\n",
       "  1.8579819202423096,\n",
       "  -3.989485263824463,\n",
       "  -7.783110618591309,\n",
       "  5.0989508628845215,\n",
       "  -0.5114733576774597,\n",
       "  -2.782586097717285,\n",
       "  0.43196341395378113,\n",
       "  -2.1960866451263428,\n",
       "  -6.921347141265869,\n",
       "  4.43428373336792,\n",
       "  -1.88641357421875,\n",
       "  -5.268819808959961,\n",
       "  -5.059635162353516,\n",
       "  2.3436145782470703,\n",
       "  6.647860527038574,\n",
       "  1.5415561199188232,\n",
       "  -0.012509562075138092,\n",
       "  3.0648293495178223,\n",
       "  -5.235742568969727,\n",
       "  -1.0164240598678589,\n",
       "  -5.474123477935791,\n",
       "  -3.642611026763916,\n",
       "  -5.855888366699219,\n",
       "  1.773552417755127,\n",
       "  -0.968630850315094,\n",
       "  4.378052234649658,\n",
       "  -1.5131235122680664,\n",
       "  -1.5153729915618896,\n",
       "  -8.663143157958984,\n",
       "  -0.8542172312736511,\n",
       "  -1.288954734802246,\n",
       "  1.5614784955978394,\n",
       "  3.005643129348755,\n",
       "  -6.971693515777588,\n",
       "  -0.4752751886844635,\n",
       "  4.630573272705078,\n",
       "  -0.033245522528886795,\n",
       "  -0.05466874688863754,\n",
       "  2.3892617225646973,\n",
       "  -4.048362731933594,\n",
       "  -1.977310299873352,\n",
       "  6.733011245727539,\n",
       "  3.430253267288208,\n",
       "  -3.9918415546417236,\n",
       "  -1.9462186098098755,\n",
       "  4.34826135635376,\n",
       "  4.542270183563232,\n",
       "  -7.565270900726318,\n",
       "  -2.0022265911102295,\n",
       "  1.571575403213501,\n",
       "  -4.196396350860596,\n",
       "  -0.5760873556137085,\n",
       "  8.364791870117188,\n",
       "  -4.27731466293335,\n",
       "  -4.922336101531982,\n",
       "  0.2618034780025482,\n",
       "  -6.246631622314453,\n",
       "  -1.1449780464172363,\n",
       "  -4.670228481292725,\n",
       "  -5.524158954620361,\n",
       "  -3.8033039569854736,\n",
       "  -0.6548787355422974,\n",
       "  3.978076457977295,\n",
       "  3.9193551540374756,\n",
       "  -7.533264636993408,\n",
       "  4.911029815673828,\n",
       "  -1.2755367755889893,\n",
       "  -1.8257784843444824,\n",
       "  -3.1610188484191895,\n",
       "  1.6664270162582397,\n",
       "  4.566444396972656,\n",
       "  -2.0414748191833496,\n",
       "  -0.8305150866508484,\n",
       "  7.56879186630249,\n",
       "  5.693856239318848,\n",
       "  -2.075793743133545,\n",
       "  3.2578043937683105,\n",
       "  0.712232232093811,\n",
       "  3.6374928951263428,\n",
       "  -0.010986150242388248,\n",
       "  2.0246548652648926,\n",
       "  2.2163822650909424,\n",
       "  5.404991626739502,\n",
       "  1.036098837852478,\n",
       "  2.7538299560546875,\n",
       "  -10.879936218261719,\n",
       "  -4.188476085662842,\n",
       "  -3.658811092376709,\n",
       "  0.15204374492168427,\n",
       "  4.472718238830566,\n",
       "  -4.8292236328125,\n",
       "  3.411588191986084,\n",
       "  1.032618761062622,\n",
       "  0.8257442712783813,\n",
       "  0.5106285214424133,\n",
       "  -4.835602760314941,\n",
       "  -2.3389217853546143,\n",
       "  -2.5152039527893066,\n",
       "  -3.57433819770813,\n",
       "  -5.047482967376709,\n",
       "  0.5581786036491394,\n",
       "  -1.498043179512024,\n",
       "  2.7661635875701904,\n",
       "  -2.78368878364563,\n",
       "  -3.1994833946228027,\n",
       "  -6.961798667907715,\n",
       "  3.741985559463501,\n",
       "  -2.7337608337402344,\n",
       "  -2.7693569660186768,\n",
       "  1.5033373832702637,\n",
       "  2.2307631969451904,\n",
       "  0.47760826349258423,\n",
       "  5.222056865692139,\n",
       "  -0.1838649958372116,\n",
       "  4.869752883911133,\n",
       "  -2.3771309852600098,\n",
       "  3.819349765777588,\n",
       "  -0.9544056057929993,\n",
       "  3.393887758255005,\n",
       "  1.5111145973205566,\n",
       "  -1.8099173307418823,\n",
       "  6.97846794128418,\n",
       "  -0.5038707256317139,\n",
       "  1.1265456676483154,\n",
       "  2.481374740600586,\n",
       "  -2.6510396003723145,\n",
       "  -1.412361979484558,\n",
       "  2.289863109588623,\n",
       "  4.3063507080078125,\n",
       "  1.5841540098190308,\n",
       "  1.6901441812515259,\n",
       "  6.977025032043457,\n",
       "  -5.84605598449707,\n",
       "  0.44902706146240234,\n",
       "  3.452768087387085,\n",
       "  -10.44467544555664,\n",
       "  3.980165719985962,\n",
       "  -7.890416145324707,\n",
       "  8.488064765930176,\n",
       "  3.32916522026062,\n",
       "  1.3056931495666504,\n",
       "  7.5013747215271,\n",
       "  -0.02705342508852482,\n",
       "  -6.023498058319092,\n",
       "  -2.106053590774536,\n",
       "  -11.466368675231934,\n",
       "  -3.6198744773864746,\n",
       "  3.788996696472168,\n",
       "  -3.244797945022583,\n",
       "  -7.24700403213501,\n",
       "  3.520381212234497,\n",
       "  4.947624683380127,\n",
       "  -2.4142873287200928,\n",
       "  1.9655674695968628,\n",
       "  -3.9641828536987305,\n",
       "  0.4941260516643524,\n",
       "  -1.4941108226776123,\n",
       "  -6.176999568939209,\n",
       "  -5.74700927734375,\n",
       "  2.8398947715759277,\n",
       "  1.7705118656158447,\n",
       "  -8.565690040588379,\n",
       "  -0.9662015438079834,\n",
       "  0.033594172447919846,\n",
       "  -0.22992688417434692,\n",
       "  -1.3249791860580444,\n",
       "  -12.665566444396973,\n",
       "  -10.094330787658691,\n",
       "  -8.577305793762207,\n",
       "  0.00965266115963459,\n",
       "  3.492262125015259,\n",
       "  3.3606674671173096,\n",
       "  7.8339385986328125,\n",
       "  -0.8423711657524109,\n",
       "  4.643266201019287,\n",
       "  -3.6409034729003906,\n",
       "  -0.036033812910318375,\n",
       "  -0.9809337258338928,\n",
       "  -2.5410048961639404,\n",
       "  3.7871787548065186,\n",
       "  -0.3778578042984009,\n",
       "  2.2884809970855713,\n",
       "  -0.5427606701850891,\n",
       "  2.243377447128296,\n",
       "  5.973625183105469,\n",
       "  0.9555180668830872,\n",
       "  -4.472705364227295,\n",
       "  -5.994461536407471,\n",
       "  -4.56210470199585,\n",
       "  -0.5350539088249207,\n",
       "  1.2706633806228638,\n",
       "  7.4922075271606445,\n",
       "  3.6992321014404297,\n",
       "  6.185364723205566,\n",
       "  0.23620033264160156,\n",
       "  1.8115125894546509,\n",
       "  6.464014053344727,\n",
       "  -1.1108205318450928,\n",
       "  -4.497317790985107,\n",
       "  -12.500143051147461,\n",
       "  -5.443178653717041,\n",
       "  -1.0684148073196411,\n",
       "  -0.17353853583335876,\n",
       "  -1.917359471321106,\n",
       "  -1.8654541969299316,\n",
       "  1.0519057512283325,\n",
       "  0.9173328280448914,\n",
       "  6.345171928405762,\n",
       "  -7.430467128753662,\n",
       "  -3.472709894180298,\n",
       "  4.390439510345459,\n",
       "  2.1515676975250244,\n",
       "  -5.9760260581970215,\n",
       "  -1.5677357912063599,\n",
       "  4.32403564453125,\n",
       "  0.8719374537467957,\n",
       "  3.8375155925750732,\n",
       "  -2.540379762649536,\n",
       "  2.452610492706299,\n",
       "  -8.433621406555176,\n",
       "  2.6832170486450195,\n",
       "  8.94533634185791,\n",
       "  2.7234721183776855,\n",
       "  -3.650336265563965,\n",
       "  1.2455480098724365,\n",
       "  -13.83524227142334,\n",
       "  -3.5290229320526123,\n",
       "  -7.073137283325195,\n",
       "  1.3574928045272827,\n",
       "  9.348207473754883,\n",
       "  -4.093397617340088,\n",
       "  4.083718776702881,\n",
       "  -1.35666823387146,\n",
       "  -4.881947040557861,\n",
       "  -8.996196746826172,\n",
       "  4.855231285095215,\n",
       "  -11.806058883666992,\n",
       "  -0.21568173170089722,\n",
       "  0.9689592123031616,\n",
       "  3.7785842418670654,\n",
       "  -0.9916005730628967,\n",
       "  4.428123950958252,\n",
       "  -0.4049892723560333,\n",
       "  1.3216886520385742,\n",
       "  -1.925234079360962,\n",
       "  1.6191976070404053,\n",
       "  -0.15806293487548828,\n",
       "  -2.811004638671875,\n",
       "  3.333678960800171,\n",
       "  -0.9305336475372314,\n",
       "  7.257741451263428,\n",
       "  -2.234255790710449,\n",
       "  9.551346778869629,\n",
       "  4.631954669952393,\n",
       "  8.276081085205078,\n",
       "  -3.1237576007843018,\n",
       "  -1.0323278903961182,\n",
       "  2.0287744998931885,\n",
       "  7.201071739196777,\n",
       "  -3.786856174468994,\n",
       "  -2.734409809112549,\n",
       "  -9.433687210083008,\n",
       "  5.521629810333252,\n",
       "  -0.2467101812362671,\n",
       "  -2.4370720386505127,\n",
       "  -6.520714282989502,\n",
       "  5.5891194343566895,\n",
       "  7.750698089599609,\n",
       "  1.8813749551773071,\n",
       "  7.78933048248291,\n",
       "  -6.072418689727783,\n",
       "  1.3693089485168457,\n",
       "  1.9768931865692139,\n",
       "  17.092853546142578,\n",
       "  7.513049602508545,\n",
       "  -1.4029247760772705,\n",
       "  2.681319236755371,\n",
       "  -1.5476471185684204,\n",
       "  -1.5779434442520142,\n",
       "  -5.316506385803223,\n",
       "  0.5422105193138123,\n",
       "  -2.5727884769439697,\n",
       "  10.83907699584961,\n",
       "  1.423427700996399,\n",
       "  1.5098623037338257,\n",
       "  9.22816276550293,\n",
       "  -0.24488195776939392,\n",
       "  -1.8123352527618408,\n",
       "  -8.4186372756958,\n",
       "  2.865464687347412,\n",
       "  5.108160972595215,\n",
       "  -10.103100776672363,\n",
       "  2.960533380508423,\n",
       "  11.070969581604004,\n",
       "  0.32053080201148987,\n",
       "  -10.819626808166504,\n",
       "  4.025554180145264,\n",
       "  2.4156382083892822,\n",
       "  -2.668600082397461,\n",
       "  -2.8216357231140137,\n",
       "  1.6131643056869507,\n",
       "  2.3722381591796875,\n",
       "  7.73673677444458,\n",
       "  1.2725462913513184,\n",
       "  0.7228565812110901,\n",
       "  5.913173198699951,\n",
       "  6.268679618835449,\n",
       "  -1.0187861919403076,\n",
       "  -0.40357303619384766,\n",
       "  0.10106106847524643,\n",
       "  -4.077343940734863,\n",
       "  -6.758962154388428,\n",
       "  -2.209538698196411,\n",
       "  -0.8282313346862793,\n",
       "  -1.400998830795288,\n",
       "  -0.09124260395765305,\n",
       "  4.460007190704346,\n",
       "  -1.3655965328216553,\n",
       "  -2.2272706031799316,\n",
       "  -2.6357154846191406,\n",
       "  7.894901752471924,\n",
       "  -1.191449522972107,\n",
       "  -0.21317923069000244,\n",
       "  1.5033552646636963,\n",
       "  6.451193809509277,\n",
       "  -0.5044787526130676,\n",
       "  1.7403002977371216,\n",
       "  10.03499984741211,\n",
       "  -2.4605119228363037,\n",
       "  -0.15417607128620148,\n",
       "  -3.0804078578948975,\n",
       "  7.615036964416504,\n",
       "  3.3605432510375977,\n",
       "  7.448537349700928,\n",
       "  -8.03410530090332,\n",
       "  19.94426918029785,\n",
       "  -0.5834636092185974,\n",
       "  5.121408939361572,\n",
       "  9.537760734558105,\n",
       "  -7.213263034820557,\n",
       "  2.241743326187134,\n",
       "  4.22173547744751,\n",
       "  7.362339973449707,\n",
       "  8.609292030334473,\n",
       "  1.4008721113204956,\n",
       "  2.191241502761841,\n",
       "  1.069740891456604,\n",
       "  -1.9963818788528442,\n",
       "  6.009300231933594,\n",
       "  -3.8778622150421143,\n",
       "  -2.353865623474121,\n",
       "  11.345146179199219,\n",
       "  32.516700744628906,\n",
       "  7.148680210113525,\n",
       "  1.9866890907287598,\n",
       "  2.2338297367095947,\n",
       "  -7.957895755767822,\n",
       "  0.28403931856155396,\n",
       "  -7.378283977508545,\n",
       "  5.042827129364014,\n",
       "  3.8093137741088867,\n",
       "  1.1559697389602661,\n",
       "  -1.2736027240753174,\n",
       "  1.5814467668533325,\n",
       "  -1.7722405195236206,\n",
       "  7.903566837310791,\n",
       "  -5.674870491027832,\n",
       "  8.438451766967773,\n",
       "  7.9218974113464355,\n",
       "  13.480873107910156,\n",
       "  2.644624948501587,\n",
       "  2.486072540283203,\n",
       "  -2.536874771118164,\n",
       "  6.580153465270996,\n",
       "  -1.7026869058609009,\n",
       "  -0.41703930497169495,\n",
       "  4.584368705749512,\n",
       "  1.9444770812988281,\n",
       "  1.2009540796279907,\n",
       "  -1.9293813705444336,\n",
       "  -6.5397844314575195,\n",
       "  -5.425883769989014,\n",
       "  -1.671574354171753,\n",
       "  -5.1918230056762695,\n",
       "  -0.8038981556892395,\n",
       "  0.8715384006500244,\n",
       "  4.213068008422852,\n",
       "  0.4154351055622101,\n",
       "  -6.159563064575195,\n",
       "  7.343425750732422,\n",
       "  -1.384361982345581,\n",
       "  -2.021681785583496,\n",
       "  -5.801123142242432,\n",
       "  -2.9564409255981445,\n",
       "  -0.8328754901885986,\n",
       "  -4.933210372924805,\n",
       "  2.1610002517700195,\n",
       "  -0.05311184376478195,\n",
       "  5.730424404144287,\n",
       "  2.7659554481506348,\n",
       "  3.5697457790374756,\n",
       "  4.985851287841797,\n",
       "  -0.8235162496566772,\n",
       "  -1.3898394107818604,\n",
       "  0.530698299407959,\n",
       "  3.191605806350708,\n",
       "  7.822526931762695,\n",
       "  -5.901629447937012,\n",
       "  -3.955824136734009,\n",
       "  7.278952598571777,\n",
       "  1.780049443244934,\n",
       "  1.980689525604248,\n",
       "  -10.002983093261719,\n",
       "  6.45373010635376,\n",
       "  -0.06581760197877884,\n",
       "  -5.184072494506836,\n",
       "  7.1348876953125,\n",
       "  1.4993809461593628,\n",
       "  5.798461437225342,\n",
       "  0.40920332074165344,\n",
       "  0.43007123470306396,\n",
       "  -0.6143270134925842,\n",
       "  -1.0988423824310303,\n",
       "  7.690743446350098,\n",
       "  10.00529956817627,\n",
       "  -4.875325679779053,\n",
       "  5.754495620727539,\n",
       "  -6.349006652832031,\n",
       "  0.619920015335083,\n",
       "  -1.798593521118164,\n",
       "  0.6995309591293335,\n",
       "  -12.124775886535645,\n",
       "  5.392955780029297,\n",
       "  -1.755847454071045,\n",
       "  3.119410276412964,\n",
       "  -3.2084262371063232,\n",
       "  -2.4413998126983643,\n",
       "  2.3115077018737793,\n",
       "  -3.0495052337646484,\n",
       "  1.6914050579071045,\n",
       "  -7.590776443481445,\n",
       "  4.650058746337891,\n",
       "  -2.2340402603149414,\n",
       "  2.5229239463806152,\n",
       "  0.9040052890777588,\n",
       "  -3.9143686294555664,\n",
       "  -1.830080509185791,\n",
       "  -5.578137397766113,\n",
       "  -1.2946218252182007,\n",
       "  -2.878366231918335,\n",
       "  0.6177337169647217,\n",
       "  11.006752967834473,\n",
       "  -8.506245613098145,\n",
       "  -3.248237371444702,\n",
       "  6.984629154205322,\n",
       "  0.6331311464309692,\n",
       "  -7.7265119552612305,\n",
       "  3.501023054122925,\n",
       "  14.293843269348145,\n",
       "  -6.391037940979004,\n",
       "  8.175827980041504,\n",
       "  11.765296936035156,\n",
       "  6.287072658538818,\n",
       "  -1.9666824340820312,\n",
       "  -5.185638904571533,\n",
       "  9.453118324279785,\n",
       "  5.79642915725708,\n",
       "  -1.6700153350830078,\n",
       "  -4.014486789703369,\n",
       "  5.909154415130615,\n",
       "  -7.542513370513916,\n",
       "  -4.5842509269714355,\n",
       "  -10.325654983520508,\n",
       "  -6.386326313018799,\n",
       "  4.864494800567627,\n",
       "  -2.327042818069458,\n",
       "  -0.9715575575828552,\n",
       "  -3.1312713623046875,\n",
       "  -0.6003340482711792,\n",
       "  3.5153777599334717,\n",
       "  9.028483390808105,\n",
       "  2.695289134979248,\n",
       "  62.406005859375,\n",
       "  8.288111686706543,\n",
       "  2.147207736968994,\n",
       "  7.2872395515441895,\n",
       "  -7.953410625457764,\n",
       "  -8.139663696289062,\n",
       "  -4.568679332733154,\n",
       "  5.64599084854126,\n",
       "  -2.823090076446533,\n",
       "  1.3835933208465576,\n",
       "  3.1880390644073486,\n",
       "  -1.323804497718811,\n",
       "  4.850221157073975,\n",
       "  0.9670005440711975,\n",
       "  -6.075589656829834,\n",
       "  4.825743198394775,\n",
       "  3.9030885696411133,\n",
       "  0.7120281457901001,\n",
       "  -10.447553634643555,\n",
       "  -3.8311665058135986,\n",
       "  2.5097858905792236,\n",
       "  -6.462522983551025,\n",
       "  -8.027312278747559,\n",
       "  7.103416919708252,\n",
       "  -9.837705612182617,\n",
       "  -5.132200241088867,\n",
       "  1.9977883100509644,\n",
       "  -8.203983306884766,\n",
       "  3.0325043201446533,\n",
       "  -1.5258139371871948,\n",
       "  -1.7535382509231567,\n",
       "  7.126436710357666,\n",
       "  4.300394058227539,\n",
       "  -3.3123209476470947,\n",
       "  1.3212708234786987,\n",
       "  -1.4088597297668457,\n",
       "  -0.6731838583946228,\n",
       "  -4.696580410003662,\n",
       "  -2.625335454940796,\n",
       "  7.177493572235107,\n",
       "  -5.23859977722168,\n",
       "  -4.578702926635742,\n",
       "  -2.84442400932312,\n",
       "  3.613166093826294,\n",
       "  -4.783430099487305,\n",
       "  3.441018581390381,\n",
       "  6.801855564117432,\n",
       "  1.8237440586090088,\n",
       "  15.244537353515625,\n",
       "  1.332743525505066,\n",
       "  4.263091564178467,\n",
       "  -6.177196025848389,\n",
       "  2.677093982696533,\n",
       "  -1.074299693107605,\n",
       "  -4.390847682952881,\n",
       "  7.290487289428711,\n",
       "  2.9610373973846436,\n",
       "  -2.1725621223449707,\n",
       "  -5.785150051116943,\n",
       "  2.193009376525879,\n",
       "  0.919978141784668,\n",
       "  -7.525753498077393,\n",
       "  -0.855771541595459,\n",
       "  11.510350227355957,\n",
       "  -5.871467590332031,\n",
       "  -1.0872633457183838,\n",
       "  -1.1127763986587524,\n",
       "  -4.7670512199401855,\n",
       "  -3.157604455947876,\n",
       "  -1.4050906896591187,\n",
       "  9.30545425415039,\n",
       "  2.804361343383789,\n",
       "  1.2372140884399414,\n",
       "  3.0846686363220215,\n",
       "  8.487417221069336,\n",
       "  2.3160581588745117,\n",
       "  -6.014581680297852,\n",
       "  0.013305566273629665,\n",
       "  -2.3931593894958496,\n",
       "  -6.716923713684082,\n",
       "  0.7006064653396606,\n",
       "  0.21488025784492493,\n",
       "  -2.2441112995147705,\n",
       "  -7.210819721221924,\n",
       "  3.9828243255615234,\n",
       "  4.1815505027771,\n",
       "  1.430484414100647,\n",
       "  -14.449928283691406,\n",
       "  -2.745007038116455,\n",
       "  -6.102948188781738,\n",
       "  7.176711082458496,\n",
       "  -3.5476250648498535,\n",
       "  13.096363067626953,\n",
       "  1.643892765045166,\n",
       "  -0.07399756461381912,\n",
       "  -5.920235633850098,\n",
       "  -9.860969543457031,\n",
       "  -8.293460845947266,\n",
       "  4.966283798217773,\n",
       "  0.9260562658309937,\n",
       "  5.1736555099487305,\n",
       "  2.5596089363098145,\n",
       "  -10.818922996520996,\n",
       "  -2.8887085914611816,\n",
       "  -0.35032105445861816,\n",
       "  9.0582914352417,\n",
       "  -3.7108254432678223,\n",
       "  3.125983953475952,\n",
       "  -8.9618558883667,\n",
       "  0.7677223086357117,\n",
       "  -3.399991750717163,\n",
       "  -8.635583877563477,\n",
       "  3.0210752487182617,\n",
       "  -8.622962951660156,\n",
       "  2.802854537963867,\n",
       "  4.855727672576904,\n",
       "  1.4215389490127563,\n",
       "  4.70784854888916,\n",
       "  8.085583686828613,\n",
       "  8.307912826538086,\n",
       "  -3.1526482105255127,\n",
       "  1.3463770151138306,\n",
       "  -2.2835888862609863,\n",
       "  6.072263240814209,\n",
       "  -0.5845059156417847,\n",
       "  6.04144287109375,\n",
       "  0.5164039731025696,\n",
       "  2.262005090713501,\n",
       "  -3.517947196960449,\n",
       "  -2.226614236831665,\n",
       "  -4.703294277191162,\n",
       "  3.500603437423706,\n",
       "  -0.5265986919403076,\n",
       "  6.352219104766846,\n",
       "  -1.6271140575408936,\n",
       "  1.7697510719299316,\n",
       "  3.568959951400757,\n",
       "  -1.0092180967330933,\n",
       "  11.303942680358887,\n",
       "  2.1068756580352783,\n",
       "  -0.9360896944999695,\n",
       "  -5.839968681335449,\n",
       "  -1.081151008605957,\n",
       "  7.766271591186523,\n",
       "  -4.562711238861084,\n",
       "  -6.999569892883301,\n",
       "  4.9225006103515625,\n",
       "  -1.3992667198181152,\n",
       "  -2.8268625736236572,\n",
       "  1.9526479244232178,\n",
       "  -15.674196243286133,\n",
       "  -0.7869131565093994,\n",
       "  -9.906508445739746,\n",
       "  -2.9801979064941406,\n",
       "  0.9157109260559082,\n",
       "  -3.9731764793395996,\n",
       "  1.5956592559814453,\n",
       "  6.638845443725586,\n",
       "  6.570348262786865,\n",
       "  -2.4555461406707764,\n",
       "  14.834976196289062,\n",
       "  2.838635206222534,\n",
       "  -5.041309833526611,\n",
       "  -9.603923797607422,\n",
       "  -5.537738800048828,\n",
       "  ...]]"
      ]
     },
     "execution_count": 56,
     "metadata": {},
     "output_type": "execute_result"
    }
   ],
   "source": [
    "embeddings.embed_documents([\"foo\"])"
   ]
  },
  {
   "cell_type": "code",
   "execution_count": null,
   "id": "1cf24cf0-c459-49f8-94f9-eaf0ac6dc25a",
   "metadata": {},
   "outputs": [],
   "source": [
    "collection"
   ]
  },
  {
   "cell_type": "code",
   "execution_count": null,
   "id": "5875706d-fe22-40f0-ae64-5e642b93c0df",
   "metadata": {},
   "outputs": [],
   "source": [
    "collection.query(\"\")"
   ]
  },
  {
   "cell_type": "code",
   "execution_count": 6,
   "id": "5df0a49d-cb8f-47a7-9cee-9f4d12b4ea10",
   "metadata": {},
   "outputs": [],
   "source": [
    "from package.crud.read_vectordb import load_vectordb\n",
    "from package.utils import get_context, format_context, generate_prompt"
   ]
  },
  {
   "cell_type": "code",
   "execution_count": 91,
   "id": "3b168535-410e-423c-a153-333cb69cbd3a",
   "metadata": {},
   "outputs": [],
   "source": [
    "query = \"do you know uncle chub?\"\n",
    "\n",
    "collections = ['roo', 'mynotes']\n",
    "\n",
    "contexts = []\n",
    "for collection in collections:\n",
    "    vectordb = load_vectordb(collection_name=collection)\n",
    "    context = get_context(query, vectordb)\n",
    "    context = format_context(context)\n",
    "    contexts.append(context)"
   ]
  },
  {
   "cell_type": "code",
   "execution_count": 93,
   "id": "7f0691b2-0b3a-47aa-b069-e2eb34acec67",
   "metadata": {},
   "outputs": [
    {
     "data": {
      "text/plain": [
       "'Uncle Chub has many kids. He loves taking care of his guild members.\\n\\nUncle Chub was retired from the game, Ragnarok Online Origin. And he continues living a good life.\\n\\nUncle Chub is AWESOME!!\\n\\nUncle Chub has many good friends both in Thai and abroad'"
      ]
     },
     "execution_count": 93,
     "metadata": {},
     "output_type": "execute_result"
    }
   ],
   "source": [
    "context"
   ]
  },
  {
   "cell_type": "code",
   "execution_count": 92,
   "id": "f915d7ab-0529-46d7-84e9-07b4ecbf1304",
   "metadata": {},
   "outputs": [
    {
     "data": {
      "text/plain": [
       "['A classic mmorpg game with the new top-up systems will drain all your money out of the pocket. This game will dry you out, so watch out.\\n\\nMilkyWay is a guild from the well-known game called Ragnarok Online Origin. The former guild leader is UncleChub, but now the guild leader is Wennedy.\\n\\nRagnarok Online Origin or so called ROO is still open for the global service.\\n\\nUncle chub is a former guild leader of JointBoi from the game called ROO',\n",
       " 'Uncle Chub has many kids. He loves taking care of his guild members.\\n\\nUncle Chub was retired from the game, Ragnarok Online Origin. And he continues living a good life.\\n\\nUncle Chub is AWESOME!!\\n\\nUncle Chub has many good friends both in Thai and abroad']"
      ]
     },
     "execution_count": 92,
     "metadata": {},
     "output_type": "execute_result"
    }
   ],
   "source": [
    "contexts"
   ]
  },
  {
   "cell_type": "code",
   "execution_count": 94,
   "id": "a77ed6e7-ab18-4bab-9a4d-561778ec04f3",
   "metadata": {},
   "outputs": [
    {
     "data": {
      "text/plain": [
       "'A classic mmorpg game with the new top-up systems will drain all your money out of the pocket. This game will dry you out, so watch out.\\n\\nMilkyWay is a guild from the well-known game called Ragnarok Online Origin. The former guild leader is UncleChub, but now the guild leader is Wennedy.\\n\\nRagnarok Online Origin or so called ROO is still open for the global service.\\n\\nUncle chub is a former guild leader of JointBoi from the game called ROO\\n\\nUncle Chub has many kids. He loves taking care of his guild members.\\n\\nUncle Chub was retired from the game, Ragnarok Online Origin. And he continues living a good life.\\n\\nUncle Chub is AWESOME!!\\n\\nUncle Chub has many good friends both in Thai and abroad'"
      ]
     },
     "execution_count": 94,
     "metadata": {},
     "output_type": "execute_result"
    }
   ],
   "source": [
    "\"\\n\\n\".join(contexts)"
   ]
  },
  {
   "cell_type": "code",
   "execution_count": 95,
   "id": "f83343c5-8081-46b5-8af0-53851e0c183d",
   "metadata": {},
   "outputs": [
    {
     "name": "stdout",
     "output_type": "stream",
     "text": [
      "Query: do you know uncle chub?\n",
      "\n",
      "Context: A classic mmorpg game with the new top-up systems will drain all your money out of the pocket. This game will dry you out, so watch out.\n",
      "\n",
      "MilkyWay is a guild from the well-known game called Ragnarok Online Origin. The former guild leader is UncleChub, but now the guild leader is Wennedy.\n",
      "\n",
      "Ragnarok Online Origin or so called ROO is still open for the global service.\n",
      "\n",
      "Uncle chub is a former guild leader of JointBoi from the game called ROO\n",
      "\n",
      "Uncle Chub has many kids. He loves taking care of his guild members.\n",
      "\n",
      "Uncle Chub was retired from the game, Ragnarok Online Origin. And he continues living a good life.\n",
      "\n",
      "Uncle Chub is AWESOME!!\n",
      "\n",
      "Uncle Chub has many good friends both in Thai and abroad\n"
     ]
    }
   ],
   "source": [
    "print(generate_prompt(query, \"\\n\\n\".join(contexts)))"
   ]
  },
  {
   "cell_type": "code",
   "execution_count": 2,
   "id": "6eef07a4-b37f-47b3-ab19-7bbf0a6716f3",
   "metadata": {},
   "outputs": [
    {
     "name": "stderr",
     "output_type": "stream",
     "text": [
      "C:\\Users\\doublebank\\.conda\\envs\\local-rag-llm\\Lib\\site-packages\\onnxruntime\\capi\\onnxruntime_validation.py:26: UserWarning: Unsupported Windows version (11). ONNX Runtime supports Windows 10 and above, only.\n",
      "  warnings.warn(\n"
     ]
    }
   ],
   "source": [
    "from package.query_context import query_single_collection, query_multiple_collections"
   ]
  },
  {
   "cell_type": "code",
   "execution_count": 3,
   "id": "8555a71a-48ac-470b-bcc5-5668301b5ec8",
   "metadata": {},
   "outputs": [],
   "source": [
    "query = \"do you know uncle chub?\"\n",
    "\n",
    "collections = ['roo', 'mynotes']"
   ]
  },
  {
   "cell_type": "code",
   "execution_count": 7,
   "id": "c6a7718f-fcc4-4629-a835-7aa05a1855ae",
   "metadata": {},
   "outputs": [
    {
     "data": {
      "text/plain": [
       "'Query: do you know uncle chub?\\n\\nContext: A classic mmorpg game with the new top-up systems will drain all your money out of the pocket. This game will dry you out, so watch out.\\n\\nMilkyWay is a guild from the well-known game called Ragnarok Online Origin. The former guild leader is UncleChub, but now the guild leader is Wennedy.\\n\\nRagnarok Online Origin or so called ROO is still open for the global service.\\n\\nUncle chub is a former guild leader of JointBoi from the game called ROO'"
      ]
     },
     "execution_count": 7,
     "metadata": {},
     "output_type": "execute_result"
    }
   ],
   "source": [
    "context = query_single_collection(query, collection=collections[0]))"
   ]
  },
  {
   "cell_type": "code",
   "execution_count": 14,
   "id": "4a4589d5-4735-4dd8-b7ee-47a6484fef04",
   "metadata": {},
   "outputs": [
    {
     "name": "stdout",
     "output_type": "stream",
     "text": [
      "Query: do you know uncle chub?\n",
      "\n",
      "Context: A classic mmorpg game with the new top-up systems will drain all your money out of the pocket. This game will dry you out, so watch out.\n",
      "\n",
      "MilkyWay is a guild from the well-known game called Ragnarok Online Origin. The former guild leader is UncleChub, but now the guild leader is Wennedy.\n",
      "\n",
      "Ragnarok Online Origin or so called ROO is still open for the global service.\n",
      "\n",
      "Uncle chub is a former guild leader of JointBoi from the game called ROO\n"
     ]
    }
   ],
   "source": [
    "print(generate_prompt(query, context))"
   ]
  },
  {
   "cell_type": "code",
   "execution_count": 20,
   "id": "65fb156b-fb07-400b-8388-6939ed755d49",
   "metadata": {},
   "outputs": [],
   "source": [
    "contexts = query_multiple_collections(query, collections=collections)"
   ]
  },
  {
   "cell_type": "code",
   "execution_count": 21,
   "id": "5b9556bd-ea4f-4112-bfd6-a4750e0d5777",
   "metadata": {},
   "outputs": [
    {
     "name": "stdout",
     "output_type": "stream",
     "text": [
      "A classic mmorpg game with the new top-up systems will drain all your money out of the pocket. This game will dry you out, so watch out.\n",
      "\n",
      "MilkyWay is a guild from the well-known game called Ragnarok Online Origin. The former guild leader is UncleChub, but now the guild leader is Wennedy.\n",
      "\n",
      "Ragnarok Online Origin or so called ROO is still open for the global service.\n",
      "\n",
      "Uncle chub is a former guild leader of JointBoi from the game called ROO\n",
      "\n",
      "Uncle Chub has many kids. He loves taking care of his guild members.\n",
      "\n",
      "Uncle Chub was retired from the game, Ragnarok Online Origin. And he continues living a good life.\n",
      "\n",
      "Uncle Chub is AWESOME!!\n",
      "\n",
      "Uncle Chub has many good friends both in Thai and abroad\n"
     ]
    }
   ],
   "source": [
    "print(contexts)"
   ]
  },
  {
   "cell_type": "code",
   "execution_count": 22,
   "id": "3cc38920-a19e-484c-9fc1-a3377a69e3bf",
   "metadata": {},
   "outputs": [
    {
     "name": "stdout",
     "output_type": "stream",
     "text": [
      "Query: do you know uncle chub?\n",
      "\n",
      "Context: A classic mmorpg game with the new top-up systems will drain all your money out of the pocket. This game will dry you out, so watch out.\n",
      "\n",
      "MilkyWay is a guild from the well-known game called Ragnarok Online Origin. The former guild leader is UncleChub, but now the guild leader is Wennedy.\n",
      "\n",
      "Ragnarok Online Origin or so called ROO is still open for the global service.\n",
      "\n",
      "Uncle chub is a former guild leader of JointBoi from the game called ROO\n",
      "\n",
      "Uncle Chub has many kids. He loves taking care of his guild members.\n",
      "\n",
      "Uncle Chub was retired from the game, Ragnarok Online Origin. And he continues living a good life.\n",
      "\n",
      "Uncle Chub is AWESOME!!\n",
      "\n",
      "Uncle Chub has many good friends both in Thai and abroad\n"
     ]
    }
   ],
   "source": [
    "print(generate_prompt(query, contexts))"
   ]
  },
  {
   "cell_type": "code",
   "execution_count": 34,
   "id": "1d394f6d-03f4-4155-a6c8-2cc2b077f0a2",
   "metadata": {},
   "outputs": [],
   "source": [
    "from langchain_community.llms import Ollama\n",
    "llm = Ollama(base_url = 'http://localhost:11434', model=\"mistral\")"
   ]
  },
  {
   "cell_type": "code",
   "execution_count": 35,
   "id": "53a86f14-32f3-456d-b476-4917a9e4b73a",
   "metadata": {},
   "outputs": [
    {
     "data": {
      "text/plain": [
       "\" Hello! How can I help you today? If you have any questions or need assistance with something, feel free to ask. I'm here to help. If you just wanted to say hi, then hey there yourself! :)\""
      ]
     },
     "execution_count": 35,
     "metadata": {},
     "output_type": "execute_result"
    }
   ],
   "source": [
    "llm.invoke(\"hi there\")"
   ]
  },
  {
   "cell_type": "code",
   "execution_count": 26,
   "id": "a69bc40a-6cb0-4c3d-91ba-2e3973633f50",
   "metadata": {},
   "outputs": [
    {
     "name": "stdout",
     "output_type": "stream",
     "text": [
      " Why did Batman take Robin to the doctor?\n",
      "\n",
      "Because he had the flu, but Batman didn't want to let him Bat-rest!\n",
      "\n",
      "(I hope that brought a smile to your face!)\n"
     ]
    }
   ],
   "source": [
    "print(\n",
    "    llm.invoke(\"Write me a joke about Batman and Robin\")\n",
    ")"
   ]
  },
  {
   "cell_type": "code",
   "execution_count": 27,
   "id": "14c9f482-3882-4ae1-8148-6698030f9c22",
   "metadata": {
    "collapsed": true,
    "jupyter": {
     "outputs_hidden": true
    }
   },
   "outputs": [
    {
     "data": {
      "text/plain": [
       "['Config',\n",
       " 'InputType',\n",
       " 'OutputType',\n",
       " '__abstractmethods__',\n",
       " '__annotations__',\n",
       " '__call__',\n",
       " '__class__',\n",
       " '__class_getitem__',\n",
       " '__class_vars__',\n",
       " '__config__',\n",
       " '__custom_root_type__',\n",
       " '__delattr__',\n",
       " '__dict__',\n",
       " '__dir__',\n",
       " '__doc__',\n",
       " '__eq__',\n",
       " '__exclude_fields__',\n",
       " '__fields__',\n",
       " '__fields_set__',\n",
       " '__format__',\n",
       " '__ge__',\n",
       " '__get_validators__',\n",
       " '__getattribute__',\n",
       " '__getstate__',\n",
       " '__gt__',\n",
       " '__hash__',\n",
       " '__include_fields__',\n",
       " '__init__',\n",
       " '__init_subclass__',\n",
       " '__iter__',\n",
       " '__json_encoder__',\n",
       " '__le__',\n",
       " '__lt__',\n",
       " '__module__',\n",
       " '__ne__',\n",
       " '__new__',\n",
       " '__or__',\n",
       " '__orig_bases__',\n",
       " '__parameters__',\n",
       " '__post_root_validators__',\n",
       " '__pre_root_validators__',\n",
       " '__pretty__',\n",
       " '__private_attributes__',\n",
       " '__reduce__',\n",
       " '__reduce_ex__',\n",
       " '__repr__',\n",
       " '__repr_args__',\n",
       " '__repr_name__',\n",
       " '__repr_str__',\n",
       " '__rich_repr__',\n",
       " '__ror__',\n",
       " '__schema_cache__',\n",
       " '__setattr__',\n",
       " '__setstate__',\n",
       " '__signature__',\n",
       " '__sizeof__',\n",
       " '__slots__',\n",
       " '__str__',\n",
       " '__subclasshook__',\n",
       " '__try_update_forward_refs__',\n",
       " '__validators__',\n",
       " '__weakref__',\n",
       " '_abatch_with_config',\n",
       " '_abc_impl',\n",
       " '_acall_with_config',\n",
       " '_acreate_generate_stream',\n",
       " '_acreate_stream',\n",
       " '_agenerate',\n",
       " '_agenerate_helper',\n",
       " '_all_required_field_names',\n",
       " '_astream',\n",
       " '_astream_with_aggregation',\n",
       " '_atransform_stream_with_config',\n",
       " '_batch_with_config',\n",
       " '_calculate_keys',\n",
       " '_call_async',\n",
       " '_call_with_config',\n",
       " '_convert_input',\n",
       " '_copy_and_set_values',\n",
       " '_create_generate_stream',\n",
       " '_create_stream',\n",
       " '_decompose_class',\n",
       " '_default_params',\n",
       " '_enforce_dict_if_root',\n",
       " '_generate',\n",
       " '_generate_helper',\n",
       " '_get_run_ids_list',\n",
       " '_get_value',\n",
       " '_identifying_params',\n",
       " '_init_private_attributes',\n",
       " '_iter',\n",
       " '_lc_kwargs',\n",
       " '_llm_type',\n",
       " '_stream',\n",
       " '_stream_with_aggregation',\n",
       " '_transform_stream_with_config',\n",
       " 'abatch',\n",
       " 'abatch_as_completed',\n",
       " 'agenerate',\n",
       " 'agenerate_prompt',\n",
       " 'ainvoke',\n",
       " 'apredict',\n",
       " 'apredict_messages',\n",
       " 'assign',\n",
       " 'astream',\n",
       " 'astream_events',\n",
       " 'astream_log',\n",
       " 'atransform',\n",
       " 'base_url',\n",
       " 'batch',\n",
       " 'batch_as_completed',\n",
       " 'bind',\n",
       " 'cache',\n",
       " 'callback_manager',\n",
       " 'callbacks',\n",
       " 'config_schema',\n",
       " 'config_specs',\n",
       " 'configurable_alternatives',\n",
       " 'configurable_fields',\n",
       " 'construct',\n",
       " 'copy',\n",
       " 'dict',\n",
       " 'format',\n",
       " 'from_orm',\n",
       " 'generate',\n",
       " 'generate_prompt',\n",
       " 'get_graph',\n",
       " 'get_input_schema',\n",
       " 'get_lc_namespace',\n",
       " 'get_name',\n",
       " 'get_num_tokens',\n",
       " 'get_num_tokens_from_messages',\n",
       " 'get_output_schema',\n",
       " 'get_prompts',\n",
       " 'get_token_ids',\n",
       " 'headers',\n",
       " 'input_schema',\n",
       " 'invoke',\n",
       " 'is_lc_serializable',\n",
       " 'json',\n",
       " 'keep_alive',\n",
       " 'lc_attributes',\n",
       " 'lc_id',\n",
       " 'lc_secrets',\n",
       " 'map',\n",
       " 'metadata',\n",
       " 'mirostat',\n",
       " 'mirostat_eta',\n",
       " 'mirostat_tau',\n",
       " 'model',\n",
       " 'name',\n",
       " 'num_ctx',\n",
       " 'num_gpu',\n",
       " 'num_predict',\n",
       " 'num_thread',\n",
       " 'output_schema',\n",
       " 'parse_file',\n",
       " 'parse_obj',\n",
       " 'parse_raw',\n",
       " 'pick',\n",
       " 'pipe',\n",
       " 'predict',\n",
       " 'predict_messages',\n",
       " 'raise_deprecation',\n",
       " 'repeat_last_n',\n",
       " 'repeat_penalty',\n",
       " 'save',\n",
       " 'schema',\n",
       " 'schema_json',\n",
       " 'set_verbose',\n",
       " 'stop',\n",
       " 'stream',\n",
       " 'system',\n",
       " 'tags',\n",
       " 'temperature',\n",
       " 'template',\n",
       " 'tfs_z',\n",
       " 'timeout',\n",
       " 'to_json',\n",
       " 'to_json_not_implemented',\n",
       " 'top_k',\n",
       " 'top_p',\n",
       " 'transform',\n",
       " 'update_forward_refs',\n",
       " 'validate',\n",
       " 'verbose',\n",
       " 'with_config',\n",
       " 'with_fallbacks',\n",
       " 'with_listeners',\n",
       " 'with_retry',\n",
       " 'with_structured_output',\n",
       " 'with_types']"
      ]
     },
     "execution_count": 27,
     "metadata": {},
     "output_type": "execute_result"
    }
   ],
   "source": [
    "dir(llm)"
   ]
  },
  {
   "cell_type": "code",
   "execution_count": 28,
   "id": "26c2bf74-12ce-47a1-9c11-63942098bb2b",
   "metadata": {},
   "outputs": [],
   "source": [
    "llm.invoke()"
   ]
  },
  {
   "cell_type": "code",
   "execution_count": 33,
   "id": "6be75a88-5e1f-4af9-b17f-25fa5f9c182a",
   "metadata": {},
   "outputs": [
    {
     "name": "stdout",
     "output_type": "stream",
     "text": [
      "None\n"
     ]
    }
   ],
   "source": [
    "import os\n",
    "print(os.getenv('OLLAMA_SERVER_URL'))"
   ]
  },
  {
   "cell_type": "code",
   "execution_count": 29,
   "id": "c82b60a1-3bcd-4655-b6f8-1732308b13a0",
   "metadata": {},
   "outputs": [
    {
     "ename": "RequestError",
     "evalue": "must provide a model",
     "output_type": "error",
     "traceback": [
      "\u001b[1;31m---------------------------------------------------------------------------\u001b[0m",
      "\u001b[1;31mRequestError\u001b[0m                              Traceback (most recent call last)",
      "Cell \u001b[1;32mIn[29], line 2\u001b[0m\n\u001b[0;32m      1\u001b[0m \u001b[38;5;28;01mimport\u001b[39;00m \u001b[38;5;21;01mollama\u001b[39;00m\n\u001b[1;32m----> 2\u001b[0m \u001b[43mollama\u001b[49m\u001b[38;5;241;43m.\u001b[39;49m\u001b[43mchat\u001b[49m\u001b[43m(\u001b[49m\u001b[43m)\u001b[49m\n",
      "File \u001b[1;32m~\\.conda\\envs\\local-rag-llm\\Lib\\site-packages\\ollama\\_client.py:165\u001b[0m, in \u001b[0;36mClient.chat\u001b[1;34m(self, model, messages, stream, format, options, keep_alive)\u001b[0m\n\u001b[0;32m    154\u001b[0m \u001b[38;5;250m\u001b[39m\u001b[38;5;124;03m\"\"\"\u001b[39;00m\n\u001b[0;32m    155\u001b[0m \u001b[38;5;124;03mCreate a chat response using the requested model.\u001b[39;00m\n\u001b[0;32m    156\u001b[0m \n\u001b[1;32m   (...)\u001b[0m\n\u001b[0;32m    161\u001b[0m \u001b[38;5;124;03mReturns `ChatResponse` if `stream` is `False`, otherwise returns a `ChatResponse` generator.\u001b[39;00m\n\u001b[0;32m    162\u001b[0m \u001b[38;5;124;03m\"\"\"\u001b[39;00m\n\u001b[0;32m    164\u001b[0m \u001b[38;5;28;01mif\u001b[39;00m \u001b[38;5;129;01mnot\u001b[39;00m model:\n\u001b[1;32m--> 165\u001b[0m   \u001b[38;5;28;01mraise\u001b[39;00m RequestError(\u001b[38;5;124m'\u001b[39m\u001b[38;5;124mmust provide a model\u001b[39m\u001b[38;5;124m'\u001b[39m)\n\u001b[0;32m    167\u001b[0m \u001b[38;5;28;01mfor\u001b[39;00m message \u001b[38;5;129;01min\u001b[39;00m messages \u001b[38;5;129;01mor\u001b[39;00m []:\n\u001b[0;32m    168\u001b[0m   \u001b[38;5;28;01mif\u001b[39;00m \u001b[38;5;129;01mnot\u001b[39;00m \u001b[38;5;28misinstance\u001b[39m(message, \u001b[38;5;28mdict\u001b[39m):\n",
      "\u001b[1;31mRequestError\u001b[0m: must provide a model"
     ]
    }
   ],
   "source": [
    "import ollama\n",
    "ollama.chat()"
   ]
  },
  {
   "cell_type": "code",
   "execution_count": 30,
   "id": "37d7e543-9468-48da-87bc-85c8e0fc5155",
   "metadata": {},
   "outputs": [
    {
     "data": {
      "text/plain": [
       "['AsyncClient',\n",
       " 'ChatResponse',\n",
       " 'Client',\n",
       " 'GenerateResponse',\n",
       " 'Message',\n",
       " 'Options',\n",
       " 'ProgressResponse',\n",
       " 'RequestError',\n",
       " 'ResponseError',\n",
       " '__all__',\n",
       " '__builtins__',\n",
       " '__cached__',\n",
       " '__doc__',\n",
       " '__file__',\n",
       " '__loader__',\n",
       " '__name__',\n",
       " '__package__',\n",
       " '__path__',\n",
       " '__spec__',\n",
       " '_client',\n",
       " '_types',\n",
       " 'chat',\n",
       " 'copy',\n",
       " 'create',\n",
       " 'delete',\n",
       " 'embeddings',\n",
       " 'generate',\n",
       " 'list',\n",
       " 'pull',\n",
       " 'push',\n",
       " 'show']"
      ]
     },
     "execution_count": 30,
     "metadata": {},
     "output_type": "execute_result"
    }
   ],
   "source": [
    "dir(ollama)"
   ]
  },
  {
   "cell_type": "code",
   "execution_count": 31,
   "id": "aa008753-ab09-4806-a558-a38cbf6f39fe",
   "metadata": {},
   "outputs": [
    {
     "data": {
      "text/plain": [
       "ollama._types.Options"
      ]
     },
     "execution_count": 31,
     "metadata": {},
     "output_type": "execute_result"
    }
   ],
   "source": []
  },
  {
   "cell_type": "code",
   "execution_count": null,
   "id": "bfd86e95-1b33-4086-a9ff-456d4730bde0",
   "metadata": {},
   "outputs": [],
   "source": []
  }
 ],
 "metadata": {
  "kernelspec": {
   "display_name": "Python 3 (ipykernel)",
   "language": "python",
   "name": "python3"
  },
  "language_info": {
   "codemirror_mode": {
    "name": "ipython",
    "version": 3
   },
   "file_extension": ".py",
   "mimetype": "text/x-python",
   "name": "python",
   "nbconvert_exporter": "python",
   "pygments_lexer": "ipython3",
   "version": "3.12.2"
  }
 },
 "nbformat": 4,
 "nbformat_minor": 5
}
